{
 "cells": [
  {
   "cell_type": "markdown",
   "metadata": {},
   "source": [
    "# Search AiiDA Database Cell optimizations"
   ]
  },
  {
   "cell_type": "code",
   "execution_count": null,
   "metadata": {},
   "outputs": [],
   "source": [
    "%aiida\n",
    "import ipywidgets as ipw\n",
    "from IPython.display import clear_output\n",
    "from apps.surfaces.widgets.search_completed_widget import SearchCompletedWidget"
   ]
  },
  {
   "cell_type": "code",
   "execution_count": null,
   "metadata": {},
   "outputs": [],
   "source": [
    "cell = ipw.Checkbox(\n",
    "    value=False,\n",
    "    description='Cell opt workchains',\n",
    "    disabled=False,\n",
    "    indent=False\n",
    ")\n",
    "output = ipw.Output()\n",
    "def select_version(_=None):\n",
    "    if cell.value:\n",
    "        s = SearchCompletedWidget(\n",
    "            wlabel='Cp2kCellOptWorkChain',\n",
    "            fields_disable={'cell': False, 'volume':False}\n",
    "        )\n",
    "    else:\n",
    "        s = SearchCompletedWidget(\n",
    "            wlabel='Cp2kBulkOptWorkChain',\n",
    "            fields_disable={'cell': False, 'volume':False}\n",
    "        )\n",
    "    with output:\n",
    "        clear_output()\n",
    "        display(ipw.VBox([cell,s]))\n",
    "        \n",
    "cell.observe(select_version, names='value')\n",
    "display(output)\n",
    "select_version()"
   ]
  }
 ],
 "metadata": {
  "kernelspec": {
   "display_name": "Python 3 (ipykernel)",
   "language": "python",
   "name": "python3"
  },
  "language_info": {
   "codemirror_mode": {
    "name": "ipython",
    "version": 3
   },
   "file_extension": ".py",
   "mimetype": "text/x-python",
   "name": "python",
   "nbconvert_exporter": "python",
   "pygments_lexer": "ipython3",
   "version": "3.7.9"
  }
 },
 "nbformat": 4,
 "nbformat_minor": 2
}
