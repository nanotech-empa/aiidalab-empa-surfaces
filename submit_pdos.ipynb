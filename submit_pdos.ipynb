{
 "cells": [
  {
   "cell_type": "code",
   "execution_count": null,
   "metadata": {},
   "outputs": [],
   "source": [
    "%%javascript\n",
    "IPython.OutputArea.prototype._should_scroll = function(lines) {\n",
    "    return false;\n",
    "}"
   ]
  },
  {
   "cell_type": "code",
   "execution_count": null,
   "metadata": {},
   "outputs": [],
   "source": [
    "# General imports.\n",
    "import ipywidgets as ipw\n",
    "from IPython.display import display, clear_output\n",
    "\n",
    "# AiiDA imports.\n",
    "%load_ext aiida\n",
    "%aiida\n",
    "from aiida import orm\n",
    "\n",
    "# AiiDAlab imports.\n",
    "import aiidalab_widgets_base as awb\n",
    "\n",
    "# Custom imports.\n",
    "from surfaces_tools.widgets import computational_resources, empa_viewer, inputs, fragments\n",
    "\n",
    "Cp2kPdosWorkChain = WorkflowFactory('nanotech_empa.cp2k.pdos')"
   ]
  },
  {
   "cell_type": "code",
   "execution_count": null,
   "metadata": {},
   "outputs": [],
   "source": [
    "# Structure selector.\n",
    "\n",
    "empa_viewer = empa_viewer.EmpaStructureViewer()\n",
    "structure_selector = awb.StructureManagerWidget(\n",
    "    viewer=empa_viewer,\n",
    "    importers=[awb.StructureUploadWidget(title=\"Import from computer\"),\n",
    "        awb.StructureBrowserWidget(title=\"AiiDA database\"),\n",
    "    ],\n",
    "    storable=False, node_class='StructureData'\n",
    ")"
   ]
  },
  {
   "cell_type": "code",
   "execution_count": null,
   "metadata": {},
   "outputs": [],
   "source": [
    "protocol = ipw.Dropdown(\n",
    "    value=\"standard\",\n",
    "    options=[(\"Standard\", \"standard\"), (\"Low accuracy\", \"low_accuracy\"),('Debug','debug')],\n",
    "    description=\"Protocol:\",\n",
    "    )\n",
    "\n",
    "uks_widget = inputs.UksSectionWidget(charge_visibility='hidden', multiplicity_visibility='hidden')\n",
    "_ = ipw.dlink((empa_viewer, 'details'), (uks_widget, 'details'))"
   ]
  },
  {
   "cell_type": "code",
   "execution_count": null,
   "metadata": {},
   "outputs": [],
   "source": [
    "style = {'description_width': '80px'}\n",
    "layout = {'width': '70%'}\n",
    "\n",
    "\n",
    "sc_diag_check = ipw.Checkbox(\n",
    "    value=False,\n",
    "    description='self-consistent diagonalization',\n",
    "    disabled=True\n",
    ")\n",
    "force_multiplicity_check = ipw.Checkbox(\n",
    "    value=True,\n",
    "    description='Fix multiplicity',\n",
    "    disabled=True\n",
    ")"
   ]
  },
  {
   "attachments": {},
   "cell_type": "markdown",
   "metadata": {},
   "source": [
    "# Select structure"
   ]
  },
  {
   "cell_type": "code",
   "execution_count": null,
   "metadata": {},
   "outputs": [],
   "source": [
    "display(structure_selector)    "
   ]
  },
  {
   "attachments": {},
   "cell_type": "markdown",
   "metadata": {},
   "source": [
    "# Select parts of the system for the projection\n",
    "\n",
    "The atoms of the molecule need to be ordered in front of the data structure for the automatic detection to work."
   ]
  },
  {
   "cell_type": "code",
   "execution_count": null,
   "metadata": {},
   "outputs": [],
   "source": [
    "# Structure fragments.\n",
    "fragment_list = fragments.FragmentList()\n",
    "ipw.dlink((uks_widget, 'uks'), (fragment_list, 'uks'))\n",
    "_ = ipw.dlink((structure_selector.viewer, 'selection'), (fragment_list, 'selection_string'), transform=lambda x: awb.utils.list_to_string_range(x))\n",
    "\n",
    "\n",
    "\n",
    "# Coordinate structure selector with spin up/down and fragments.\n",
    "def update_selection(change):\n",
    "    if change['new']:\n",
    "        try:\n",
    "            mol_indices = awb.utils.list_to_string_range(empa_viewer.details['all_molecules'][0])\n",
    "        except Exception:\n",
    "            mol_indices = \"\"\n",
    "            print(\"Unable to automatically find slab and molecule\")\n",
    "        fragment_list.fragments = [fragments.Fragment(indices=f\"1..{len(change['new'])}\", name=\"all\"), fragments.Fragment(indices=mol_indices, name=\"molecule\")]\n",
    "\n",
    "    else:\n",
    "        fragment_list.fragments = []\n",
    "\n",
    "structure_selector.observe(update_selection, names='structure')"
   ]
  },
  {
   "cell_type": "code",
   "execution_count": null,
   "metadata": {},
   "outputs": [],
   "source": [
    "# PDOS selection addition and removal\n",
    "def remove_from_tuple(tup, index):\n",
    "    tmp_list = list(tup)\n",
    "    del tmp_list[index]\n",
    "    return tuple(tmp_list)\n",
    "\n",
    "def rm_pdos_selection(b):\n",
    "    rm_index = sel_rm_list.index(b)\n",
    "    del sel_text_list[rm_index]\n",
    "    del sel_ll_list[rm_index]\n",
    "    del sel_rm_list[rm_index]\n",
    "    \n",
    "    sel_vbox.children = remove_from_tuple(sel_vbox.children, rm_index-1)\n",
    "\n",
    "def add_pdos_selection(b):\n",
    "    sel_text_list.append(ipw.Text(description='pdos selection',\n",
    "                         style=style, layout={'width': '30%'}))\n",
    "    rm_btn = ipw.Button(description='remove', layout={'width': '10%'})\n",
    "    rm_btn.on_click(rm_pdos_selection)\n",
    "    ll_txt = ipw.Text(description='label', layout={'width': '20%'})\n",
    "    sel_rm_list.append(rm_btn)\n",
    "    sel_ll_list.append(ll_txt)\n",
    "    sel_vbox.children += (ipw.HBox([sel_text_list[-1], ll_txt, rm_btn]),)"
   ]
  },
  {
   "cell_type": "code",
   "execution_count": null,
   "metadata": {},
   "outputs": [],
   "source": [
    "def get_mol_ase():\n",
    "    mol_inds = awb.utils.string_range_to_list(mol_selection.value)[0]\n",
    "    ase_struct = structure_selector.structure\n",
    "    return ase_struct[mol_inds]\n",
    "    \n",
    "def reset_state():\n",
    "    mol_selection.value = \"1..10\"\n",
    "    sel_text_list = [mol_selection]\n",
    "    sel_rm_list = [None]\n",
    "    sel_ll_list = []\n",
    "    sel_vbox = ipw.VBox([])\n",
    "    \n"
   ]
  },
  {
   "cell_type": "code",
   "execution_count": null,
   "metadata": {},
   "outputs": [],
   "source": [
    "style = {'description_width': '120px'}\n",
    "layout = {'width': '60%'}\n",
    "\n",
    "mol_selection = ipw.Text(description='Molecule selection',\n",
    "                         value=\"1..10\",\n",
    "                         style=style, layout={'width': '30%'})\n",
    "\n",
    "\n",
    "add_sel_btn = ipw.Button(description='Add pdos selection',\n",
    "                            layout={'width': '15%'})\n",
    "add_sel_btn.on_click(add_pdos_selection)\n",
    "\n",
    "sel_text_list = [mol_selection]\n",
    "sel_rm_list = [None]\n",
    "sel_ll_list = []\n",
    "sel_vbox = ipw.VBox([])\n",
    "\n",
    "display(ipw.HBox([mol_selection]), sel_vbox, add_sel_btn, fragment_list)"
   ]
  },
  {
   "attachments": {},
   "cell_type": "markdown",
   "metadata": {},
   "source": [
    "# DFT parameters"
   ]
  },
  {
   "cell_type": "code",
   "execution_count": null,
   "metadata": {},
   "outputs": [],
   "source": [
    "display(uks_widget, sc_diag_check,protocol)"
   ]
  },
  {
   "cell_type": "code",
   "execution_count": null,
   "metadata": {},
   "outputs": [],
   "source": [
    "def enable_smearing(b):\n",
    "    temperature_text.disabled = not smear_switch.value\n",
    "    force_multiplicity_check.disabled = not smear_switch.value\n",
    "\n",
    "smear_switch = ipw.ToggleButton(value=False,\n",
    "                              description='Enable Fermi-Dirac smearing',\n",
    "                              style=style, layout={'width': '450px'})\n",
    "smear_switch.observe(enable_smearing, names='value')\n",
    "\n",
    "temperature_text = ipw.FloatText(value=150.0,\n",
    "                           description='Temperature [K]',\n",
    "                           disabled=True,\n",
    "                           style={'description_width': '100px'}, layout={'width': '20%'})\n",
    "\n",
    "\n",
    "display(smear_switch, ipw.HBox([temperature_text,force_multiplicity_check]))"
   ]
  },
  {
   "attachments": {},
   "cell_type": "markdown",
   "metadata": {},
   "source": [
    "# Orbital overlap parameters"
   ]
  },
  {
   "cell_type": "code",
   "execution_count": null,
   "metadata": {},
   "outputs": [],
   "source": [
    "style = {'description_width': '140px'}\n",
    "layout_small = {'width': '30%'}\n",
    "\n",
    "num_homo_inttext = ipw.IntText(\n",
    "                    value=4,\n",
    "                    description=\"num gas HOMO\",\n",
    "                    style=style, layout=layout_small)\n",
    "num_lumo_inttext = ipw.IntText(\n",
    "                    value=4,\n",
    "                    description=\"num gas LUMO\",\n",
    "                    style=style, layout=layout_small)\n",
    "\n",
    "elim_inttext = ipw.IntText(\n",
    "                    value=4,\n",
    "                    description=\"num gas LUMO\",\n",
    "                    style=style, layout=layout_small)\n",
    "\n",
    "emin_floattext = ipw.BoundedFloatText(\n",
    "                        description='Slab system Emin (eV)',\n",
    "                        min=-3.0,\n",
    "                        max=-0.1,\n",
    "                        step=0.1,\n",
    "                        value=-2.0,\n",
    "                        style=style, layout=layout_small)\n",
    "\n",
    "emax_floattext = ipw.BoundedFloatText(\n",
    "                        description='Slab system Emax (eV)',\n",
    "                        min=0.1,\n",
    "                        max=3.0,\n",
    "                        step=0.1,\n",
    "                        value=2.0,\n",
    "                        readout_format='%.2f',\n",
    "                        style=style, layout=layout_small)\n",
    "\n",
    "display(num_homo_inttext, num_lumo_inttext, emin_floattext, emax_floattext)"
   ]
  },
  {
   "cell_type": "code",
   "execution_count": null,
   "metadata": {},
   "outputs": [],
   "source": [
    "submit_out = ipw.Output()\n",
    "def get_builder():\n",
    "    with submit_out:\n",
    "        clear_output()\n",
    "        if structure_selector.structure is None:\n",
    "            print(\"Please select a structure.\")\n",
    "            return\n",
    "        if cp2k_code.value is None:\n",
    "            print(\"Please select codes.\")\n",
    "            return\n",
    "\n",
    "\n",
    "        builder = Cp2kPdosWorkChain.get_builder()\n",
    "        builder.metadata.label = \"CP2K_PDOS\"\n",
    "        builder.protocol = orm.Str(protocol.value)\n",
    "        dft_params_dict = {\n",
    "            'elpa_switch':       elpa_check.value,\n",
    "            'uks':               uks_switch.value,\n",
    "            'sc_diag':           sc_diag_check.value,\n",
    "            'force_multiplicity': force_multiplicity_check.value,\n",
    "            'periodic':          'XYZ',\n",
    "        }\n",
    "        if uks_switch.value:\n",
    "            dft_params_dict['spin_up_guess'] = [int(v)-1 for v in spin_up_text.value.split()]\n",
    "            dft_params_dict['spin_dw_guess'] = [int(v)-1 for v in spin_dw_text.value.split()]\n",
    "            dft_params_dict['multiplicity']  = multiplicity_text.value\n",
    "            dft_params_dict['force_multiplicity']  = force_multiplicity_check.value\n",
    "\n",
    "        if smear_switch.value:\n",
    "            dft_params_dict['smear_t'] = temperature_text.value            \n",
    "        \n",
    "        dft_params = Dict(dict=dft_params_dict)\n",
    "        \n",
    "        overlap_params = Dict(dict={\n",
    "            '--cp2k_input_file1':  'parent_slab_folder/aiida.inp',\n",
    "            '--basis_set_file1':   'parent_slab_folder/BASIS_MOLOPT',\n",
    "            '--xyz_file1':         'parent_slab_folder/aiida.coords.xyz',\n",
    "            '--wfn_file1':         'parent_slab_folder/aiida-RESTART.wfn',\n",
    "            '--emin1':             str(emin_floattext.value),\n",
    "            '--emax1':             str(emax_floattext.value),\n",
    "            '--cp2k_input_file2':  'parent_mol_folder/aiida.inp',\n",
    "            '--basis_set_file2':   'parent_mol_folder/BASIS_MOLOPT',\n",
    "            '--xyz_file2':         'parent_mol_folder/aiida.coords.xyz',\n",
    "            '--wfn_file2':         'parent_mol_folder/aiida-RESTART.wfn',\n",
    "            '--nhomo2':            str(num_homo_inttext.value),\n",
    "            '--nlumo2':            str(num_lumo_inttext.value),\n",
    "            '--output_file':       './overlap.npz',\n",
    "            '--eval_region':       ['G', 'G', 'G', 'G', 'n-3.0_C', 'p2.0'],\n",
    "            '--dx':                '0.2',\n",
    "            '--eval_cutoff':       '14.0'\n",
    "        })\n",
    "                \n",
    "        struct = structure_selector.structure        \n",
    "        \n",
    "        mol_structure = orm.StructureData(ase=get_mol_ase())\n",
    "        mol_structure.description = f\"Molecule generated from pdos from slab uuid: {structure_selector.structure_node.uuid}\" \n",
    "        \n",
    "        # \n",
    "        aiida_pdos_list = List()\n",
    "        pdos_labels = ['molecule']\n",
    "        for widget in sel_ll_list:\n",
    "            pdos_labels.append(widget.value)\n",
    "        aiida_pdos_list.extend([(sel_text_list[i].value,pdos_labels[i]) for i in range(len(sel_text_list))])\n",
    "        \n",
    "        \n",
    "\n",
    "        builder.cp2k_code = orm.load_node(cp2k_code.value)\n",
    "        builder.slabsys_structure=structure_selector.structure_node\n",
    "        builder.mol_structure=mol_structure\n",
    "        builder.pdos_lists=aiida_pdos_list\n",
    "        builder.dft_params=dft_params\n",
    "        builder.overlap_code = orm.load_node(overlap_code.value)\n",
    "        builder.overlap_params=overlap_params\n",
    "\n",
    "        # Check if a restart wfn is available. To be implemented\n",
    "        wave_function = None\n",
    "        #if structure_selector.structure_node.is_stored:\n",
    "        #    wave_function = wfn.structure_available_wfn(\n",
    "        #    node=structure_selector.structure_node,\n",
    "        #    relative_replica_id=None,\n",
    "        #    current_hostname=builder.cp2k_code.computer.hostname,\n",
    "        #    return_path=False,\n",
    "        #    dft_params=dft_params_dict,\n",
    "        #    )\n",
    "        if wave_function is not None:\n",
    "            print(f\"Restarting from wfn in folder: {wave_function.pk}\")\n",
    "            builder.parent_calc_folder = wave_function        \n",
    "\n",
    "        # Resources.\n",
    "        builder.options = {\n",
    "            'slab': {\n",
    "                \"max_wallclock_seconds\": resources.walltime_seconds,\n",
    "                \"resources\": {\n",
    "                    \"num_machines\": resources.nodes,\n",
    "                    \"num_mpiprocs_per_machine\": resources.tasks_per_node,\n",
    "                    \"num_cores_per_mpiproc\": resources.threads_per_task,\n",
    "                }\n",
    "            },\n",
    "            'molecule': {\n",
    "                \"max_wallclock_seconds\": resources_mol.walltime_seconds,\n",
    "                \"resources\": {\n",
    "                    \"num_machines\": resources_mol.nodes,\n",
    "                    \"num_mpiprocs_per_machine\": resources_mol.tasks_per_node,\n",
    "                    \"num_cores_per_mpiproc\": resources_mol.threads_per_task,\n",
    "                }\n",
    "            }\n",
    "        }\n",
    "            \n",
    "    return builder\n",
    "\n",
    "btn_submit = awb.SubmitButtonWidget(Cp2kPdosWorkChain, inputs_generator=get_builder)"
   ]
  },
  {
   "attachments": {},
   "cell_type": "markdown",
   "metadata": {},
   "source": [
    "# Code and resources"
   ]
  },
  {
   "cell_type": "code",
   "execution_count": null,
   "metadata": {},
   "outputs": [],
   "source": [
    "# Code selector\n",
    "cp2k_code = awb.ComputationalResourcesWidget(description=\"CP2K code:\", default_calc_job_plugin=\"cp2k\")\n",
    "\n",
    "style = {'description_width': '140px'}\n",
    "layout = {'width': '70%'}\n",
    "\n",
    "overlap_code = awb.ComputationalResourcesWidget(description=\"Overlap code:\", default_calc_job_plugin=\"nanotech_empa.overlap\")\n",
    "\n",
    "elpa_check = ipw.Checkbox(\n",
    "    value=True,\n",
    "    description='use ELPA',\n",
    "    disabled=False\n",
    ")\n"
   ]
  },
  {
   "cell_type": "code",
   "execution_count": null,
   "metadata": {},
   "outputs": [],
   "source": [
    "# Resources estimation.\n",
    "def update_resources_for_fragments(_):\n",
    "    for fragment in fragment_list.fragments:\n",
    "        fragment.estimate_computational_resources(whole_structure=structure_selector.structure, selected_code=cp2k_code.value)\n",
    "\n",
    "estimate_resources_button = ipw.Button(description=\"Estimate resources\", button_style='warning')\n",
    "estimate_resources_button.on_click(update_resources_for_fragments)"
   ]
  },
  {
   "cell_type": "code",
   "execution_count": null,
   "metadata": {},
   "outputs": [],
   "source": [
    "display(cp2k_code, overlap_code, elpa_check, estimate_resources_button)"
   ]
  },
  {
   "attachments": {},
   "cell_type": "markdown",
   "metadata": {},
   "source": [
    "# Submission"
   ]
  },
  {
   "cell_type": "code",
   "execution_count": null,
   "metadata": {},
   "outputs": [],
   "source": [
    "text_calc_description = ipw.Text(description='Description:', layout={'width': '45%'})"
   ]
  },
  {
   "cell_type": "code",
   "execution_count": null,
   "metadata": {},
   "outputs": [],
   "source": [
    "display(text_calc_description, btn_submit, submit_out)"
   ]
  }
 ],
 "metadata": {
  "kernelspec": {
   "display_name": "Python 3 (ipykernel)",
   "language": "python",
   "name": "python3"
  },
  "language_info": {
   "codemirror_mode": {
    "name": "ipython",
    "version": 3
   },
   "file_extension": ".py",
   "mimetype": "text/x-python",
   "name": "python",
   "nbconvert_exporter": "python",
   "pygments_lexer": "ipython3",
   "version": "3.9.13"
  },
  "vscode": {
   "interpreter": {
    "hash": "d4d1e4263499bec80672ea0156c357c1ee493ec2b1c70f0acce89fc37c4a6abe"
   }
  }
 },
 "nbformat": 4,
 "nbformat_minor": 2
}
