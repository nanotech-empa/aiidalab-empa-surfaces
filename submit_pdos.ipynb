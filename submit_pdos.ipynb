{
 "cells": [
  {
   "cell_type": "markdown",
   "metadata": {},
   "source": [
    "# Submit PDOS calculation"
   ]
  },
  {
   "cell_type": "code",
   "execution_count": null,
   "metadata": {},
   "outputs": [],
   "source": [
    "%%javascript\n",
    "IPython.OutputArea.prototype._should_scroll = function(lines) {\n",
    "    return false;\n",
    "}"
   ]
  },
  {
   "cell_type": "code",
   "execution_count": null,
   "metadata": {},
   "outputs": [],
   "source": [
    "# General imports.\n",
    "import ipywidgets as ipw\n",
    "from IPython.display import display, clear_output\n",
    "\n",
    "# AiiDA imports.\n",
    "%load_ext aiida\n",
    "%aiida\n",
    "from aiida import orm, plugins\n",
    "\n",
    "# AiiDAlab imports.\n",
    "import aiidalab_widgets_base as awb\n",
    "\n",
    "# Custom imports.\n",
    "from surfaces_tools.widgets import empa_viewer, inputs, fragments, stack\n",
    "\n",
    "Cp2kPdosWorkChain = plugins.WorkflowFactory('nanotech_empa.cp2k.pdos')"
   ]
  },
  {
   "cell_type": "code",
   "execution_count": null,
   "metadata": {},
   "outputs": [],
   "source": [
    "# Structure selector.\n",
    "\n",
    "empa_viewer = empa_viewer.EmpaStructureViewer()\n",
    "structure_selector = awb.StructureManagerWidget(\n",
    "    viewer=empa_viewer,\n",
    "    importers=[awb.StructureUploadWidget(title=\"Import from computer\"),\n",
    "        awb.StructureBrowserWidget(title=\"AiiDA database\"),\n",
    "    ],\n",
    "    storable=False, node_class='StructureData'\n",
    ")"
   ]
  },
  {
   "cell_type": "code",
   "execution_count": null,
   "metadata": {},
   "outputs": [],
   "source": [
    "# Structure fragments.\n",
    "\n",
    "fragment_list = fragments.FragmentList(add_fragment_visibility='hidden')\n",
    "_ = ipw.dlink((structure_selector.viewer, 'selection'), (fragment_list, 'selection_string'), transform=lambda x: awb.utils.list_to_string_range(x))"
   ]
  },
  {
   "cell_type": "code",
   "execution_count": null,
   "metadata": {},
   "outputs": [],
   "source": [
    "# PDOS selection.\n",
    "\n",
    "class PdosSelectionWidget(stack.HorizontalItemWidget):\n",
    "\n",
    "    def __init__(self, label=\"\", indices=\"1..2\"):\n",
    "        self.selection = ipw.Text(description='Atoms selection:', value=indices, style={'description_width': 'initial'}, layout={'width': '250px'})\n",
    "        self.label = ipw.Text(description='Label:', value=label, style={'description_width': 'initial'}, layout={'width': '250px'})\n",
    "        super().__init__(children=[self.label, self.selection])\n",
    "\n",
    "class PdosListWidget(stack.VerticalStackWidget):\n",
    "    def add_item(self, _):\n",
    "        selection_string = awb.utils.list_to_string_range(structure_selector.viewer.selection)\n",
    "        self.items += (self.item_class(indices=selection_string),)\n",
    "\n",
    "projections = PdosListWidget(item_class=PdosSelectionWidget, add_button_text=\"Add projection\")\n",
    "\n",
    "def update_fragments_and_projection(change):\n",
    "    if change['new']:\n",
    "        molecule_indices = \"\"\n",
    "        try:\n",
    "            molecule_indices = awb.utils.list_to_string_range(empa_viewer.details['all_molecules'][0])\n",
    "        except Exception:\n",
    "            print(\"Unable to automatically identify the molecule\")\n",
    "        fragment_list.fragments = [fragments.Fragment(indices=f\"1..{len(change['new'])}\", name=\"all\"), fragments.Fragment(indices=molecule_indices, name=\"molecule\")]\n",
    "        projections.items = [PdosSelectionWidget(label=\"molecule\", indices=molecule_indices)]\n",
    "    else:\n",
    "        fragment_list.fragments = []\n",
    "        projections.items = []\n",
    "\n",
    "        \n",
    "structure_selector.observe(update_fragments_and_projection, names='structure')"
   ]
  },
  {
   "cell_type": "code",
   "execution_count": null,
   "metadata": {},
   "outputs": [],
   "source": [
    "# DFT parameters.\n",
    "\n",
    "style = {'description_width': 'initial'}\n",
    "\n",
    "protocol = ipw.Dropdown(\n",
    "    value=\"standard\",\n",
    "    options=[(\"Standard\", \"standard\"), (\"Low accuracy\", \"low_accuracy\"),('Debug','debug')],\n",
    "    description=\"Protocol:\",\n",
    "    )\n",
    "\n",
    "uks_widget = inputs.UksSectionWidget(charge_visibility='hidden', multiplicity_visibility='hidden')\n",
    "ipw.dlink((empa_viewer, 'details'), (uks_widget, 'details'))\n",
    "ipw.dlink((uks_widget, 'uks'), (fragment_list, 'uks'))\n",
    "\n",
    "sc_diag_check = ipw.Checkbox(\n",
    "    value=False,\n",
    "    description='self-consistent diagonalization',\n",
    "    disabled=True\n",
    ")\n",
    "force_multiplicity_check = ipw.Checkbox(\n",
    "    value=True,\n",
    "    description='Fix multiplicity',\n",
    "    disabled=True\n",
    ")\n",
    "\n",
    "def enable_smearing(b):\n",
    "    temperature_text.disabled = not smear_switch.value\n",
    "    force_multiplicity_check.disabled = not smear_switch.value\n",
    "\n",
    "smear_switch = ipw.Checkbox(value=False, description='Enable Fermi-Dirac smearing', style=style)\n",
    "smear_switch.observe(enable_smearing, names='value')\n",
    "\n",
    "temperature_text = ipw.FloatText(value=150.0,\n",
    "                           description='Temperature [K]',\n",
    "                           disabled=True,\n",
    "                           style=style)"
   ]
  },
  {
   "cell_type": "code",
   "execution_count": null,
   "metadata": {},
   "outputs": [],
   "source": [
    "# Orbital overlap parameters.\n",
    "\n",
    "style = {'description_width': 'initial'}\n",
    "layout_small = {'width': '300px'}\n",
    "\n",
    "molecule_n_homo = ipw.IntText(\n",
    "                    value=4,\n",
    "                    description=\"Molecule # HOMO:\",\n",
    "                    style=style,\n",
    "                    layout=layout_small)\n",
    "\n",
    "molecule_n_lumo = ipw.IntText(\n",
    "                    value=4,\n",
    "                    description=\"Molecule # LUMO:\",\n",
    "                    style=style, layout=layout_small\n",
    "                    )\n",
    "\n",
    "slab_emin = ipw.BoundedFloatText(\n",
    "                        description='Slab Emin (eV):',\n",
    "                        min=-3.0,\n",
    "                        max=-0.1,\n",
    "                        step=0.1,\n",
    "                        value=-2.0,\n",
    "                        style=style, layout=layout_small)\n",
    "\n",
    "slab_emax = ipw.BoundedFloatText(\n",
    "                        description='Slab Emax (eV):',\n",
    "                        min=0.1,\n",
    "                        max=3.0,\n",
    "                        step=0.1,\n",
    "                        value=2.0,\n",
    "                        readout_format='%.2f',\n",
    "                        style=style, layout=layout_small)"
   ]
  },
  {
   "cell_type": "code",
   "execution_count": null,
   "metadata": {},
   "outputs": [],
   "source": [
    "# Codes and computational resources.\n",
    "cp2k_code = awb.ComputationalResourcesWidget(description=\"CP2K code:\", default_calc_job_plugin=\"cp2k\")\n",
    "overlap_code = awb.ComputationalResourcesWidget(description=\"Overlap code:\", default_calc_job_plugin=\"nanotech_empa.overlap\")\n",
    "elpa_check = ipw.Checkbox(\n",
    "    value=True,\n",
    "    description='use ELPA',\n",
    "    disabled=False\n",
    ")\n",
    "\n",
    "def update_resources_for_fragments(_):\n",
    "    for fragment in fragment_list.fragments:\n",
    "        fragment.estimate_computational_resources(whole_structure=structure_selector.structure, selected_code=cp2k_code.value)\n",
    "\n",
    "estimate_resources_button = ipw.Button(description=\"Estimate resources\", button_style='warning')\n",
    "estimate_resources_button.on_click(update_resources_for_fragments)"
   ]
  },
  {
   "cell_type": "code",
   "execution_count": null,
   "metadata": {},
   "outputs": [],
   "source": [
    "workflow_description = ipw.Text(\n",
    "    description='Workflow description:',\n",
    "    placeholder=\"Provide the description here.\",\n",
    "    style={\"description_width\": \"initial\"},\n",
    "    layout={\"width\": \"70%\"},\n",
    "    )"
   ]
  },
  {
   "cell_type": "code",
   "execution_count": null,
   "metadata": {},
   "outputs": [],
   "source": [
    "submit_out = ipw.Output()\n",
    "def get_builder():\n",
    "    with submit_out:\n",
    "        clear_output()\n",
    "        if structure_selector.structure is None:\n",
    "            print(\"Please select a structure.\")\n",
    "            return\n",
    "\n",
    "        if cp2k_code.value is None or overlap_code.value is None:\n",
    "            print(\"Please select codes.\")\n",
    "            return\n",
    "\n",
    "\n",
    "        builder = Cp2kPdosWorkChain.get_builder()\n",
    "        builder.metadata.label = \"CP2K_PDOS\"\n",
    "        builder.metadata.description = workflow_description.value\n",
    "        builder.protocol = orm.Str(protocol.value)\n",
    "        dft_params_dict = {\n",
    "            'elpa_switch': elpa_check.value,\n",
    "            'uks': uks_widget.uks,\n",
    "            'sc_diag': sc_diag_check.value,\n",
    "            'periodic': 'XYZ',\n",
    "            \"charges\": {fragment.name.value: fragment.charge.value for fragment in fragment_list.fragments}\n",
    "        }\n",
    "\n",
    "        if uks_widget.uks:\n",
    "            dft_params_dict.update({\n",
    "                'magnetization_per_site': uks_widget.return_dict()[\"dft_params\"][\"magnetization_per_site\"],\n",
    "                'multiplicities': {fragment.name.value: fragment.multiplicity.value for fragment in fragment_list.fragments},\n",
    "                'force_multiplicity': force_multiplicity_check.value\n",
    "            })\n",
    "\n",
    "        if smear_switch.value:\n",
    "            dft_params_dict['smear_t'] = temperature_text.value            \n",
    "        \n",
    "        dft_params = orm.Dict(dict=dft_params_dict)\n",
    "        \n",
    "        overlap_params = orm.Dict(dict={\n",
    "            '--cp2k_input_file1':  'parent_slab_folder/aiida.inp',\n",
    "            '--basis_set_file1':   'parent_slab_folder/BASIS_MOLOPT',\n",
    "            '--xyz_file1':         'parent_slab_folder/aiida.coords.xyz',\n",
    "            '--wfn_file1':         'parent_slab_folder/aiida-RESTART.wfn',\n",
    "            '--emin1':             str(slab_emin.value),\n",
    "            '--emax1':             str(slab_emax.value),\n",
    "            '--cp2k_input_file2':  'parent_mol_folder/aiida.inp',\n",
    "            '--basis_set_file2':   'parent_mol_folder/BASIS_MOLOPT',\n",
    "            '--xyz_file2':         'parent_mol_folder/aiida.coords.xyz',\n",
    "            '--wfn_file2':         'parent_mol_folder/aiida-RESTART.wfn',\n",
    "            '--nhomo2':            str(molecule_n_homo.value),\n",
    "            '--nlumo2':            str(molecule_n_lumo.value),\n",
    "            '--output_file':       './overlap.npz',\n",
    "            '--eval_region':       ['G', 'G', 'G', 'G', 'n-3.0_C', 'p2.0'],\n",
    "            '--dx':                '0.2',\n",
    "            '--eval_cutoff':       '14.0'\n",
    "        })\n",
    "\n",
    "        builder.cp2k_code = orm.load_node(cp2k_code.value)\n",
    "        builder.structure = structure_selector.structure_node\n",
    "        builder.molecule_indices = orm.List(awb.utils.string_range_to_list(fragment_list.fragments[1].indices.value)[0])\n",
    "        builder.pdos_lists = orm.List([(p.selection.value, p.label.value) for p in projections.items])\n",
    "        builder.dft_params = dft_params\n",
    "        builder.overlap_code = orm.load_node(overlap_code.value)\n",
    "        builder.overlap_params = overlap_params\n",
    "\n",
    "        # Check if a restart wfn is available. To be implemented\n",
    "        wave_function = None\n",
    "        #if structure_selector.structure_node.is_stored:\n",
    "        #    wave_function = wfn.structure_available_wfn(\n",
    "        #    node=structure_selector.structure_node,\n",
    "        #    relative_replica_id=None,\n",
    "        #    current_hostname=builder.cp2k_code.computer.hostname,\n",
    "        #    return_path=False,\n",
    "        #    dft_params=dft_params_dict,\n",
    "        #    )\n",
    "        if wave_function is not None:\n",
    "            print(f\"Restarting from wfn in folder: {wave_function.pk}\")\n",
    "            builder.parent_calc_folder = wave_function        \n",
    "\n",
    "        # Resources.\n",
    "        slab_resources = fragment_list.fragments[0].resources\n",
    "        molecule_resources = fragment_list.fragments[1].resources\n",
    "        builder.options = {\n",
    "            'slab': {\n",
    "                \"max_wallclock_seconds\": slab_resources.walltime_seconds,\n",
    "                \"resources\": {\n",
    "                    \"num_machines\": slab_resources.nodes,\n",
    "                    \"num_mpiprocs_per_machine\": slab_resources.tasks_per_node,\n",
    "                    \"num_cores_per_mpiproc\": slab_resources.threads_per_task,\n",
    "                }\n",
    "            },\n",
    "            'molecule': {\n",
    "                \"max_wallclock_seconds\": molecule_resources.walltime_seconds,\n",
    "                \"resources\": {\n",
    "                    \"num_machines\": molecule_resources.nodes,\n",
    "                    \"num_mpiprocs_per_machine\": molecule_resources.tasks_per_node,\n",
    "                    \"num_cores_per_mpiproc\": molecule_resources.threads_per_task,\n",
    "                }\n",
    "            }\n",
    "        }\n",
    "            \n",
    "    return builder\n",
    "\n",
    "btn_submit = awb.SubmitButtonWidget(Cp2kPdosWorkChain, inputs_generator=get_builder)"
   ]
  },
  {
   "cell_type": "markdown",
   "metadata": {},
   "source": [
    "# Select structure"
   ]
  },
  {
   "cell_type": "code",
   "execution_count": null,
   "metadata": {},
   "outputs": [],
   "source": [
    "display(structure_selector)    "
   ]
  },
  {
   "cell_type": "markdown",
   "metadata": {},
   "source": [
    "# Select parts of the system for the projection"
   ]
  },
  {
   "cell_type": "code",
   "execution_count": null,
   "metadata": {},
   "outputs": [],
   "source": [
    "display(projections, fragment_list)\n"
   ]
  },
  {
   "cell_type": "markdown",
   "metadata": {},
   "source": [
    "# DFT parameters"
   ]
  },
  {
   "cell_type": "code",
   "execution_count": null,
   "metadata": {},
   "outputs": [],
   "source": [
    "display(protocol, uks_widget, ipw.HBox([smear_switch, temperature_text, force_multiplicity_check]))"
   ]
  },
  {
   "cell_type": "markdown",
   "metadata": {},
   "source": [
    "# Orbital overlap parameters"
   ]
  },
  {
   "cell_type": "code",
   "execution_count": null,
   "metadata": {},
   "outputs": [],
   "source": [
    "display(ipw.HBox([\n",
    "    ipw.VBox([molecule_n_homo, molecule_n_lumo], layout={'width': '45%'}),\n",
    "    ipw.VBox([slab_emin, slab_emax], layout={\"width\": \"45%\"})\n",
    "    ],\n",
    "    layout={'width': '100%'})\n",
    "    )"
   ]
  },
  {
   "cell_type": "markdown",
   "metadata": {},
   "source": [
    "# Code and resources"
   ]
  },
  {
   "cell_type": "code",
   "execution_count": null,
   "metadata": {},
   "outputs": [],
   "source": [
    "display(cp2k_code, overlap_code, elpa_check, estimate_resources_button)"
   ]
  },
  {
   "cell_type": "markdown",
   "metadata": {},
   "source": [
    "# Submission"
   ]
  },
  {
   "cell_type": "code",
   "execution_count": null,
   "metadata": {},
   "outputs": [],
   "source": [
    "display(workflow_description, btn_submit, submit_out)"
   ]
  }
 ],
 "metadata": {
  "kernelspec": {
   "display_name": "Python 3 (ipykernel)",
   "language": "python",
   "name": "python3"
  },
  "language_info": {
   "codemirror_mode": {
    "name": "ipython",
    "version": 3
   },
   "file_extension": ".py",
   "mimetype": "text/x-python",
   "name": "python",
   "nbconvert_exporter": "python",
   "pygments_lexer": "ipython3",
   "version": "3.9.13"
  },
  "vscode": {
   "interpreter": {
    "hash": "d4d1e4263499bec80672ea0156c357c1ee493ec2b1c70f0acce89fc37c4a6abe"
   }
  }
 },
 "nbformat": 4,
 "nbformat_minor": 2
}
