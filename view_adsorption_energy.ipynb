{
 "cells": [
  {
   "cell_type": "code",
   "execution_count": null,
   "id": "0",
   "metadata": {},
   "outputs": [],
   "source": [
    "%load_ext aiida\n",
    "%aiida\n",
    "import urllib.parse\n",
    "\n",
    "import ipywidgets as ipw\n",
    "import traitlets as trt\n",
    "from IPython.display import clear_output\n",
    "\n",
    "from surfaces_tools.helpers import HART_2_EV"
   ]
  },
  {
   "cell_type": "code",
   "execution_count": null,
   "id": "1",
   "metadata": {},
   "outputs": [],
   "source": [
    "class FragmentSeparationViewer(ipw.VBox):\n",
    "    pk = trt.Int(allow_none=True)\n",
    "\n",
    "    def __init__(\n",
    "        self,\n",
    "    ):\n",
    "        self.load_btn = ipw.Button(description=\"Load\")\n",
    "        self.load_btn.on_click(self.load)\n",
    "\n",
    "        wrong_syntax = ipw.HTML(\n",
    "            value=\"\"\"<i class=\"fa fa-times\" style=\"color:red;font-size:2em;\" ></i> wrong syntax\"\"\",\n",
    "            layout={\"visibility\": \"hidden\"},\n",
    "        )\n",
    "\n",
    "        self.pk_widget = ipw.Text(\n",
    "            value=\"\",\n",
    "            description=\"Workflow PK:\",\n",
    "            style={\"description_width\": \"initial\"},\n",
    "            layout={\"width\": \"200px\"},\n",
    "        )\n",
    "\n",
    "        def try_convert(value):\n",
    "            wrong_syntax.layout.visibility = \"hidden\"\n",
    "            try:\n",
    "                return int(value)\n",
    "            except ValueError:\n",
    "                wrong_syntax.layout.visibility = \"visible\"\n",
    "                return None\n",
    "\n",
    "        trt.dlink((self.pk_widget, \"value\"), (self, \"pk\"), try_convert)\n",
    "        self.output = ipw.Output()\n",
    "        super().__init__(\n",
    "            [ipw.HBox([self.pk_widget, self.load_btn, wrong_syntax]), self.output]\n",
    "        )\n",
    "\n",
    "    def load(self, _=None):\n",
    "        with self.output:\n",
    "            clear_output()\n",
    "            if not self.pk:\n",
    "                print(\"No correct pk provided\")\n",
    "                return\n",
    "            self.node = load_node(self.pk)\n",
    "            try:\n",
    "                assert self.node.process_label == \"Cp2kFragmentSeparationWorkChain\"\n",
    "\n",
    "            except Exception:\n",
    "                print(\n",
    "                    f\"Expected Cp2kFragmentSeparationWorkChain, got {type(self.node)}\"\n",
    "                )\n",
    "                return\n",
    "\n",
    "            self.parse_workchain()\n",
    "            print(self.print_results())\n",
    "\n",
    "    def print_results(self):\n",
    "        energies = self.node.outputs.energies\n",
    "        output = \"\"\n",
    "        output += f\"\"\"Adsorption energy (frozen): {round(energies[\"unrelaxed_separation_energy\"],3)*HART_2_EV:0.3f} (eV)\\n\"\"\"\n",
    "        output += f\"\"\"Adsorption energy: {round(energies[\"separation_energy\"],3)*HART_2_EV:0.3f} (eV)\\n\"\"\"\n",
    "        for fragment in self.fragment_labels:\n",
    "            energy = (\n",
    "                energies[fragment][\"unrelaxed\"] - energies[fragment][\"relaxed\"]\n",
    "            ) * HART_2_EV\n",
    "            output += f\"\"\"Deformation energy for the \"{fragment}\" fragment: {round(energy, 3)} (eV)\\n\"\"\"\n",
    "        return output\n",
    "\n",
    "    def parse_workchain(self):\n",
    "        self.fragment_labels = sorted(self.node.inputs.fragments.keys())\n",
    "        self.fragment_labels.remove(\"all\")"
   ]
  },
  {
   "cell_type": "code",
   "execution_count": null,
   "id": "2",
   "metadata": {},
   "outputs": [],
   "source": [
    "viewer = FragmentSeparationViewer()\n",
    "display(viewer)"
   ]
  },
  {
   "cell_type": "code",
   "execution_count": null,
   "id": "3",
   "metadata": {},
   "outputs": [],
   "source": [
    "# Load the URL after everything is set up.\n",
    "try:\n",
    "    url = urllib.parse.urlsplit(jupyter_notebook_url)\n",
    "    viewer.pk_widget.value = urllib.parse.parse_qs(url.query)[\"pk\"][0]\n",
    "    viewer.load()\n",
    "except Exception as exception:\n",
    "    print(exception)"
   ]
  }
 ],
 "metadata": {
  "kernelspec": {
   "display_name": "Python 3 (ipykernel)",
   "language": "python",
   "name": "python3"
  },
  "language_info": {
   "codemirror_mode": {
    "name": "ipython",
    "version": 3
   },
   "file_extension": ".py",
   "mimetype": "text/x-python",
   "name": "python",
   "nbconvert_exporter": "python",
   "pygments_lexer": "ipython3",
   "version": "3.9.13"
  }
 },
 "nbformat": 4,
 "nbformat_minor": 5
}
