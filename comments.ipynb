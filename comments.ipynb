{
 "cells": [
  {
   "cell_type": "code",
   "execution_count": null,
   "id": "described-average",
   "metadata": {},
   "outputs": [],
   "source": [
    "%aiida\n",
    "import urllib.parse as urlparse\n",
    "\n",
    "from widgets.comments import CommentsWidget"
   ]
  },
  {
   "cell_type": "code",
   "execution_count": null,
   "id": "broad-harris",
   "metadata": {},
   "outputs": [],
   "source": [
    "pk = urlparse.parse_qs(urlparse.urlsplit(jupyter_notebook_url).query)[\"pk\"][0]"
   ]
  },
  {
   "cell_type": "code",
   "execution_count": null,
   "id": "chubby-hierarchy",
   "metadata": {},
   "outputs": [],
   "source": [
    "cc = CommentsWidget(workchain=pk)"
   ]
  },
  {
   "cell_type": "code",
   "execution_count": null,
   "id": "violent-differential",
   "metadata": {},
   "outputs": [],
   "source": [
    "display(cc)"
   ]
  }
 ],
 "metadata": {
  "kernelspec": {
   "display_name": "Python 3 (ipykernel)",
   "language": "python",
   "name": "python3"
  },
  "language_info": {
   "codemirror_mode": {
    "name": "ipython",
    "version": 3
   },
   "file_extension": ".py",
   "mimetype": "text/x-python",
   "name": "python",
   "nbconvert_exporter": "python",
   "pygments_lexer": "ipython3",
   "version": "3.7.9"
  }
 },
 "nbformat": 4,
 "nbformat_minor": 5
}
