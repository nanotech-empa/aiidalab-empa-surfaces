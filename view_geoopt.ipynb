{
 "cells": [
  {
   "cell_type": "code",
   "execution_count": null,
   "metadata": {},
   "outputs": [],
   "source": [
    "%load_ext aiida\n",
    "%aiida\n",
    "import urllib.parse as urlparse\n",
    "import ipywidgets as ipw\n",
    "from surfaces_tools.widgets.empa_viewer import EmpaStructureViewer\n",
    "from surfaces_tools.widgets.comments import CommentsWidget \n",
    "from surfaces_tools.widgets.obsolete import ObsoleteWidget\n",
    "from surfaces_tools.helpers import HART_2_EV"
   ]
  },
  {
   "cell_type": "code",
   "execution_count": null,
   "metadata": {},
   "outputs": [],
   "source": [
    "pk = urlparse.parse_qs(urlparse.urlsplit(jupyter_notebook_url).query)['pk'][0]\n",
    "workcalc = load_node(pk)\n",
    "opt_structure = workcalc.outputs.output_structure"
   ]
  },
  {
   "cell_type": "markdown",
   "metadata": {},
   "source": [
    "# Equilibrium geometry"
   ]
  },
  {
   "cell_type": "code",
   "execution_count": null,
   "metadata": {},
   "outputs": [],
   "source": [
    "display(EmpaStructureViewer(structure=opt_structure))"
   ]
  },
  {
   "cell_type": "markdown",
   "metadata": {},
   "source": [
    "# Output parameters"
   ]
  },
  {
   "cell_type": "code",
   "execution_count": null,
   "metadata": {},
   "outputs": [],
   "source": [
    "info = ipw.HTML()\n",
    "display(info)\n",
    "energy = workcalc.outputs.output_parameters.get_dict()['energy'] \n",
    "energy_scf = workcalc.outputs.output_parameters.get_dict()['energy_scf']\n",
    "dispersion_energy_au = workcalc.outputs.output_parameters.get_dict()['motion_step_info']['dispersion_energy_au'][-1]\n",
    "dft_type = workcalc.outputs.output_parameters.get_dict()['dft_type']\n",
    "run_type = workcalc.outputs.output_parameters.get_dict()['run_type']\n",
    "\n",
    "html = \"<b>Energy:</b> %s (Hartree), %s (eV)<br>\" % (energy, round((energy*HART_2_EV),3))\n",
    "html += \"<b>Energy scf:</b> %s (Hartree), %s (eV) <br>\" % (energy_scf, round((energy_scf*HART_2_EV),3))\n",
    "if dispersion_energy_au is not None:\n",
    "   html += \"<b>Dispersion Energy:</b> %s (Hartree), %s (eV)<br>\" % (dispersion_energy_au, round((dispersion_energy_au*HART_2_EV),3))\n",
    "# patch for wrong gap in the parser\n",
    "gap =[]\n",
    "with workcalc.outputs.retrieved.open('aiida.out') as fhandle:\n",
    "    lines = fhandle.readlines()\n",
    "for line in lines:\n",
    "    if line.startswith(' HOMO - LUMO gap'):\n",
    "        gap.append(float(line.split()[-1]))\n",
    "if dft_type == 'UKS':\n",
    "  html +=  \"<b>Gap spin1: </b> %s (eV)<br>\" % round(gap[0],3)\n",
    "  html +=  \"<b>Gap spin2: </b> %s (eV)<br>\" % round(gap[1],3)\n",
    "else:\n",
    "   html +=  \"<b>Gap: </b> %s (eV)<br>\" % round(gap[0],3)\n",
    "# end patch\n",
    "if run_type == 'CELL_OPT':\n",
    "   html +=  \"<b>Cell a (A): </b> %s <br>\" % workcalc.outputs.output_parameters.get_dict()['motion_step_info']['cell_a_angs'][-1]\n",
    "   html +=  \"<b>Cell b (A): </b> %s <br>\" % workcalc.outputs.output_parameters.get_dict()['motion_step_info']['cell_b_angs'][-1]\n",
    "   html +=  \"<b>Cell c (A): </b> %s <br>\" % workcalc.outputs.output_parameters.get_dict()['motion_step_info']['cell_c_angs'][-1]\n",
    "   html +=  \"<b>alpha (DEG): </b> %s <br>\" % workcalc.outputs.output_parameters.get_dict()['motion_step_info']['cell_alp_deg'][-1]\n",
    "   html +=  \"<b>beta (DEG): </b> %s <br>\" % workcalc.outputs.output_parameters.get_dict()['motion_step_info']['cell_bet_deg'][-1]\n",
    "   html +=  \"<b>gamma (DEG): </b> %s <br>\" % workcalc.outputs.output_parameters.get_dict()['motion_step_info']['cell_gam_deg'][-1]\n",
    "   html +=  \"<b>Pressure (bar): </b> %s <br>\" % workcalc.outputs.output_parameters.get_dict()['motion_step_info']['pressure_bar'][-1]\n",
    "\n",
    "info.value=html\n"
   ]
  },
  {
   "cell_type": "markdown",
   "metadata": {},
   "source": [
    "# Comments"
   ]
  },
  {
   "cell_type": "code",
   "execution_count": null,
   "metadata": {},
   "outputs": [],
   "source": [
    "comments_widget=CommentsWidget(workchain=pk)\n",
    "display(comments_widget)"
   ]
  },
  {
   "cell_type": "markdown",
   "metadata": {},
   "source": [
    "# Mark calculation as obsolete "
   ]
  },
  {
   "cell_type": "code",
   "execution_count": null,
   "metadata": {},
   "outputs": [],
   "source": [
    "obsolete = ObsoleteWidget(workchain=pk)\n",
    "display(obsolete)"
   ]
  }
 ],
 "metadata": {
  "kernelspec": {
   "display_name": "Python 3 (ipykernel)",
   "language": "python",
   "name": "python3"
  },
  "language_info": {
   "codemirror_mode": {
    "name": "ipython",
    "version": 3
   },
   "file_extension": ".py",
   "mimetype": "text/x-python",
   "name": "python",
   "nbconvert_exporter": "python",
   "pygments_lexer": "ipython3",
   "version": "3.9.13"
  }
 },
 "nbformat": 4,
 "nbformat_minor": 2
}
