{
 "cells": [
  {
   "cell_type": "code",
   "execution_count": null,
   "metadata": {},
   "outputs": [],
   "source": [
    "%load_ext aiida\n",
    "%aiida\n",
    "\n",
    "import urllib.parse as urlparse\n",
    "\n",
    "import ase\n",
    "import ipywidgets as ipw\n",
    "\n",
    "# import pymol_render.render as pr\n",
    "import matplotlib\n",
    "import matplotlib.font_manager as font_manager\n",
    "import matplotlib.patheffects as path_effects\n",
    "import matplotlib.pyplot as plt\n",
    "import numpy as np\n",
    "from aiida import orm\n",
    "from aiida_nanotech_empa.utils import cycle_tools as cyc\n",
    "from aiidalab_widgets_base import viewer\n",
    "from matplotlib.patches import Polygon, Rectangle\n",
    "\n",
    "from surfaces_tools import helpers\n",
    "from surfaces_tools.widgets import comments, obsolete"
   ]
  },
  {
   "cell_type": "code",
   "execution_count": null,
   "metadata": {},
   "outputs": [],
   "source": [
    "pk = urlparse.parse_qs(urlparse.urlsplit(jupyter_notebook_url).query)[\"pk\"][0]\n",
    "workcalc = orm.load_node(pk)"
   ]
  },
  {
   "cell_type": "code",
   "execution_count": null,
   "metadata": {},
   "outputs": [],
   "source": [
    "ase_atoms = workcalc.outputs.output_structure.get_ase()\n",
    "ase_atoms_no_h_x = ase.Atoms(\n",
    "    [a for a in ase_atoms if a.symbol != \"H\" and a.symbol != \"X\"]\n",
    ")"
   ]
  },
  {
   "cell_type": "code",
   "execution_count": null,
   "metadata": {},
   "outputs": [],
   "source": [
    "try:\n",
    "    height = workcalc.inputs.height.value\n",
    "except:\n",
    "    height = 1.0"
   ]
  },
  {
   "cell_type": "code",
   "execution_count": null,
   "metadata": {},
   "outputs": [],
   "source": [
    "cycles = cyc.dumb_cycle_detection(ase_atoms_no_h_x, 8)\n",
    "centers, normals = cyc.find_cycle_centers_and_normals(ase_atoms_no_h_x, cycles, height)"
   ]
  },
  {
   "cell_type": "code",
   "execution_count": null,
   "metadata": {},
   "outputs": [],
   "source": [
    "nics_atoms = [\n",
    "    atom.index\n",
    "    for atom in workcalc.outputs.output_structure.get_ase()\n",
    "    if atom.symbol == \"X\"\n",
    "]\n",
    "sigma_arr = np.array(workcalc.outputs.output_parameters.dict.nmr_tensors)[\n",
    "    nics_atoms, :, :\n",
    "]\n",
    "nics_zz_arr = []\n",
    "nics_arr = []\n",
    "for i_x in range(len(sigma_arr)):\n",
    "    normal = normals[i_x]\n",
    "    # normal = np.array([0.0, 0.0, 1.0])\n",
    "    sigma = sigma_arr[i_x]\n",
    "    nics_zz = -1.0 * np.dot(np.dot(normal, sigma), normal)\n",
    "    # nics_zz = 0.5 * (nics_zz + -1.0*np.dot(np.dot(normal, sigma_2[i_x]), normal))\n",
    "    nics_zz_arr.append(nics_zz)\n",
    "    nics_arr.append(-1.0 * np.sum(np.diag(sigma)) / 3)"
   ]
  },
  {
   "cell_type": "markdown",
   "metadata": {},
   "source": [
    "# NICS"
   ]
  },
  {
   "cell_type": "code",
   "execution_count": null,
   "metadata": {},
   "outputs": [],
   "source": [
    "# average nics per cycle\n",
    "\n",
    "# np.mean(nics_zz_arr)"
   ]
  },
  {
   "cell_type": "code",
   "execution_count": null,
   "metadata": {},
   "outputs": [],
   "source": [
    "n_digits = 0"
   ]
  },
  {
   "cell_type": "code",
   "execution_count": null,
   "metadata": {},
   "outputs": [],
   "source": [
    "ase_orient = ase_atoms\n",
    "ase_orient_no_h_x = ase.Atoms(\n",
    "    [a for a in ase_orient if a.symbol != \"H\" and a.symbol != \"X\"]\n",
    ")\n",
    "\n",
    "orient_cycles = cyc.dumb_cycle_detection(ase_orient_no_h_x, 8)\n",
    "o_centers, o_normals = cyc.find_cycle_centers_and_normals(\n",
    "    ase_orient_no_h_x, cycles, height\n",
    ")"
   ]
  },
  {
   "cell_type": "code",
   "execution_count": null,
   "metadata": {},
   "outputs": [],
   "source": [
    "# ase BBOX\n",
    "x_min = np.min(ase_orient.positions[:, 0])\n",
    "x_max = np.max(ase_orient.positions[:, 0])\n",
    "y_min = np.min(ase_orient.positions[:, 1])\n",
    "y_max = np.max(ase_orient.positions[:, 1])"
   ]
  },
  {
   "cell_type": "code",
   "execution_count": null,
   "metadata": {},
   "outputs": [],
   "source": [
    "bond_i_arr, bond_j_arr = ase.neighborlist.neighbor_list(\"ij\", ase_orient_no_h_x, 1.8)"
   ]
  },
  {
   "cell_type": "code",
   "execution_count": null,
   "metadata": {},
   "outputs": [],
   "source": [
    "fig_x = (x_max - x_min + 2.0) / 2.5\n",
    "fig_y = (y_max - y_min + 2.0) / 2.5\n",
    "\n",
    "font = font_manager.FontProperties(fname=\"./miscellaneous/arial.ttf\")\n",
    "\n",
    "plt.figure(figsize=(fig_x, fig_y))\n",
    "ax = plt.gca()\n",
    "ax.set_aspect(\"equal\")\n",
    "\n",
    "# -------------------------------------------------------------------\n",
    "# ATOMS\n",
    "# for at in ase_atoms_no_h_x:\n",
    "#    pos = at.position\n",
    "#    circ = plt.Circle(pos[:2], 0.08, color='black', zorder=10)\n",
    "#    ax.add_artist(circ)\n",
    "# -------------------------------------------------------------------\n",
    "\n",
    "# -------------------------------------------------------------------\n",
    "# BONDS\n",
    "\n",
    "# b_cmap_name = 'seismic_r'\n",
    "# b_cmap_name = 'bwr_r'\n",
    "# b_cmap = matplotlib.cm.get_cmap(b_cmap_name)\n",
    "#\n",
    "# b_max = benz_bond + 0.08\n",
    "# b_min = benz_bond - 0.08\n",
    "\n",
    "for bond_i, bond_j in zip(bond_i_arr, bond_j_arr):\n",
    "    if bond_i < bond_j:\n",
    "        p1 = ase_orient_no_h_x[bond_i].position\n",
    "        p2 = ase_orient_no_h_x[bond_j].position\n",
    "        dist = np.linalg.norm(p1 - p2)\n",
    "\n",
    "        ax.plot(\n",
    "            [p1[0], p2[0]],\n",
    "            [p1[1], p2[1]],\n",
    "            color=\"k\",\n",
    "            linewidth=1.0,\n",
    "            solid_capstyle=\"round\",\n",
    "        )\n",
    "        # ax.plot([p1[0], p2[0]], [p1[1], p2[1]], color=rgb, linewidth=3.0, solid_capstyle='round')\n",
    "\n",
    "\n",
    "# -------------------------------------------------------------------\n",
    "# NICS\n",
    "\n",
    "cmap_name = \"bwr_r\"\n",
    "# cmap_name = 'seismic_r'\n",
    "cmap = matplotlib.colormaps.get_cmap(cmap_name)\n",
    "\n",
    "cmap_min = -40\n",
    "cmap_max = 40\n",
    "\n",
    "for nics_val, cycl in zip(nics_zz_arr, orient_cycles):\n",
    "\n",
    "    nics_norm = (nics_val - cmap_min) / (cmap_max - cmap_min)\n",
    "    rgba = cmap(nics_norm)\n",
    "\n",
    "    points = []\n",
    "    for i_at in cycl:\n",
    "        points.append(ase_orient_no_h_x[i_at].position[:2])\n",
    "\n",
    "    polygon = Polygon(np.array(points), closed=True, color=rgba, zorder=1)\n",
    "    ax.add_artist(polygon)\n",
    "\n",
    "# -------------------------------------------------------------------\n",
    "\n",
    "plt.axis(\"off\")\n",
    "plt.xlim([x_min, x_max])\n",
    "plt.ylim([y_min, y_max])\n",
    "# plt.savefig(\"./fig/%s.png\" % label, dpi=400, bbox_inches='tight', transparent=True)\n",
    "# plt.savefig(\"./fig/%s.pdf\" % label, bbox_inches='tight', transparent=True)\n",
    "\n",
    "# -------------------------------------------------------------------\n",
    "# NICS text\n",
    "for nics_val, cntr in zip(nics_zz_arr, o_centers):\n",
    "\n",
    "    # circ = Circle((cntr[0], cntr[1]), radius=0.02, color='black', zorder=1)\n",
    "    # ax.add_artist(circ)\n",
    "\n",
    "    if n_digits == 0:\n",
    "        val_txt = \"%.0f\" % int(np.round(nics_val))\n",
    "    else:\n",
    "        val_txt = (\"%.\" + str(n_digits) + \"f\") % nics_val\n",
    "\n",
    "    # txt = plt.text(cntr[0], cntr[1]-0.15, val_txt, horizontalalignment='center',\n",
    "    #               verticalalignment='baseline', color='black', fontproperties=font,\n",
    "    #               fontdict={'size': 24})\n",
    "    #              #bbox=dict(color='red'))\n",
    "\n",
    "    font_h = 0.35  # font size 24\n",
    "    font_h = 0.28  # font size 20\n",
    "\n",
    "    col = \"black\"\n",
    "    if nics_val > 20.0 or nics_val < -50:\n",
    "        col = \"white\"\n",
    "    txt = plt.text(\n",
    "        cntr[0],\n",
    "        cntr[1] - font_h,\n",
    "        val_txt,\n",
    "        horizontalalignment=\"center\",\n",
    "        verticalalignment=\"baseline\",\n",
    "        color=col,\n",
    "        fontdict={\"size\": 20},\n",
    "    )\n",
    "    # if nics_val > 20.0:\n",
    "    #    txt.set_path_effects([path_effects.Stroke(linewidth=2, foreground='black'),\n",
    "    #                   path_effects.Normal()])\n",
    "    # bbox = txt.get_window_extent().inverse_transformed(plt.gca().transData)\n",
    "    # print(bbox.y1 - bbox.y0)\n",
    "    # txt.set_path_effects([path_effects.Stroke(linewidth=1.5, foreground='black'),\n",
    "    #                   path_effects.Normal()])\n",
    "\n",
    "# -------------------------------------------------------------------\n",
    "\n",
    "# plt.savefig(\"./fig/%s_txt.png\" % label, dpi=400, bbox_inches='tight', transparent=True)\n",
    "# plt.savefig(\"./fig/%s_txt.pdf\" % label, bbox_inches='tight', transparent=True)\n",
    "\n",
    "plt.show()"
   ]
  },
  {
   "cell_type": "markdown",
   "metadata": {},
   "source": [
    "# Comments"
   ]
  },
  {
   "cell_type": "code",
   "execution_count": null,
   "metadata": {},
   "outputs": [],
   "source": [
    "comments_widget = comments.CommentsWidget(workchain=pk)\n",
    "display(comments_widget)"
   ]
  },
  {
   "cell_type": "markdown",
   "metadata": {},
   "source": [
    "# Mark calculation as obsolete "
   ]
  },
  {
   "cell_type": "code",
   "execution_count": null,
   "metadata": {},
   "outputs": [],
   "source": [
    "obsolete = obsolete.ObsoleteWidget(workchain=pk)\n",
    "display(obsolete)"
   ]
  }
 ],
 "metadata": {
  "kernelspec": {
   "display_name": "Python 3 (ipykernel)",
   "language": "python",
   "name": "python3"
  },
  "language_info": {
   "codemirror_mode": {
    "name": "ipython",
    "version": 3
   },
   "file_extension": ".py",
   "mimetype": "text/x-python",
   "name": "python",
   "nbconvert_exporter": "python",
   "pygments_lexer": "ipython3",
   "version": "3.9.13"
  }
 },
 "nbformat": 4,
 "nbformat_minor": 2
}
