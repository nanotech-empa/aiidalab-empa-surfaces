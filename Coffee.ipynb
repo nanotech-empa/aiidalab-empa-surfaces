{
 "cells": [
  {
   "cell_type": "code",
   "execution_count": null,
   "id": "9f5cd529",
   "metadata": {},
   "outputs": [],
   "source": [
    "%load_ext aiida\n",
    "%aiida"
   ]
  },
  {
   "cell_type": "code",
   "execution_count": null,
   "id": "b500fd8e",
   "metadata": {},
   "outputs": [],
   "source": [
    "# General imports.\n",
    "import numpy as np\n",
    "import re\n",
    "from datetime import datetime\n",
    "import ipywidgets as ipw\n",
    "from IPython.display import clear_output\n",
    "\n",
    "from aiida.engine import ExitCode, ToContext, WorkChain, calcfunction"
   ]
  },
  {
   "cell_type": "code",
   "execution_count": null,
   "id": "6dff0318",
   "metadata": {},
   "outputs": [],
   "source": [
    "# validate e-mail\n",
    "\n",
    "def validemail(s):\n",
    "    pat = \"^[a-zA-Z0-9-_]+\\.[a-zA-Z0-9-_]+@[a-zA-Z0-9]+\\.[a-z]{1,3}$\"\n",
    "    if re.match(pat,s):\n",
    "        return True\n",
    "    return False"
   ]
  },
  {
   "cell_type": "code",
   "execution_count": null,
   "id": "a6b2939b",
   "metadata": {},
   "outputs": [],
   "source": [
    "style = {'description_width': '160px'}\n",
    "layout = {'width': '40%'}\n",
    "output = ipw.Output()\n",
    "add_person = ipw.Button(description='Add person')\n",
    "\n",
    "name = ipw.Text(description='Name and Surname',style=style, layout=layout)\n",
    "email = ipw.Text(description='e-mail',style=style, layout=layout)\n",
    "startdate = ipw.DatePicker(description='date',value=datetime.now(),style=style, layout=layout)\n",
    "display(ipw.VBox([startdate,name,email, add_person,output]))\n",
    "\n",
    "\n",
    "\n",
    "@calcfunction\n",
    "def new_person(name,email,startdate):\n",
    "    return Dict({'name':name.value,'email':email.value,'started':startdate.value})\n",
    "    \n",
    "#def guess_email(b):\n",
    "#    if name.value != '':\n",
    "#        splitname=name.value.split\n",
    "#        email.value=splitname[0]+'.'+splitname[1]+'@empa.ch'\n",
    "\n",
    "\n",
    "\n",
    "\n",
    "def on_add_person_clicked(b):\n",
    "    with output:\n",
    "        clear_output()\n",
    "        if validemail(email.value) and startdate.value is not None and name.value != '':\n",
    "            #new_person(Str(description.value),Str(startdate.value.ctime()), Str(email.value))\n",
    "            new = new_person(Str(name.value),Str(email.value),Str(startdate.value.ctime()))\n",
    "            new.label = 'nanotech@coffee'\n",
    "            print(\"Added\",new['name'],'starting from: ',new['started'],'pk:',new.pk )\n",
    "            \n",
    "#name.observe(guess_email)\n",
    "add_person.on_click(on_add_person_clicked)"
   ]
  },
  {
   "cell_type": "markdown",
   "id": "6f351ee3",
   "metadata": {},
   "source": [
    "# Actions"
   ]
  },
  {
   "cell_type": "code",
   "execution_count": null,
   "id": "ea3fa99b",
   "metadata": {},
   "outputs": [],
   "source": [
    "@calcfunction\n",
    "def new_event(person,datei,datef,event,description,amount):\n",
    "    person.set_extra(datetime.now().ctime(),{'event':event.value,'dates':[datei.value,datef.value],'description':description.value,'amount':amount.value})"
   ]
  },
  {
   "cell_type": "code",
   "execution_count": null,
   "id": "804c698d",
   "metadata": {},
   "outputs": [],
   "source": [
    "event = ipw.Dropdown(options=['Bought coffee','Add cash','Request cash','absent'],\n",
    "                     description='Possible actions',style=style, layout=layout)\n",
    "date = ipw.DatePicker(description='date',value=datetime.now(),style=style, layout=layout)\n",
    "datef = ipw.DatePicker(description='date2',value=datetime.now(),style=style, layout=layout)\n",
    "description = ipw.Text(description='Description',style=style, layout=layout)\n",
    "amount = ipw.FloatText(description='Amount',style=style, layout=layout)\n",
    "who = ipw.Dropdown(options=[],description='Person',style=style, layout=layout)\n",
    "\n",
    "apply = ipw.Button(description='Apply')\n",
    "\n",
    "available_cash = 10\n",
    "\n",
    "def date_is_valid(date,person):\n",
    "    if 'left' in person.extras:\n",
    "        dateleft = datetime.strptime(person['left'], '%a %b %d %H:%M:%S %Y')\n",
    "    else:\n",
    "        dateleft = datetime.strptime('Sun Feb 12 15:48:05 2040', '%a %b %d %H:%M:%S %Y')\n",
    "    return datetime.strptime(person['started'], '%a %b %d %H:%M:%S %Y') < datetime.strptime(date.ctime(), '%a %b %d %H:%M:%S %Y') < dateleft\n",
    "\n",
    "def on_apply_clicked(b):\n",
    "    with output:\n",
    "        clear_output()\n",
    "        person = load_node(who.value)\n",
    "        if date_is_valid(date.value,person) and date_is_valid(datef.value,person):\n",
    "            if event.value == 'Request cash' and amount.value > available_cash:\n",
    "                print(\"Not enough cash available\")\n",
    "            elif event.value == 'absent':\n",
    "                amount.value = np.busday_count(date.value.strftime(\"%Y-%m-%d\"),datef.value.strftime(\"%Y-%m-%d\"))\n",
    "                new_event(person,Str(date.value.ctime()),Str(datef.value.ctime()),Str(event.value),Str(description.value),Float(amount.value))\n",
    "                print(\"Added\",event.value,'on',date.value.ctime(),'for',person['name'],'amount:',amount.value)\n",
    "        else:\n",
    "            print(\"Dates not valid for \", person['name'])\n",
    "apply.on_click(on_apply_clicked)"
   ]
  },
  {
   "cell_type": "code",
   "execution_count": null,
   "id": "55c8ef67",
   "metadata": {},
   "outputs": [],
   "source": [
    "display(ipw.VBox([ipw.HBox([date,datef]),event,description,amount,who,apply,output]))"
   ]
  },
  {
   "cell_type": "code",
   "execution_count": null,
   "id": "a1f4b71c",
   "metadata": {},
   "outputs": [],
   "source": [
    "#filters[\"ctime\"] = {\"and\": [{\"<=\": end_date}, {\">\": start_date}]}\n",
    "\n",
    "qb = QueryBuilder()\n",
    "qb.append(Node, filters={\n",
    "    'label': {'in': ['nanotech@coffee']}\n",
    "})\n",
    "##qb.order_by({WorkChainNode:{'ctime':'asc'}})"
   ]
  },
  {
   "cell_type": "code",
   "execution_count": null,
   "id": "25742417",
   "metadata": {},
   "outputs": [],
   "source": [
    "options=[]\n",
    "for node_tuple in qb.iterall():\n",
    "    node = node_tuple[0]\n",
    "    options.append((node['name'],node.pk))\n",
    "who.options = options"
   ]
  }
 ],
 "metadata": {
  "kernelspec": {
   "display_name": "Python 3 (ipykernel)",
   "language": "python",
   "name": "python3"
  },
  "language_info": {
   "codemirror_mode": {
    "name": "ipython",
    "version": 3
   },
   "file_extension": ".py",
   "mimetype": "text/x-python",
   "name": "python",
   "nbconvert_exporter": "python",
   "pygments_lexer": "ipython3",
   "version": "3.9.13"
  },
  "vscode": {
   "interpreter": {
    "hash": "d4d1e4263499bec80672ea0156c357c1ee493ec2b1c70f0acce89fc37c4a6abe"
   }
  }
 },
 "nbformat": 4,
 "nbformat_minor": 5
}
