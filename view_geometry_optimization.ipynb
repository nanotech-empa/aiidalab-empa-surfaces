{
 "cells": [
  {
   "cell_type": "code",
   "execution_count": null,
   "metadata": {},
   "outputs": [],
   "source": [
    "%load_ext aiida\n",
    "%aiida\n",
    "import urllib.parse as urlparse\n",
    "\n",
    "import ipywidgets as ipw\n",
    "from aiida import orm\n",
    "from aiidalab_widgets_base import viewer\n",
    "\n",
    "from surfaces_tools import helpers\n",
    "from surfaces_tools.widgets import comments, obsolete"
   ]
  },
  {
   "cell_type": "code",
   "execution_count": null,
   "metadata": {},
   "outputs": [],
   "source": [
    "pk = urlparse.parse_qs(urlparse.urlsplit(jupyter_notebook_url).query)[\"pk\"][0]\n",
    "workcalc = orm.load_node(pk)\n",
    "opt_structure = workcalc.outputs.output_structure"
   ]
  },
  {
   "cell_type": "markdown",
   "metadata": {},
   "source": [
    "# Equilibrium geometry"
   ]
  },
  {
   "cell_type": "code",
   "execution_count": null,
   "metadata": {},
   "outputs": [],
   "source": [
    "display(viewer(opt_structure))"
   ]
  },
  {
   "cell_type": "markdown",
   "metadata": {},
   "source": [
    "# Output parameters"
   ]
  },
  {
   "cell_type": "code",
   "execution_count": null,
   "metadata": {},
   "outputs": [],
   "source": [
    "info = ipw.HTML()\n",
    "display(info)\n",
    "energy = workcalc.outputs.output_parameters.get_dict()[\"energy\"]\n",
    "energy_scf = workcalc.outputs.output_parameters.get_dict()[\"energy_scf\"]\n",
    "try:\n",
    "    dispersion_energy_au = workcalc.outputs.output_parameters.get_dict()[\n",
    "        \"motion_step_info\"\n",
    "    ][\"dispersion_energy_au\"][-1]\n",
    "except IndexError:\n",
    "    dispersion_energy_au = None\n",
    "dft_type = workcalc.outputs.output_parameters.get_dict()[\"dft_type\"]\n",
    "run_type = workcalc.outputs.output_parameters.get_dict()[\"run_type\"]\n",
    "\n",
    "html = f\"<b>Equilibrim geometry PK-{opt_structure.pk}</b> <br>\"\n",
    "html += \"<b>Energy:</b> {} (Hartree), {} (eV)<br>\".format(\n",
    "    energy, round((energy * helpers.HART_2_EV), 3)\n",
    ")\n",
    "html += \"<b>Energy scf:</b> {} (Hartree), {} (eV) <br>\".format(\n",
    "    energy_scf, round((energy_scf * helpers.HART_2_EV), 3)\n",
    ")\n",
    "if dispersion_energy_au is not None:\n",
    "    html += \"<b>Dispersion Energy:</b> {} (Hartree), {} (eV)<br>\".format(\n",
    "        dispersion_energy_au, round((dispersion_energy_au * helpers.HART_2_EV), 3)\n",
    "    )\n",
    "# patch for wrong gap in the parser\n",
    "gap = []\n",
    "with workcalc.outputs.retrieved.open(\"aiida.out\") as fhandle:\n",
    "    lines = fhandle.readlines()\n",
    "for line in lines:\n",
    "    if line.startswith(\" HOMO - LUMO gap\"):\n",
    "        gap.append(float(line.split()[-1]))\n",
    "if dft_type == \"UKS\":\n",
    "    html += \"<b>Gap spin1: </b> %s (eV)<br>\" % round(gap[0], 3)\n",
    "    html += \"<b>Gap spin2: </b> %s (eV)<br>\" % round(gap[1], 3)\n",
    "else:\n",
    "    html += \"<b>Gap: </b> %s (eV)<br>\" % round(gap[0], 3)\n",
    "# end patch\n",
    "if run_type == \"CELL_OPT\":\n",
    "    html += (\n",
    "        \"<b>Cell a (A): </b> %s <br>\"\n",
    "        % workcalc.outputs.output_parameters.get_dict()[\"motion_step_info\"][\n",
    "            \"cell_a_angs\"\n",
    "        ][-1]\n",
    "    )\n",
    "    html += (\n",
    "        \"<b>Cell b (A): </b> %s <br>\"\n",
    "        % workcalc.outputs.output_parameters.get_dict()[\"motion_step_info\"][\n",
    "            \"cell_b_angs\"\n",
    "        ][-1]\n",
    "    )\n",
    "    html += (\n",
    "        \"<b>Cell c (A): </b> %s <br>\"\n",
    "        % workcalc.outputs.output_parameters.get_dict()[\"motion_step_info\"][\n",
    "            \"cell_c_angs\"\n",
    "        ][-1]\n",
    "    )\n",
    "    html += (\n",
    "        \"<b>alpha (DEG): </b> %s <br>\"\n",
    "        % workcalc.outputs.output_parameters.get_dict()[\"motion_step_info\"][\n",
    "            \"cell_alp_deg\"\n",
    "        ][-1]\n",
    "    )\n",
    "    html += (\n",
    "        \"<b>beta (DEG): </b> %s <br>\"\n",
    "        % workcalc.outputs.output_parameters.get_dict()[\"motion_step_info\"][\n",
    "            \"cell_bet_deg\"\n",
    "        ][-1]\n",
    "    )\n",
    "    html += (\n",
    "        \"<b>gamma (DEG): </b> %s <br>\"\n",
    "        % workcalc.outputs.output_parameters.get_dict()[\"motion_step_info\"][\n",
    "            \"cell_gam_deg\"\n",
    "        ][-1]\n",
    "    )\n",
    "    html += (\n",
    "        \"<b>Pressure (bar): </b> %s <br>\"\n",
    "        % workcalc.outputs.output_parameters.get_dict()[\"motion_step_info\"][\n",
    "            \"pressure_bar\"\n",
    "        ][-1]\n",
    "    )\n",
    "\n",
    "info.value = html"
   ]
  },
  {
   "cell_type": "markdown",
   "metadata": {},
   "source": [
    "# Comments"
   ]
  },
  {
   "cell_type": "code",
   "execution_count": null,
   "metadata": {},
   "outputs": [],
   "source": [
    "comments_widget = comments.CommentsWidget(workchain=pk)\n",
    "display(comments_widget)"
   ]
  },
  {
   "cell_type": "markdown",
   "metadata": {},
   "source": [
    "# Mark calculation as obsolete "
   ]
  },
  {
   "cell_type": "code",
   "execution_count": null,
   "metadata": {},
   "outputs": [],
   "source": [
    "obsolete = obsolete.ObsoleteWidget(workchain=pk)\n",
    "display(obsolete)"
   ]
  }
 ],
 "metadata": {
  "kernelspec": {
   "display_name": "Python 3 (ipykernel)",
   "language": "python",
   "name": "python3"
  },
  "language_info": {
   "codemirror_mode": {
    "name": "ipython",
    "version": 3
   },
   "file_extension": ".py",
   "mimetype": "text/x-python",
   "name": "python",
   "nbconvert_exporter": "python",
   "pygments_lexer": "ipython3",
   "version": "3.9.13"
  }
 },
 "nbformat": 4,
 "nbformat_minor": 2
}
