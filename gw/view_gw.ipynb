{
 "cells": [
  {
   "cell_type": "code",
   "execution_count": null,
   "id": "7e1204d1",
   "metadata": {},
   "outputs": [],
   "source": [
    "%aiida"
   ]
  },
  {
   "cell_type": "code",
   "execution_count": null,
   "id": "091cd035",
   "metadata": {},
   "outputs": [],
   "source": [
    "import ipywidgets as ipw\n",
    "from IPython.display import clear_output\n",
    "import urllib.parse\n",
    "\n",
    "import postprocess as pp"
   ]
  },
  {
   "cell_type": "code",
   "execution_count": null,
   "id": "86577dae",
   "metadata": {},
   "outputs": [],
   "source": [
    "load_output = ipw.Output()\n",
    "main_output = ipw.Output()\n",
    "style = {'description_width': '70px'}\n",
    "layout = {'width': '70%'}\n",
    "\n",
    "pk_select = ipw.Text(value=\"\", description='list of pks', style=style, layout=layout)\n",
    "load_btn = ipw.Button(description=\"Load\")"
   ]
  },
  {
   "cell_type": "code",
   "execution_count": null,
   "id": "a6a8394d",
   "metadata": {},
   "outputs": [],
   "source": [
    "display(ipw.VBox([pk_select,load_output,load_btn,main_output]))"
   ]
  },
  {
   "cell_type": "code",
   "execution_count": null,
   "id": "512568e2",
   "metadata": {},
   "outputs": [],
   "source": [
    "def show_results(wc_list):\n",
    "    with main_output:\n",
    "        print()\n",
    "        pp.table(wc_list, mode='scf')\n",
    "        print()\n",
    "        pp.table(wc_list, mode='gw')\n",
    "        print()\n",
    "        \n",
    "        pp.make_levels_plot(wc_list, mode='gw', energy_ref_i=0)\n",
    "    \n",
    "\n",
    "def load_pk(b):\n",
    "    with load_output:\n",
    "        clear_output()\n",
    "    with main_output:\n",
    "        clear_output()\n",
    "    try:\n",
    "        pk_list = [int(x) for x in pk_select.value.split()]\n",
    "    except:\n",
    "        with load_output:\n",
    "            print(\"pk list needs to be a list of integers.\")\n",
    "            return\n",
    "    \n",
    "    wc_list = []\n",
    "    with load_output:\n",
    "        print(\"Loaded PKs:\")\n",
    "        for pk in pk_list:\n",
    "            try:\n",
    "                workcalc = load_node(pk=pk)\n",
    "                assert workcalc.process_label == 'Cp2kMoleculeOptGwWorkChain'\n",
    "                print('Loaded calc: ', pk)\n",
    "                print('Description: ', workcalc.description)\n",
    "                wc_list.append(workcalc)\n",
    "            except:\n",
    "                print(f\"Incorrect pk {pk}\")\n",
    "    \n",
    "    show_results(wc_list)\n",
    "    \n",
    "load_btn.on_click(load_pk)"
   ]
  },
  {
   "cell_type": "code",
   "execution_count": null,
   "id": "4fa7c4bf",
   "metadata": {},
   "outputs": [],
   "source": [
    "### Load the URL after everything is set up ###\n",
    "try:\n",
    "    url = urllib.parse.urlsplit(jupyter_notebook_url)\n",
    "    pk_select.value = urllib.parse.parse_qs(url.query)['pk'][0]\n",
    "    load_pk(0)\n",
    "except:\n",
    "    pass"
   ]
  }
 ],
 "metadata": {
  "kernelspec": {
   "display_name": "Python 3",
   "language": "python",
   "name": "python3"
  },
  "language_info": {
   "codemirror_mode": {
    "name": "ipython",
    "version": 3
   },
   "file_extension": ".py",
   "mimetype": "text/x-python",
   "name": "python",
   "nbconvert_exporter": "python",
   "pygments_lexer": "ipython3",
   "version": "3.7.9"
  }
 },
 "nbformat": 4,
 "nbformat_minor": 5
}
