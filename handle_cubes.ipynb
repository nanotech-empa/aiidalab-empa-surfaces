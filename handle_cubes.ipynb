{
 "cells": [
  {
   "cell_type": "markdown",
   "metadata": {},
   "source": [
    "# Handle Cube Files"
   ]
  },
  {
   "cell_type": "code",
   "execution_count": null,
   "metadata": {},
   "outputs": [],
   "source": [
    "%%javascript\n",
    "IPython.OutputArea.prototype._should_scroll = function(lines) {\n",
    "    return false;\n",
    "}"
   ]
  },
  {
   "cell_type": "code",
   "execution_count": null,
   "metadata": {},
   "outputs": [],
   "source": [
    "# AiiDA imports.\n",
    "%load_ext aiida\n",
    "%aiida\n",
    "\n",
    "import urllib\n",
    "\n",
    "import traitlets as tl\n",
    "\n",
    "from surfaces_tools.widgets import cube  # import DisplayRenderedCubes, HandleCubeFiles"
   ]
  },
  {
   "cell_type": "code",
   "execution_count": null,
   "metadata": {},
   "outputs": [],
   "source": [
    "cube_files = cube.HandleCubeFiles()\n",
    "url = urllib.parse.urlsplit(jupyter_notebook_url)\n",
    "nel_up = None\n",
    "nel_dw = None\n",
    "try:\n",
    "    pk = int(urllib.parse.parse_qs(url.query)[\"pk\"][0])\n",
    "    wc = load_node(pk)\n",
    "    if wc.caller.label == \"CP2K_ORBITALS\":\n",
    "        UKS = wc.caller.outputs.dft_output_parameters[\"dft_type\"] == \"UKS\"\n",
    "        nel_up = int(wc.caller.outputs.dft_output_parameters[\"init_nel_spin1\"])\n",
    "        nel_dw = int(wc.caller.outputs.dft_output_parameters[\"init_nel_spin2\"])\n",
    "        if UKS:\n",
    "            cube_files.nel_up = nel_up\n",
    "            cube_files.nel_dw = nel_dw\n",
    "            cube_files.uks = True\n",
    "        else:\n",
    "            cube_files.nel_up = nel_up\n",
    "    elif wc.caller.label == \"CP2K_GeoOpt\":\n",
    "        UKS = wc.caller.outputs.output_parameters[\"dft_type\"] == \"UKS\"\n",
    "        nel_up = int(wc.caller.outputs.output_parameters[\"init_nel_spin1\"])\n",
    "        nel_dw = int(wc.caller.outputs.output_parameters[\"init_nel_spin2\"])\n",
    "        if UKS:\n",
    "            cube_files.nel_up = nel_up\n",
    "            cube_files.nel_dw = nel_dw\n",
    "            cube_files.uks = True\n",
    "        else:\n",
    "            cube_files.nel_up = nel_up\n",
    "    cube_files.node_pk = pk\n",
    "except KeyError:\n",
    "    pass\n",
    "display(cube_files)"
   ]
  },
  {
   "cell_type": "code",
   "execution_count": null,
   "metadata": {},
   "outputs": [],
   "source": [
    "display_images = cube.DisplayRenderedCubes()\n",
    "tl.dlink((cube_files, \"remote_data_uuid\"), (display_images, \"remote_data_uuid\"))\n",
    "display(display_images)"
   ]
  }
 ],
 "metadata": {
  "kernelspec": {
   "display_name": "Python 3 (ipykernel)",
   "language": "python",
   "name": "python3"
  },
  "language_info": {
   "codemirror_mode": {
    "name": "ipython",
    "version": 3
   },
   "file_extension": ".py",
   "mimetype": "text/x-python",
   "name": "python",
   "nbconvert_exporter": "python",
   "pygments_lexer": "ipython3",
   "version": "3.9.13"
  }
 },
 "nbformat": 4,
 "nbformat_minor": 2
}
