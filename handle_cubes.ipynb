{
 "cells": [
  {
   "cell_type": "code",
   "execution_count": null,
   "metadata": {},
   "outputs": [],
   "source": [
    "%%javascript\n",
    "IPython.OutputArea.prototype._should_scroll = function(lines) {\n",
    "    return false;\n",
    "}"
   ]
  },
  {
   "cell_type": "code",
   "execution_count": null,
   "metadata": {},
   "outputs": [],
   "source": [
    "# AiiDA imports.\n",
    "%load_ext aiida\n",
    "%aiida\n",
    "\n",
    "import ipywidgets as ipw\n",
    "from IPython.display import display, clear_output\n",
    "\n",
    "import nglview\n",
    "import traitlets as tl\n",
    "\n",
    "from cubehandler import Cube\n",
    "import tempfile\n",
    "import io\n",
    "import os\n",
    "import numpy as np\n",
    "import ase.io.cube"
   ]
  },
  {
   "cell_type": "code",
   "execution_count": null,
   "metadata": {},
   "outputs": [],
   "source": [
    "ANG_2_BOHR = 1.889725989"
   ]
  },
  {
   "cell_type": "code",
   "execution_count": null,
   "metadata": {},
   "outputs": [],
   "source": [
    "node = load_node(6793)"
   ]
  },
  {
   "cell_type": "code",
   "execution_count": null,
   "metadata": {},
   "outputs": [],
   "source": []
  },
  {
   "cell_type": "code",
   "execution_count": null,
   "metadata": {},
   "outputs": [],
   "source": [
    "class CubeArrayData3dViewerWidget(ipw.VBox):\n",
    "    \"\"\"Widget to View 3-dimensional AiiDA ArrayData object in 3D.\"\"\"\n",
    "\n",
    "    cube = tl.Instance(Cube, allow_none=True)\n",
    "\n",
    "    def __init__(self, **kwargs):\n",
    "        self.data_3d = None\n",
    "        self.structure = None\n",
    "        self.viewer = nglview.NGLWidget()\n",
    "        self.orb_isosurf_slider = ipw.FloatSlider(\n",
    "            continuous_update=False,\n",
    "            value=1e-3,\n",
    "            min=1e-4,\n",
    "            max=1e-2,\n",
    "            step=1e-4,\n",
    "            description=\"Isovalue\",\n",
    "            readout_format=\".1e\",\n",
    "        )\n",
    "        self.orb_isosurf_slider.observe(\n",
    "            lambda c: self.set_cube_isosurf([c[\"new\"], -c[\"new\"]], [\"red\", \"blue\"]),\n",
    "            names=\"value\",\n",
    "        )\n",
    "        super().__init__([self.viewer, self.orb_isosurf_slider], **kwargs)\n",
    "\n",
    "    @tl.observe(\"cube\")\n",
    "    def on_observe_cube(self, _=None):\n",
    "        \"\"\"Update object attributes when cube trait is modified.\"\"\"\n",
    "\n",
    "        self.data_3d = self.cube.data\n",
    "        self.structure = self.cube.ase_atoms\n",
    "        self.update_plot()\n",
    "\n",
    "    def update_plot(self):\n",
    "        \"\"\"Update the 3D plot.\"\"\"\n",
    "        while hasattr(self.viewer, \"component_0\"):\n",
    "            self.viewer.component_0.clear_representations()\n",
    "            self.viewer.remove_component(self.viewer.component_0.id)\n",
    "        self.setup_cube_plot()\n",
    "        self.set_cube_isosurf(\n",
    "            [\n",
    "                self.orb_isosurf_slider.value,\n",
    "                -self.orb_isosurf_slider.value,\n",
    "            ],\n",
    "            [\"red\", \"blue\"],\n",
    "        )\n",
    "\n",
    "    def setup_cube_plot(self):\n",
    "        \"\"\"Setup cube plot.\"\"\"\n",
    "        n_repeat = 2\n",
    "        atoms_xn = self.structure.repeat((n_repeat, 1, 1))\n",
    "        data_xn = np.tile(self.data_3d, (n_repeat, 1, 1))\n",
    "        self.viewer.add_component(nglview.ASEStructure(atoms_xn))\n",
    "        with tempfile.NamedTemporaryFile(mode=\"w\") as tempf:\n",
    "            ase.io.cube.write_cube(tempf, atoms_xn, data_xn)\n",
    "            c_2 = self.viewer.add_component(tempf.name, ext=\"cube\")\n",
    "            c_2.clear()\n",
    "\n",
    "    def set_cube_isosurf(self, isovals, colors):\n",
    "        \"\"\"Set cube isosurface.\"\"\"\n",
    "        if hasattr(self.viewer, \"component_1\"):\n",
    "            c_2 = self.viewer.component_1\n",
    "            c_2.clear()\n",
    "            for isov, col in zip(isovals, colors):\n",
    "                c_2.add_surface(color=col, isolevelType=\"value\", isolevel=isov)"
   ]
  },
  {
   "cell_type": "code",
   "execution_count": null,
   "metadata": {},
   "outputs": [],
   "source": [
    "class HandleCubeFiles(ipw.VBox):\n",
    "    def __init__(self, node):\n",
    "        self.node = node\n",
    "        self.button = ipw.Button(description=\"List cube files\")\n",
    "        self.button.on_click(self.list_cube_files)\n",
    "        self.output = ipw.Output()\n",
    "        self.show_selected = ipw.Button(description=\"Show selected cube\")\n",
    "        self.show_selected.on_click(self.show_selected_cube)\n",
    "        self.dict_cube_files = {}\n",
    "        super().__init__([self.button, self.show_selected, self.output])\n",
    "\n",
    "    def list_cube_files(self, _):\n",
    "        # Keep only the files that end with .cube\n",
    "        cube_files = [f for f in node.listdir() if f.endswith('.cube')]\n",
    "        with self.output:\n",
    "            clear_output()\n",
    "            for f in cube_files:\n",
    "                cube_selector = ipw.Checkbox(description=f, value=True, description_width='initial')\n",
    "                display(cube_selector)\n",
    "                self.dict_cube_files[f] = cube_selector\n",
    "        return\n",
    "    \n",
    "    def show_selected_cube(self, _):\n",
    "        for name, widget in self.dict_cube_files.items():\n",
    "            if widget.value:\n",
    "                # Create temporary folder and store a file in it using tempfile library\n",
    "                tempdir = tempfile.TemporaryDirectory()\n",
    "                fpath = os.path.join(tempdir.name, name)\n",
    "                node.getfile(name, fpath)\n",
    "                cube = Cube.from_file(fpath)\n",
    "                viewer = CubeArrayData3dViewerWidget(cube=cube)\n",
    "                display(viewer)"
   ]
  },
  {
   "cell_type": "code",
   "execution_count": null,
   "metadata": {},
   "outputs": [],
   "source": [
    "cube_files = HandleCubeFiles(node)\n",
    "\n",
    "display(cube_files)"
   ]
  }
 ],
 "metadata": {
  "kernelspec": {
   "display_name": "Python 3 (ipykernel)",
   "language": "python",
   "name": "python3"
  },
  "language_info": {
   "codemirror_mode": {
    "name": "ipython",
    "version": 3
   },
   "file_extension": ".py",
   "mimetype": "text/x-python",
   "name": "python",
   "nbconvert_exporter": "python",
   "pygments_lexer": "ipython3",
   "version": "3.9.13"
  }
 },
 "nbformat": 4,
 "nbformat_minor": 2
}
