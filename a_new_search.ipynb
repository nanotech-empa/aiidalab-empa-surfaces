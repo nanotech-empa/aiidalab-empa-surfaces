{
 "cells": [
  {
   "cell_type": "code",
   "execution_count": null,
   "id": "0ce72c0a",
   "metadata": {},
   "outputs": [],
   "source": [
    "%load_ext aiida\n",
    "%aiida"
   ]
  },
  {
   "cell_type": "code",
   "execution_count": null,
   "id": "95d3c611",
   "metadata": {},
   "outputs": [],
   "source": [
    "import ipywidgets as ipw\n",
    "from aiida.orm import StructureData\n",
    "from datetime import datetime"
   ]
  },
  {
   "cell_type": "code",
   "execution_count": null,
   "id": "1d46b17e",
   "metadata": {},
   "outputs": [],
   "source": [
    "qb = QueryBuilder()\n",
    "qb.append(StructureData, filters={\n",
    "    \"extras\": {\"has_key\": \"surfaces\"}}\n",
    ")"
   ]
  },
  {
   "cell_type": "code",
   "execution_count": null,
   "id": "b24ac364",
   "metadata": {},
   "outputs": [],
   "source": [
    "#        filters={\n",
    "#            \"attributes.process_label\": {\"in\": workchain_list},\n",
    "#            \"or\": [\n",
    "#                {\"extras\": {\"!has_key\": \"preprocess_version\"}},\n",
    "#                {\"extras.preprocess_version\": {\"<\": PREPROCESS_VERSION}},\n",
    "#            ],\n",
    "#        },\n",
    "#    )\n",
    "qb.order_by({StructureData: {\"ctime\": \"asc\"}})"
   ]
  },
  {
   "cell_type": "code",
   "execution_count": null,
   "id": "497e6195",
   "metadata": {},
   "outputs": [],
   "source": [
    "table = ipw.HTML()\n",
    "display(table)"
   ]
  },
  {
   "cell_type": "code",
   "execution_count": null,
   "id": "7166c897",
   "metadata": {},
   "outputs": [],
   "source": [
    "# html table header\n",
    "html = \"<style>#aiida_results td,th {padding: 2px}</style>\"\n",
    "html += '<table border=1 id=\"aiida_results\" style=\"margin:0px\"><tr>'\n",
    "#html += \"<th>PK</th>\"\n",
    "html += \"<th>Creation Time</th>\"\n",
    "html+= \"Calc. Type\"\n",
    "html += \"<th >Description</th>\"\n",
    "html += \"<th >Thumbnail</th>\"\n",
    "html += \"</tr>\""
   ]
  },
  {
   "cell_type": "code",
   "execution_count": null,
   "id": "d8005d3a",
   "metadata": {},
   "outputs": [],
   "source": [
    "def thunmnail_raw(thumbnail=None,uuid=None,pk=None,description=''):\n",
    "    # image with a link to structure export\n",
    "    \n",
    "    html = (\n",
    "        '<td><a target=\"_blank\" href=\"./export_structure.ipynb?uuid=%s\">'\n",
    "        % uuid\n",
    "    )\n",
    "    html += (\n",
    "        '<img width=\"100px\" src=\"data:image/png;base64,%s\" title=\"PK%d: %s\">'\n",
    "        % (thumbnail, pk, description)\n",
    "    )\n",
    "    html += \"</a></td>\"\n",
    "    return html\n",
    "def link_to_viewer(description='',uuid=''):\n",
    "    return '<a target=\"_blank\" href=\"./export_structure.ipynb?uuid=%s\"> %s </a></td>'% (uuid,description)\n",
    "    "
   ]
  },
  {
   "cell_type": "code",
   "execution_count": null,
   "id": "4d8f6f6f",
   "metadata": {},
   "outputs": [],
   "source": [
    "# date type description thumb\n",
    "for node_tuple in qb.iterall():\n",
    "    node = node_tuple[0]\n",
    "    html+= '<tr>' # beginning raw\n",
    "    #\n",
    "    html+='<th> %s </th>' % node.ctime.ctime()\n",
    "    html+='<th>' # start list of calculations done on same geo\n",
    "    for key in node.extras['surfaces']:\n",
    "        html+='%s<br>' % key # e.g. \"geo_opt\"\n",
    "        html+='</th>'\n",
    "        html+='<th><ul>'\n",
    "        for uuid in node.extras['surfaces'][key]: # e.g. list of all geo_opt\n",
    "            html+='<li>' + link_to_viewer(load_node(uuid).description,uuid) + '</li>'\n",
    "            \n",
    "    html+='</ul></th>' # end list of calculations for a specific geo\n",
    "    html+=thunmnail_raw(thumbnail=node.extras['thumbnail'],uuid=node.uuid,pk=node.pk,description='')\n",
    "    html+='</th>'\n",
    "    #\n",
    "    html+='</tr>' # end raw"
   ]
  }
 ],
 "metadata": {
  "kernelspec": {
   "display_name": "Python 3 (ipykernel)",
   "language": "python",
   "name": "python3"
  },
  "language_info": {
   "codemirror_mode": {
    "name": "ipython",
    "version": 3
   },
   "file_extension": ".py",
   "mimetype": "text/x-python",
   "name": "python",
   "nbconvert_exporter": "python",
   "pygments_lexer": "ipython3",
   "version": "3.9.13"
  }
 },
 "nbformat": 4,
 "nbformat_minor": 5
}
