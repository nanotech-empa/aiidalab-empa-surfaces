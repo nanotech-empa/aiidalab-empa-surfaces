{
 "cells": [
  {
   "cell_type": "code",
   "execution_count": 1,
   "id": "0ce72c0a",
   "metadata": {},
   "outputs": [
    {
     "data": {
      "application/json": {
       "current_state": "Loaded AiiDA DB environment - profile name: default."
      },
      "text/html": [
       "<p>Loaded AiiDA DB environment - profile name: default.</p>"
      ],
      "text/latex": [
       "Loaded AiiDA DB environment - profile name: default.\n"
      ],
      "text/plain": [
       "Loaded AiiDA DB environment - profile name: default.\n"
      ]
     },
     "execution_count": 1,
     "metadata": {},
     "output_type": "execute_result"
    }
   ],
   "source": [
    "%load_ext aiida\n",
    "%aiida"
   ]
  },
  {
   "cell_type": "code",
   "execution_count": 2,
   "id": "95d3c611",
   "metadata": {},
   "outputs": [],
   "source": [
    "import ipywidgets as ipw\n",
    "from aiida.orm import StructureData\n",
    "from datetime import datetime\n",
    "import jinja2"
   ]
  },
  {
   "cell_type": "code",
   "execution_count": 3,
   "id": "1d46b17e",
   "metadata": {},
   "outputs": [
    {
     "data": {
      "text/plain": [
       "QueryBuilder(path=[{'entity_type': 'data.core.structure.StructureData.', 'orm_base': 'node', 'tag': 'StructureData_1', 'joining_keyword': None, 'joining_value': None, 'edge_tag': None, 'outerjoin': False}], filters={'StructureData_1': {'node_type': {'like': 'data.core.structure.%'}, 'extras': {'has_key': 'surfaces'}}}, project={'StructureData_1': []}, order_by=[], limit=None, offset=None, distinct=False)"
      ]
     },
     "execution_count": 3,
     "metadata": {},
     "output_type": "execute_result"
    }
   ],
   "source": [
    "qb = QueryBuilder()\n",
    "qb.append(StructureData, filters={\n",
    "    \"extras\": {\"has_key\": \"surfaces\"}}\n",
    ")"
   ]
  },
  {
   "cell_type": "code",
   "execution_count": 4,
   "id": "dbc0b361",
   "metadata": {},
   "outputs": [
    {
     "data": {
      "text/plain": [
       "QueryBuilder(path=[{'entity_type': 'data.core.structure.StructureData.', 'orm_base': 'node', 'tag': 'StructureData_1', 'joining_keyword': None, 'joining_value': None, 'edge_tag': None, 'outerjoin': False}], filters={'StructureData_1': {'node_type': {'like': 'data.core.structure.%'}, 'extras': {'has_key': 'surfaces'}}}, project={'StructureData_1': []}, order_by=[{'StructureData_1': [{'mtime': {'order': 'desc'}}]}], limit=None, offset=None, distinct=False)"
      ]
     },
     "execution_count": 4,
     "metadata": {},
     "output_type": "execute_result"
    }
   ],
   "source": [
    "#        filters={\n",
    "#            \"attributes.process_label\": {\"in\": workchain_list},\n",
    "#            \"or\": [\n",
    "#                {\"extras\": {\"!has_key\": \"preprocess_version\"}},\n",
    "#                {\"extras.preprocess_version\": {\"<\": PREPROCESS_VERSION}},\n",
    "#            ],\n",
    "#        },\n",
    "#    )\n",
    "qb.order_by({StructureData: {\"mtime\": \"desc\"}})"
   ]
  },
  {
   "cell_type": "code",
   "execution_count": 5,
   "id": "497e6195",
   "metadata": {},
   "outputs": [
    {
     "data": {
      "application/vnd.jupyter.widget-view+json": {
       "model_id": "43592e7a2ba74afd9821a3d629c1764b",
       "version_major": 2,
       "version_minor": 0
      },
      "text/plain": [
       "HTML(value='')"
      ]
     },
     "metadata": {},
     "output_type": "display_data"
    }
   ],
   "source": [
    "table = ipw.HTML()\n",
    "display(table)"
   ]
  },
  {
   "cell_type": "code",
   "execution_count": 17,
   "id": "d8005d3a",
   "metadata": {},
   "outputs": [],
   "source": [
    "def thunmnail_raw(nrows=1,thumbnail=None,uuid=None,pk=None,description=''):\n",
    "    # image with a link to structure export\n",
    "    \n",
    "    html = (\n",
    "        '<td rowspan=%s><a target=\"_blank\" href=\"./export_structure.ipynb?uuid=%s\">'\n",
    "        %(str(nrows),uuid)\n",
    "    )\n",
    "    html += (\n",
    "        '<img width=\"100px\" src=\"data:image/png;base64,%s\" title=\"PK%d: %s\">'\n",
    "        % (thumbnail, pk, description)\n",
    "    )\n",
    "    html += \"</a></td>\"\n",
    "    return html\n",
    "def link_to_viewer(description='',uuid=''):\n",
    "    return '<li><a target=\"_blank\" href=\"./export_structure.ipynb?uuid=%s\"> %s </a></li>'% (uuid,description)\n",
    "def nodes_to_dict(nodes):\n",
    "        dict_workchains = {}\n",
    "        for node in nodes:\n",
    "            if node.label in dict_workchains:\n",
    "                dict_workchains[node.label].append(node)\n",
    "            else:\n",
    "                dict_workchains[node.label] = [node]\n",
    "\n",
    "        return dict_workchains\n",
    "            "
   ]
  },
  {
   "cell_type": "code",
   "execution_count": 18,
   "id": "4d8f6f6f",
   "metadata": {},
   "outputs": [],
   "source": [
    "# date type description thumb\n",
    "data = []\n",
    "for node_tuple in qb.iterall():\n",
    "    node = node_tuple[0]\n",
    "    workflows_uuids = []\n",
    "    for key in node.extras['surfaces']:\n",
    "        for uuid in node.extras['surfaces'][key]: # e.g. list of all geo_opt\n",
    "            workflows_uuids.append(load_node(uuid)) \n",
    "    dict_uuids = nodes_to_dict(workflows_uuids)\n",
    "    nrows = sum([len(dict_uuids[k]) for k in dict_uuids])\n",
    "    entry = {\n",
    "        \"nrows\" : nrows,\n",
    "        \"mtime\": node.mtime.strftime(\"%d/%m/%y\"),\n",
    "        \"workflows\": dict_uuids,\n",
    "        \"thumbnail\":thunmnail_raw(nrows=nrows,thumbnail=node.extras['thumbnail'],uuid=node.uuid,pk=node.pk,description='')\n",
    "    }\n",
    "    \n",
    "    data.append(entry)"
   ]
  },
  {
   "cell_type": "code",
   "execution_count": 19,
   "id": "b1f8b5cc",
   "metadata": {},
   "outputs": [
    {
     "data": {
      "application/vnd.jupyter.widget-view+json": {
       "model_id": "43592e7a2ba74afd9821a3d629c1764b",
       "version_major": 2,
       "version_minor": 0
      },
      "text/plain": [
       "HTML(value='<style>#aiida_results td,th {padding: 2px}</style>\\n<table border=1 id=\"aiida_results\" style=\"marg…"
      ]
     },
     "metadata": {},
     "output_type": "display_data"
    }
   ],
   "source": [
    "#template = jinja2.Template(html_template)\n",
    "#table.value=template.render(data=data)\n",
    "display(table)"
   ]
  },
  {
   "cell_type": "code",
   "execution_count": null,
   "id": "2fcf7b32",
   "metadata": {},
   "outputs": [],
   "source": [
    "table.value=\"\"\"\n",
    "<style>#aiida_results td,th {padding: 2px}</style>\n",
    "<table border=1 id=\"aiida_results\" style=\"margin:0px\">\n",
    "<thead>\n",
    "  <tr>\n",
    "    <th >Date</th>\n",
    "    <th >WOrK</th>\n",
    "    <th >Desc</th>\n",
    "    <th >TH</th>\n",
    "  </tr>\n",
    "</thead>\n",
    "<tbody>\n",
    "  <tr>\n",
    "    <td rowspan=\"5\">Feb</td>\n",
    "    <td rowspan=\"3\">Ge</td>\n",
    "    <td rowspan=\"3\">1<br>2<br>3</td> r1\n",
    "    <td rowspan=\"5\">tum</td>\n",
    "  </tr>\n",
    "  \n",
    "   <tr>\n",
    "  </tr> r2 \n",
    "  \n",
    "\n",
    "  <tr> r3\n",
    "  </tr>\n",
    "  \n",
    "  <tr>\n",
    "    <td  rowspan=\"2\">St</td> r4\n",
    "    <td  rowspan=\"2\">1<br>2</td>\n",
    "  </tr>\n",
    "  \n",
    "  <tr>\n",
    "  </tr> r5\n",
    "  \n",
    "  <tr>\n",
    "    <td  rowspan=\"4\">Set</td> \n",
    "    <td  rowspan=\"2\">St</td>\n",
    "    <td  rowspan=\"2\">1<br> 2</td>\n",
    "    <td  rowspan=\"4\">tum</td>\n",
    "  </tr>\n",
    "  <tr>\n",
    "  </tr>\n",
    "  <tr>\n",
    "    <td >Ge</td>\n",
    "    <td >10</td>\n",
    "  </tr>\n",
    "  <tr>\n",
    "    <td >AF</td>\n",
    "    <td >1</td>\n",
    "  </tr>\n",
    "  <tr>\n",
    "    <td  rowspan=\"2\">Nov</td>\n",
    "    <td  rowspan=\"2\">st</td>\n",
    "    <td  rowspan=\"2\">10<br>20</td>\n",
    "    <td  rowspan=\"2\">tum</td>\n",
    "  </tr>\n",
    "  <tr>\n",
    "  </tr>\n",
    "</tbody>\n",
    "</table>\n",
    "\"\"\""
   ]
  },
  {
   "cell_type": "code",
   "execution_count": 30,
   "id": "7955e434",
   "metadata": {},
   "outputs": [
    {
     "name": "stdout",
     "output_type": "stream",
     "text": [
      "test description 73\n",
      "a new opt 109\n",
      "test description 90\n",
      "test description 56\n",
      "test description 39\n",
      "test description 22\n",
      "test description 5\n"
     ]
    }
   ],
   "source": [
    "html = \"\"\"<style>#aiida_results td,th {padding: 2px}</style>\n",
    "<table border=1 id=\"aiida_results\" style=\"margin:0px\">\n",
    "<thead>\n",
    "  <tr>\n",
    "    <th >Date last</th>\n",
    "    <th >Calc. Type</th>\n",
    "    <th >Description</th>\n",
    "    <th >Thumbnail</th>\n",
    "  </tr>\n",
    "</thead>\n",
    "<tbody>\"\"\"\n",
    "for entry in data:\n",
    "    nrows1 = entry['nrows']\n",
    "    nrows_done = 0\n",
    "    html += '<tr>'\n",
    "    html += '<td rowspan=%s> %s  </td>' %(str(nrows1),entry['mtime'])\n",
    "    for workflow in entry['workflows']:\n",
    "        nrowsw = len(entry['workflows'][workflow])\n",
    "        html += '<td rowspan=%s>  %s </td>' %(str(nrowsw),workflow)\n",
    "        html+= '<td><ul>'\n",
    "        for node in entry['workflows'][workflow]:\n",
    "            print(node.description,node.pk)\n",
    "            html += link_to_viewer(description='PK-'+str(node.pk)+' '+node.description,uuid=node.uuid)\n",
    "        html += '</td></ul>'\n",
    "        if nrows_done == 0:\n",
    "            html += entry['thumbnail']\n",
    "            nrows_done = 1\n",
    "        for tr_empty in range(1,nrowsw):\n",
    "            html += '<tr></tr>'\n",
    "    html += '</tr>'\n",
    "html += '</tbody></table>'\n",
    "\n",
    "    \n",
    "    "
   ]
  },
  {
   "cell_type": "code",
   "execution_count": null,
   "id": "67a697b5",
   "metadata": {},
   "outputs": [],
   "source": [
    "a={'a':[1,2,3],'b':[10,20]}\n",
    "sum([len(a[k]) for k in a])"
   ]
  },
  {
   "cell_type": "code",
   "execution_count": null,
   "id": "98cfc277",
   "metadata": {},
   "outputs": [],
   "source": [
    "entry = data[0]"
   ]
  },
  {
   "cell_type": "code",
   "execution_count": null,
   "id": "84d81752",
   "metadata": {},
   "outputs": [],
   "source": [
    "sum([len(entry['workflows'][k]) for k in entry['workflows']])"
   ]
  },
  {
   "cell_type": "code",
   "execution_count": null,
   "id": "8eaedd58",
   "metadata": {},
   "outputs": [],
   "source": [
    "for workflow in entry['workflows']:\n",
    "    nrowsw = len(entry['workflows'][workflow])\n",
    "    print(nrowsw)"
   ]
  },
  {
   "cell_type": "code",
   "execution_count": null,
   "id": "01df9016",
   "metadata": {},
   "outputs": [],
   "source": [
    "for i in range(1,2):\n",
    "    print(i)"
   ]
  },
  {
   "cell_type": "code",
   "execution_count": 15,
   "id": "8000c851",
   "metadata": {},
   "outputs": [],
   "source": [
    "table.value = html"
   ]
  },
  {
   "cell_type": "code",
   "execution_count": 27,
   "id": "1acb614d",
   "metadata": {},
   "outputs": [],
   "source": [
    "node = load_node('149cec55-1690-4358-9460-d4f39648a0c5')"
   ]
  },
  {
   "cell_type": "code",
   "execution_count": 28,
   "id": "07920be4",
   "metadata": {},
   "outputs": [
    {
     "data": {
      "text/plain": [
       "'<li><a target=\"_blank\" href=\"./export_structure.ipynb?uuid=149cec55-1690-4358-9460-d4f39648a0c5\"> PK-73 test description </a></li>'"
      ]
     },
     "execution_count": 28,
     "metadata": {},
     "output_type": "execute_result"
    }
   ],
   "source": [
    "link_to_viewer(description='PK-'+str(node.pk)+' '+node.description,uuid=node.uuid)"
   ]
  },
  {
   "cell_type": "code",
   "execution_count": 24,
   "id": "ddbb07c7",
   "metadata": {},
   "outputs": [
    {
     "data": {
      "text/plain": [
       "''"
      ]
     },
     "execution_count": 24,
     "metadata": {},
     "output_type": "execute_result"
    }
   ],
   "source": [
    "node.description"
   ]
  },
  {
   "cell_type": "code",
   "execution_count": 26,
   "id": "9665f430",
   "metadata": {},
   "outputs": [
    {
     "data": {
      "text/plain": [
       "{'test': 'something',\n",
       " 'formula': 'Si8',\n",
       " 'surfaces': {'geo_opt': ['149cec55-1690-4358-9460-d4f39648a0c5',\n",
       "   'eb9c6a76-3f8d-43bb-9639-f70ee5fa4785']},\n",
       " 'thumbnail': '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',\n",
       " '_aiida_hash': '3cd4c011c1fc654386ac449f5de526a25b005ff9b8a8ec6b941e428ca73e212f'}"
      ]
     },
     "execution_count": 26,
     "metadata": {},
     "output_type": "execute_result"
    }
   ],
   "source": [
    "node.extras"
   ]
  },
  {
   "cell_type": "code",
   "execution_count": null,
   "id": "86427337",
   "metadata": {},
   "outputs": [],
   "source": []
  }
 ],
 "metadata": {
  "kernelspec": {
   "display_name": "Python 3 (ipykernel)",
   "language": "python",
   "name": "python3"
  },
  "language_info": {
   "codemirror_mode": {
    "name": "ipython",
    "version": 3
   },
   "file_extension": ".py",
   "mimetype": "text/x-python",
   "name": "python",
   "nbconvert_exporter": "python",
   "pygments_lexer": "ipython3",
   "version": "3.9.13"
  }
 },
 "nbformat": 4,
 "nbformat_minor": 5
}
