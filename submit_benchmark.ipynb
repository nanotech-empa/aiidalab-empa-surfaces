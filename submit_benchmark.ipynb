{
 "cells": [
  {
   "cell_type": "markdown",
   "metadata": {},
   "source": [
    "# Submit geometry optimization"
   ]
  },
  {
   "cell_type": "code",
   "execution_count": null,
   "metadata": {},
   "outputs": [],
   "source": [
    "%%javascript\n",
    "IPython.OutputArea.prototype._should_scroll = function(lines) {\n",
    "    return false;\n",
    "}"
   ]
  },
  {
   "cell_type": "code",
   "execution_count": null,
   "metadata": {},
   "outputs": [],
   "source": [
    "# General imports.\n",
    "import ipywidgets as ipw\n",
    "from IPython.display import clear_output\n",
    "\n",
    "# AiiDA imports.\n",
    "%load_ext aiida\n",
    "%aiida\n",
    "# AiiDAlab imports.\n",
    "import aiidalab_widgets_base as awb\n",
    "from aiida import orm, plugins\n",
    "\n",
    "from surfaces_tools.utils import wfn\n",
    "\n",
    "# Custom imports.\n",
    "from surfaces_tools.widgets import cdxml, computational_resources, editors, inputs"
   ]
  },
  {
   "cell_type": "code",
   "execution_count": null,
   "metadata": {},
   "outputs": [],
   "source": [
    "Cp2kBenchmarkWorkChain = plugins.WorkflowFactory(\"nanotech_empa.cp2k.benchmark\")"
   ]
  },
  {
   "cell_type": "code",
   "execution_count": null,
   "metadata": {},
   "outputs": [],
   "source": [
    "# Structure selector.\n",
    "structure_selector = awb.StructureManagerWidget(\n",
    "    importers=[\n",
    "        awb.StructureUploadWidget(title=\"Import from computer\"),\n",
    "        awb.StructureBrowserWidget(title=\"AiiDA database\"),\n",
    "    ],\n",
    "    editors=[\n",
    "        \n",
    "    ],\n",
    "    storable=True,\n",
    "    node_class=\"StructureData\",\n",
    ")\n",
    "display(structure_selector)\n",
    "\n",
    "# Code.\n",
    "code_input_widget = awb.ComputationalResourcesWidget(\n",
    "    description=\"CP2K code:\", default_calc_job_plugin=\"cp2k\"\n",
    ")\n",
    "#resources = computational_resources.ProcessResourcesWidget()\n",
    "\n",
    "output = ipw.Output()"
   ]
  },
  {
   "cell_type": "code",
   "execution_count": null,
   "metadata": {},
   "outputs": [],
   "source": [
    "# Protocol.\n",
    "protocol = ipw.Dropdown(\n",
    "    value=\"scf_ot_no_wfn\",\n",
    "    options=[\n",
    "        \"scf_ot_no_wfn\"\n",
    "    ],\n",
    "    description=\"Protocol:\",\n",
    "    style={\"description_width\": \"initial\"},\n",
    ")\n",
    "# List number of nodes.\n",
    "num_nodes = ipw.Text(\n",
    "    value='4 8 12 16 24',\n",
    "    description=\"List of possible #nodes:\",\n",
    "    style={\"description_width\": \"initial\"},\n",
    ")\n",
    "# Number of gpus.\n",
    "num_gpus = ipw.IntText(\n",
    "    value=1,\n",
    "    description=\"Number of GPUs:\",\n",
    "    style={\"description_width\": \"initial\"},\n",
    ")\n",
    "# List number tasks per node.\n",
    "max_tasks_per_node = ipw.IntText(\n",
    "    value=2,\n",
    "    description=\"Max #tasks per node:\",\n",
    "    style={\"description_width\": \"initial\"},\n",
    ")\n",
    "# List number of threads.\n",
    "num_threads_per_task = ipw.Text(\n",
    "    value='1 2 4 8',\n",
    "    description=\"List of possible #threads per task:\",\n",
    "    style={\"description_width\": \"initial\"},\n",
    ")\n",
    "# Wallclock minutes.\n",
    "wallclock_minutes = ipw.IntText(\n",
    "    value=30,\n",
    "    description=\"Wallclock minutes:\",\n",
    "    style={\"description_width\": \"initial\"},\n",
    ")\n",
    "# Multiplicity.\n",
    "multiplicity = ipw.IntText(\n",
    "    value=0,\n",
    "    description=\"Multiplicity:\",\n",
    "    style={\"description_width\": \"initial\"},\n",
    ")"
   ]
  },
  {
   "cell_type": "code",
   "execution_count": null,
   "metadata": {},
   "outputs": [],
   "source": [
    "workflow_description = ipw.Text(\n",
    "    description=\"Workflow description:\",\n",
    "    placeholder=\"Provide the description here.\",\n",
    "    style={\"description_width\": \"initial\"},\n",
    "    layout={\"width\": \"70%\"},\n",
    ")"
   ]
  },
  {
   "cell_type": "code",
   "execution_count": null,
   "metadata": {},
   "outputs": [],
   "source": [
    "def prepare_submission():\n",
    "    msg = \"\"\n",
    "    with output:\n",
    "        clear_output()\n",
    "    if not structure_selector.structure_node:\n",
    "        can_submit, msg = False, \"Select a structure first.\"\n",
    "    elif not code_input_widget.value:\n",
    "        can_submit, msg = False, \"Select CP2K code.\"\n",
    "    else:\n",
    "        can_submit = True\n",
    "\n",
    "    if not can_submit:\n",
    "        with output:\n",
    "            print(msg)\n",
    "            return\n",
    "\n",
    "    builder = Cp2kBenchmarkWorkChain.get_builder()\n",
    "    builder.protocol = orm.Str(protocol.value)\n",
    "    builder.multiplicity = orm.Int(multiplicity.value)\n",
    "    builder.metadata.label = \"CP2K_benchmark\"\n",
    "    builder.metadata.description = workflow_description.value\n",
    "    code = orm.load_code(code_input_widget.value)\n",
    "    builder.code = code\n",
    "    builder.list_nodes = orm.List(list=[int(i) for i in num_nodes.value.split()])\n",
    "    builder.max_tasks_per_node = orm.Int(max_tasks_per_node.value)\n",
    "    builder.ngpus = orm.Int(num_gpus.value)\n",
    "    builder.list_threads_per_task = orm.List(list=[int(i) for i in num_threads_per_task.value.split()])\n",
    "    builder.wallclock = orm.Int(wallclock_minutes.value * 60)\n",
    "\n",
    "    builder.structure = structure_selector.structure_node\n",
    "\n",
    "    return builder"
   ]
  },
  {
   "cell_type": "code",
   "execution_count": null,
   "metadata": {},
   "outputs": [],
   "source": [
    "btn_submit = awb.SubmitButtonWidget(\n",
    "    Cp2kBenchmarkWorkChain,\n",
    "    inputs_generator=prepare_submission,\n",
    "    disable_after_submit=True,\n",
    "    append_output=True,\n",
    ")"
   ]
  },
  {
   "cell_type": "markdown",
   "metadata": {},
   "source": [
    "# Inputs"
   ]
  },
  {
   "cell_type": "code",
   "execution_count": null,
   "metadata": {},
   "outputs": [],
   "source": [
    "\n",
    "display(ipw.VBox([protocol,multiplicity, num_nodes, num_gpus,max_tasks_per_node, num_threads_per_task, wallclock_minutes]))"
   ]
  },
  {
   "cell_type": "markdown",
   "metadata": {},
   "source": [
    "# Code and resources"
   ]
  },
  {
   "cell_type": "code",
   "execution_count": null,
   "metadata": {},
   "outputs": [],
   "source": [
    "display(code_input_widget)"
   ]
  },
  {
   "cell_type": "markdown",
   "metadata": {},
   "source": [
    "# Submit"
   ]
  },
  {
   "cell_type": "code",
   "execution_count": null,
   "metadata": {},
   "outputs": [],
   "source": [
    "display(workflow_description, btn_submit, output)"
   ]
  }
 ],
 "metadata": {
  "kernelspec": {
   "display_name": "Python 3 (ipykernel)",
   "language": "python",
   "name": "python3"
  },
  "language_info": {
   "codemirror_mode": {
    "name": "ipython",
    "version": 3
   },
   "file_extension": ".py",
   "mimetype": "text/x-python",
   "name": "python",
   "nbconvert_exporter": "python",
   "pygments_lexer": "ipython3",
   "version": "3.9.13"
  },
  "vscode": {
   "interpreter": {
    "hash": "d4d1e4263499bec80672ea0156c357c1ee493ec2b1c70f0acce89fc37c4a6abe"
   }
  }
 },
 "nbformat": 4,
 "nbformat_minor": 2
}
