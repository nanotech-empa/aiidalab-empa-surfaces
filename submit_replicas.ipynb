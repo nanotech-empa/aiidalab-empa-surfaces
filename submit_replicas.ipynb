{
 "cells": [
  {
   "cell_type": "code",
   "execution_count": null,
   "metadata": {},
   "outputs": [],
   "source": [
    "%%javascript\n",
    "IPython.OutputArea.prototype._should_scroll = function(lines) {\n",
    "    return false;\n",
    "}"
   ]
  },
  {
   "cell_type": "code",
   "execution_count": null,
   "metadata": {},
   "outputs": [],
   "source": [
    "import ipywidgets as ipw\n",
    "from IPython.display import clear_output\n",
    "\n",
    "# AiiDA imports.\n",
    "%aiida\n",
    "\n",
    "# AiiDAlab imports.\n",
    "import aiidalab_widgets_base as awb\n",
    "\n",
    "# Local imports.\n",
    "from reactions.dft_details_dev import DFTDetails\n",
    "from reactions.viewer_details import ViewerDetails\n",
    "from reactions.slab_validity import slab_is_valid\n",
    "from reactions.suggested_param import suggested_parameters\n",
    "from reactions import analyze_structure\n",
    "from reactions.metadata import MetadataWidget\n",
    "from reactions.replicawork import ReplicaWorkChain\n",
    "from reactions.collective_variables import CollectiveVariableWidget"
   ]
  },
  {
   "cell_type": "code",
   "execution_count": null,
   "metadata": {},
   "outputs": [],
   "source": [
    "# General parameters.\n",
    "\n",
    "job_details = {'workchain':'ReplicaWorkChain'}\n",
    "atoms = None"
   ]
  },
  {
   "cell_type": "code",
   "execution_count": null,
   "metadata": {},
   "outputs": [],
   "source": [
    "## WIDGETS MONITOR FUNCTIONS\n",
    "def on_struct_change(c):\n",
    "    global atoms\n",
    "    if not struct_browser.results.value:\n",
    "        return\n",
    "    job_details['structure']=struct_browser.results.value\n",
    "    node = struct_browser.results.value\n",
    "    \n",
    "    atoms = node.get_ase()\n",
    "    atoms.pbc = [1, 1, 1]\n",
    "    \n",
    "    slab_analyzed = analyze_structure.analyze(atoms)\n",
    "    job_details['slab_analyzed'] = slab_analyzed\n",
    "    dft_details_widget.reset()\n",
    "    \n",
    "    guess_calc_params(slab_analyzed)\n",
    "    \n",
    "    viewer_widget.setup(atoms, slab_analyzed)\n",
    "    \n",
    "    with mol_ids_info_out:\n",
    "        clear_output()\n",
    "        print(slab_analyzed['summary'])\n",
    "\n",
    "def on_fixed_atoms_btn_click(c):\n",
    "    if dft_details_widget.btn_fixed_pressed:\n",
    "        viewer_widget.show_fixed(dft_details_widget.fixed_atoms.value)\n",
    "    else:\n",
    "        viewer_widget.show_fixed(\"\")\n",
    "        \n",
    "def guess_calc_params(slab_analyzed):\n",
    "    method = dft_details_widget.calc_type.value\n",
    "    valid_slab, msg = slab_is_valid(slab_analyzed,method)\n",
    "    if valid_slab:        \n",
    "        atoms_to_fix,num_machines=suggested_parameters(slab_analyzed,method)\n",
    "        dft_details_widget.reset(fixed_atoms=atoms_to_fix,calc_type=method)\n",
    "        num_nodes_selector.value = num_machines\n",
    "    else:\n",
    "        print(msg)"
   ]
  },
  {
   "cell_type": "markdown",
   "metadata": {},
   "source": [
    "## Step 1: Select initial structure"
   ]
  },
  {
   "cell_type": "code",
   "execution_count": null,
   "metadata": {},
   "outputs": [],
   "source": [
    "# DISPLAY WIDGETS AND DEFINE JOB PARAMETERS\n",
    "\n",
    "# Structure.\n",
    "struct_browser = awb.StructureBrowserWidget()\n",
    "struct_browser.results.observe(on_struct_change, names='value')\n",
    "\n",
    "# Viewer.\n",
    "viewer_widget = ViewerDetails()\n",
    "\n",
    "# Mol info.\n",
    "mol_ids_info_out = ipw.Output()\n",
    "\n",
    "display(ipw.VBox([struct_browser, viewer_widget, mol_ids_info_out]))"
   ]
  },
  {
   "cell_type": "markdown",
   "metadata": {},
   "source": [
    "## Step 2: General parameters of the calculation"
   ]
  },
  {
   "cell_type": "code",
   "execution_count": null,
   "metadata": {},
   "outputs": [],
   "source": [
    "# Code.\n",
    "computational_resources = awb.ComputationalResourcesWidget(input_plugin='cp2k')\n",
    "\n",
    "# Misc details.\n",
    "style = {'description_width': '120px'}\n",
    "layout = {'width': '70%'}\n",
    "num_nodes_selector = ipw.IntText(\n",
    "    value=1,\n",
    "    description='# Nodes',\n",
    "    style=style, layout=layout)\n",
    "calc_name_selector = ipw.Text(\n",
    "    description='Calculation Name: ',\n",
    "    placeholder='A great name.',\n",
    "    style=style, layout=layout)\n",
    "\n",
    "# DFT\n",
    "dft_details_widget = DFTDetails(job_details=job_details)    \n",
    "dft_details_widget.btn_fixed_atoms.on_click(on_fixed_atoms_btn_click)\n",
    "dft_details_widget.calc_type.observe(lambda c: guess_calc_params(), names='value')\n",
    "\n",
    "# Display code dropdown.\n",
    "display(ipw.VBox([computational_resources, num_nodes_selector, calc_name_selector, dft_details_widget]))"
   ]
  },
  {
   "cell_type": "markdown",
   "metadata": {},
   "source": [
    "## Step 3: Define collective variable\n",
    "The unit of the spring constant is [eV/unit of colvar^2].\n",
    "\n",
    "Three kinds of collective variable are implemented:\n",
    "\n",
    "**DISTANCE**\n",
    "- Distance between two atoms.\n",
    "\n",
    "**ANGLE_PLANE_PLANE**\n",
    "- Rotation of plane defined by (P1 - P2) and (P3 - P2) WRT plane defined by a normal.\n",
    "\n",
    "**BOND_ROTATION**\n",
    "- Clockwise rotation of (P2-P1) WRT (P4-P3)."
   ]
  },
  {
   "cell_type": "code",
   "execution_count": null,
   "metadata": {},
   "outputs": [],
   "source": [
    "cv_widget = CollectiveVariableWidget()\n",
    "\n",
    "def on_vis_cv_click(c):\n",
    "    if cv_widget.validation_check() and atoms is not None:\n",
    "        vis_list = cv_widget.current_cv_instance.visualization_list(atoms)\n",
    "        viewer_widget.visualize_extra(vis_list)\n",
    "        \n",
    "        with mol_ids_info_out:\n",
    "            cv_widget.current_cv_instance.print_cv(atoms)\n",
    "        \n",
    "cv_widget.visualize_colvar_btn.on_click(on_vis_cv_click)\n",
    "\n",
    "display(cv_widget)"
   ]
  },
  {
   "cell_type": "markdown",
   "metadata": {},
   "source": [
    "Optionally, to continue another replica chain calculation, use the exact same calculation name, pick one of its output geometries as input and use the same collective variable definition."
   ]
  },
  {
   "cell_type": "markdown",
   "metadata": {},
   "source": [
    "# Submit"
   ]
  },
  {
   "cell_type": "code",
   "execution_count": null,
   "metadata": {},
   "outputs": [],
   "source": [
    "def build_inputs():\n",
    "    builder = ReplicaWorkChain.get_builder()\n",
    "    builder.cp2k_code = computational_resources.value\n",
    "    builder.structure = struct_browser.results.value\n",
    "    builder.num_machines = Int(num_nodes_selector.value)\n",
    "    builder.calc_name = Str(calc_name_selector.value)\n",
    "    #builder.cell\n",
    "    builder.fixed_atoms = Str(dft_details_widget.fixed_atoms.value)\n",
    "    builder.colvar_targets = Str(cv_widget.colvar_targets)\n",
    "    builder.target_unit = Str(cv_widget.target_unit)\n",
    "    builder.spring = Float(cv_widget.spring_constant)\n",
    "    builder.spring_unit = Str(cv_widget.spring_unit)\n",
    "    builder.subsys_colvar = Dict(dict=cv_widget.subsys_colvar)\n",
    "    builder.calc_type = Str(dft_details_widget.calc_type.value)\n",
    "    builder.mgrid_cutoff = Int(dft_details_widget.mgrid_cutoff.value)\n",
    "    builder.max_force = Float(dft_details_widget.max_force.value)\n",
    "    builder.dftd3_switch = Bool(dft_details_widget.vdw_switch.value)\n",
    "\n",
    "    builder.metadata = {\n",
    "        \"description\": calc_name_selector.value,\n",
    "        \"label\": \"ReplicaWorkChain\",\n",
    "    }\n",
    "    return builder"
   ]
  },
  {
   "cell_type": "code",
   "execution_count": null,
   "metadata": {},
   "outputs": [],
   "source": [
    "btn_submit = awb.SubmitButtonWidget(ReplicaWorkChain,input_dictionary_function=build_inputs)\n",
    "submit_out = ipw.Output()\n",
    "display(btn_submit, submit_out)"
   ]
  }
 ],
 "metadata": {
  "kernelspec": {
   "display_name": "Python 3.9.7 64-bit",
   "language": "python",
   "name": "python3"
  },
  "language_info": {
   "codemirror_mode": {
    "name": "ipython",
    "version": 3
   },
   "file_extension": ".py",
   "mimetype": "text/x-python",
   "name": "python",
   "nbconvert_exporter": "python",
   "pygments_lexer": "ipython3",
   "version": "3.9.7"
  },
  "vscode": {
   "interpreter": {
    "hash": "aee8b7b246df8f9039afb4144a1f6fd8d2ca17a180786b69acc140d282b71a49"
   }
  }
 },
 "nbformat": 4,
 "nbformat_minor": 2
}
