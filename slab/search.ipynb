{
 "cells": [
  {
   "cell_type": "markdown",
   "metadata": {},
   "source": [
    "# Search AiiDA Database Slab optimizations"
   ]
  },
  {
   "cell_type": "code",
   "execution_count": null,
   "metadata": {},
   "outputs": [],
   "source": [
    "%aiida\n",
    "import ipywidgets as ipw\n",
    "from IPython.display import clear_output\n",
    "from apps.surfaces.widgets.search_completed_widget import SearchCompletedWidget\n",
    "from apps.surfaces.widgets import search_old_completed_widget"
   ]
  },
  {
   "cell_type": "code",
   "execution_count": null,
   "metadata": {},
   "outputs": [],
   "source": [
    "old = ipw.Checkbox(\n",
    "    value=False,\n",
    "    description='OLD workchains',\n",
    "    disabled=False,\n",
    "    indent=False\n",
    ")\n",
    "output = ipw.Output()\n",
    "def select_version(_=None):\n",
    "    if old.value:\n",
    "        PREPROC_VERSION = 1.20\n",
    "        s=search_old_completed_widget.SearchCompletedWidget(\n",
    "            version=PREPROC_VERSION,\n",
    "            wlabel='SlabGeoOptWorkChain',\n",
    "            clabel='slab_geo_opt',\n",
    "            fields_disable={}\n",
    "        )     \n",
    "    else:\n",
    "        s = SearchCompletedWidget(\n",
    "            wlabel='Cp2kSlabOptWorkChain',\n",
    "            fields_disable={}\n",
    "        )\n",
    "    with output:\n",
    "        clear_output()\n",
    "        display(ipw.VBox([old,s]))\n",
    "        \n",
    "old.observe(select_version, names='value')\n",
    "display(output)\n",
    "select_version()"
   ]
  }
 ],
 "metadata": {
  "kernelspec": {
   "display_name": "Python 3 (ipykernel)",
   "language": "python",
   "name": "python3"
  },
  "language_info": {
   "codemirror_mode": {
    "name": "ipython",
    "version": 3
   },
   "file_extension": ".py",
   "mimetype": "text/x-python",
   "name": "python",
   "nbconvert_exporter": "python",
   "pygments_lexer": "ipython3",
   "version": "3.7.9"
  }
 },
 "nbformat": 4,
 "nbformat_minor": 2
}
