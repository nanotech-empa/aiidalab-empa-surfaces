{
 "cells": [
  {
   "cell_type": "code",
   "execution_count": null,
   "metadata": {},
   "outputs": [],
   "source": [
    "%%javascript\n",
    "IPython.OutputArea.prototype._should_scroll = function(lines) {\n",
    "    return false;\n",
    "}"
   ]
  },
  {
   "cell_type": "markdown",
   "metadata": {},
   "source": [
    "#  Submit adsorption energy"
   ]
  },
  {
   "cell_type": "code",
   "execution_count": null,
   "metadata": {},
   "outputs": [],
   "source": [
    "# General imports.\n",
    "import ipywidgets as ipw\n",
    "from IPython.display import clear_output\n",
    "\n",
    "# AiiDA imports.\n",
    "%aiida\n",
    "\n",
    "# AiiDAlab imports.\n",
    "import aiidalab_widgets_base as awb\n",
    "\n",
    "# Custom imports.\n",
    "from apps.surfaces.widgets.empa_viewer import EmpaStructureViewer\n",
    "from apps.surfaces.widgets.fragments import Fragment, FragmentList\n",
    "\n",
    "from aiida_nanotech_empa.workflows.cp2k.cp2k_utils import compute_cost\n",
    "from copy import copy"
   ]
  },
  {
   "cell_type": "code",
   "execution_count": null,
   "metadata": {},
   "outputs": [],
   "source": [
    "Cp2kFragmentSeparationWorkChain = WorkflowFactory('nanotech_empa.cp2k.fragment_separation')"
   ]
  },
  {
   "cell_type": "code",
   "execution_count": null,
   "metadata": {
    "scrolled": true
   },
   "outputs": [],
   "source": [
    "# Structure selector.\n",
    "empa_viewer = EmpaStructureViewer()\n",
    "structure_selector = awb.StructureManagerWidget(\n",
    "    viewer=empa_viewer,\n",
    "    importers=[\n",
    "        awb.StructureBrowserWidget(title=\"AiiDA database\"),\n",
    "    ],\n",
    "    storable=False, node_class='StructureData')\n",
    "display(structure_selector)\n"
   ]
  },
  {
   "cell_type": "code",
   "execution_count": null,
   "metadata": {},
   "outputs": [],
   "source": [
    "style = {'description_width': '100px'}"
   ]
  },
  {
   "cell_type": "code",
   "execution_count": null,
   "metadata": {},
   "outputs": [],
   "source": [
    "#UKS\n",
    "uks = ipw.Checkbox(\n",
    "    value=False,\n",
    "    description='UKS',\n",
    "    disabled=False,\n",
    "    indent=False\n",
    ")\n",
    "\n",
    "#spin guess\n",
    "spins_up = ipw.Text(\n",
    "    value='',\n",
    "    placeholder='1 2 10..13',\n",
    "    description='Spins U:',\n",
    "    disabled=False\n",
    ")\n",
    "\n",
    "spins_down = ipw.Text(\n",
    "    value='',\n",
    "    placeholder='3 4 14..17',\n",
    "    description='Spins D:',\n",
    "    disabled=False\n",
    ")\n",
    "\n",
    "fixed_atoms = ipw.Text(\n",
    "    value='',\n",
    "    placeholder='3 4 14..17',\n",
    "    description='Fixed atoms:',\n",
    "    disabled=False\n",
    ")\n",
    "\n",
    "\n",
    "#Protocol\n",
    "protocol = ipw.Dropdown(\n",
    "    value='standard',\n",
    "    description='Protocol:',\n",
    "    disabled=False,\n",
    "    options = [(\"Standard\", \"standard\"), (\"Low accuracy\", \"low_accuracy\"), (\"Debug\",\"debug\")]\n",
    "    )"
   ]
  },
  {
   "cell_type": "code",
   "execution_count": null,
   "metadata": {},
   "outputs": [],
   "source": [
    "def get_builder_ads():\n",
    "    \"\"\"Get the builder for the adsorption energy calculation.\"\"\"\n",
    "    builder = Cp2kFragmentSeparationWorkChain.get_builder()\n",
    "    builder.code = computer_code_dropdown.value\n",
    "    builder.structure = structure_selector.structure_node\n",
    "\n",
    "    # Fragments.\n",
    "    builder.fragments = {\n",
    "        'molecule': List(list=awb.utils.string_range_to_list(fragment_molecule.value)[0]),\n",
    "        'slab': List(list=awb.utils.string_range_to_list(fragment_slab.value)[0]),\n",
    "    }\n",
    "\n",
    "    # Multiplicities.\n",
    "    builder.multiplicities = {\n",
    "        \"total\": Int(total_multiplicity.value),\n",
    "        \"molecule\": Int(multiplicity_molecule.value),\n",
    "        \"slab\": Int(multiplicity_slab.value),\n",
    "        }\n",
    "    \n",
    "    # Charges.\n",
    "    builder.charges = {\n",
    "        \"molecule\": orm.Int(charge_molecule.value),\n",
    "        \"slab\": orm.Int(charge_slab.value),\n",
    "    }\n",
    "\n",
    "    builder.options = {\n",
    "        'total': {\n",
    "            \"max_wallclock_seconds\": 600,\n",
    "            \"resources\": {\n",
    "                \"num_machines\": 1,\n",
    "                \"num_mpiprocs_per_machine\": 4,\n",
    "            },\n",
    "        },\n",
    "        'molecule': {\n",
    "            \"max_wallclock_seconds\": 600,\n",
    "            \"resources\": {\n",
    "                \"num_machines\": 1,\n",
    "                \"num_mpiprocs_per_machine\": 1,\n",
    "            },\n",
    "        },\n",
    "        'slab': {\n",
    "            \"max_wallclock_seconds\": 600,\n",
    "            \"resources\": {\n",
    "                \"num_machines\": 1,\n",
    "                \"num_mpiprocs_per_machine\": 4,\n",
    "            },\n",
    "        },\n",
    "    }\n",
    "\n",
    "\n",
    "    # spin guess\n",
    "    # ase_geom =  structure_selector.structure\n",
    "    # mag_list = [ 0 for t in ase_geom ]\n",
    "    # if uks.value:\n",
    "    #     for i in awb.utils.string_range_to_list(spins_up.value)[0]:\n",
    "    #         mag_list[i] = 1\n",
    "    #     for i in awb.utils.string_range_to_list(spins_down.value)[0]:\n",
    "    #         mag_list[i] = -1 \n",
    "            \n",
    "        \n",
    "    #builder.magnetization_per_site = List(list=mag_list)\n",
    "\n",
    "\n",
    "    builder.fixed_atoms = Str('3..18')\n",
    "    #Charge\n",
    "    builder.protocol = Str(protocol.value)\n",
    "\n",
    "\n",
    "    mag = [0 for i in structure_selector.structure]\n",
    "    builder.magnetization_per_site = List(list=mag)\n",
    " \n",
    "    \n",
    "    return builder"
   ]
  },
  {
   "cell_type": "code",
   "execution_count": null,
   "metadata": {},
   "outputs": [],
   "source": [
    "btn_submit_ads = awb.SubmitButtonWidget(Cp2kFragmentSeparationWorkChain, \n",
    "                                input_dictionary_function=get_builder_ads\n",
    "                               )"
   ]
  },
  {
   "cell_type": "code",
   "execution_count": null,
   "metadata": {},
   "outputs": [],
   "source": [
    "fragment_list = FragmentList()\n",
    "ipw.dlink((uks, 'value'), (fragment_list, 'uks'))\n",
    "_ = ipw.dlink((structure_selector.viewer, 'selection'), (fragment_list, 'selection_string'), transform=lambda x: awb.utils.list_to_string_range(x))\n"
   ]
  },
  {
   "cell_type": "code",
   "execution_count": null,
   "metadata": {},
   "outputs": [],
   "source": [
    "def update_resources_for_fragments(_):\n",
    "    for fragment in fragment_list.fragments:\n",
    "        print(fragment.indices.value)\n",
    "        print(awb.utils.string_range_to_list(fragment.indices.value))\n",
    "        fragment.nodes_widget.value = compute_cost(structure_selector.structure[awb.utils.string_range_to_list(fragment.indices.value)])\n",
    "# Code.\n",
    "computer_code_dropdown = awb.ComputationalResourcesWidget(description=\"CP2K code:\", input_plugin=\"cp2k\")\n",
    "computer_code_dropdown.observe(update_resources_for_fragments, names='value')\n"
   ]
  },
  {
   "cell_type": "code",
   "execution_count": null,
   "metadata": {},
   "outputs": [],
   "source": [
    "top = [fragment_list, uks, protocol]\n",
    "bottom = [computer_code_dropdown, btn_submit_ads]\n",
    "\n",
    "output = ipw.VBox(children=top+bottom)\n",
    "\n",
    "def update_selection(change):\n",
    "\n",
    "    if change['new']:\n",
    "        spins_up.value = awb.utils.list_to_string_range(empa_viewer.details['spins_up'])\n",
    "        spins_down.value = awb.utils.list_to_string_range(empa_viewer.details['spins_down'])\n",
    "\n",
    "        # Add default \"total\" fragment.\n",
    "        fragment_list.fragments = [Fragment(indices=f\"1..{len(change['new'])}\", name=\"total\")]\n",
    "\n",
    "        #print(compute_cost(change['new']))\n",
    "    else:\n",
    "        fragment_list.fragments = []\n",
    "\n",
    "structure_selector.observe(update_selection, names='structure')\n",
    "\n",
    "\n",
    "def update_view(_=None):\n",
    "    to_display = copy(top)\n",
    "    if uks.value:\n",
    "        to_display += [spins_up, spins_down]\n",
    "    to_display += bottom\n",
    "    output.children = to_display\n",
    "uks.observe(update_view, names='value')"
   ]
  },
  {
   "cell_type": "code",
   "execution_count": null,
   "metadata": {},
   "outputs": [],
   "source": [
    "display(output)"
   ]
  }
 ],
 "metadata": {
  "kernelspec": {
   "display_name": "Python 3 (ipykernel)",
   "language": "python",
   "name": "python3"
  },
  "language_info": {
   "codemirror_mode": {
    "name": "ipython",
    "version": 3
   },
   "file_extension": ".py",
   "mimetype": "text/x-python",
   "name": "python",
   "nbconvert_exporter": "python",
   "pygments_lexer": "ipython3",
   "version": "3.7.9"
  }
 },
 "nbformat": 4,
 "nbformat_minor": 2
}
