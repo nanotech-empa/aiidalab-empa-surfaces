{
 "cells": [
  {
   "cell_type": "code",
   "execution_count": null,
   "metadata": {},
   "outputs": [],
   "source": [
    "%%javascript\n",
    "IPython.OutputArea.prototype._should_scroll = function(lines) {\n",
    "    return false;\n",
    "}"
   ]
  },
  {
   "cell_type": "markdown",
   "metadata": {},
   "source": [
    "#  Submit adsorption energy"
   ]
  },
  {
   "cell_type": "code",
   "execution_count": null,
   "metadata": {},
   "outputs": [],
   "source": [
    "# General imports.\n",
    "from copy import copy\n",
    "import ipywidgets as ipw\n",
    "from IPython.display import clear_output\n",
    "\n",
    "# AiiDA imports.\n",
    "%load_ext aiida\n",
    "from aiida.plugins import  WorkflowFactory , DataFactory\n",
    "from aiida.orm import  load_code\n",
    "\n",
    "# AiiDAlab imports.\n",
    "import aiidalab_widgets_base as awb\n",
    "\n",
    "# Custom imports.\n",
    "from widgets.empa_viewer import EmpaStructureViewer\n",
    "from widgets.fragments import Fragment, FragmentList\n",
    "from aiida_nanotech_empa.workflows.cp2k import cp2k_utils\n",
    "\n",
    "StructureData = DataFactory(\"core.structure\")\n",
    "Float = DataFactory(\"core.float\")\n",
    "Dict = DataFactory(\"core.dict\")\n",
    "Str = DataFactory(\"core.str\")\n",
    "Int = DataFactory(\"core.int\")\n",
    "List = DataFactory(\"core.list\")\n",
    "Bool = DataFactory(\"core.bool\")\n"
   ]
  },
  {
   "cell_type": "code",
   "execution_count": null,
   "metadata": {},
   "outputs": [],
   "source": [
    "Cp2kFragmentSeparationWorkChain = WorkflowFactory('nanotech_empa.cp2k.fragment_separation')"
   ]
  },
  {
   "cell_type": "code",
   "execution_count": null,
   "metadata": {},
   "outputs": [],
   "source": [
    "# Structure selector.\n",
    "\n",
    "empa_viewer = EmpaStructureViewer()\n",
    "structure_selector = awb.StructureManagerWidget(\n",
    "    viewer=empa_viewer,\n",
    "    importers=[\n",
    "        awb.StructureBrowserWidget(title=\"AiiDA database\"),\n",
    "    ],\n",
    "    editors = [\n",
    "        awb.BasicStructureEditor(title=\"Edit structure\"),\n",
    "    ],\n",
    "    storable=False, node_class='StructureData')"
   ]
  },
  {
   "cell_type": "code",
   "execution_count": null,
   "metadata": {},
   "outputs": [],
   "source": [
    "# Other simulation settings.\n",
    "\n",
    "uks = ipw.Checkbox(\n",
    "    value=False,\n",
    "    description='UKS',\n",
    "    disabled=False,\n",
    "    indent=False\n",
    ")\n",
    "\n",
    "spins_up = ipw.Text(\n",
    "    value='',\n",
    "    placeholder='1 2 10..13',\n",
    "    description='Spins up',\n",
    "    disabled=False\n",
    ")\n",
    "\n",
    "spins_down = ipw.Text(\n",
    "    value='',\n",
    "    placeholder='3 4 14..17',\n",
    "    description='Spins down',\n",
    "    disabled=False\n",
    ")\n",
    "\n",
    "fixed_atoms = ipw.Text(\n",
    "    value='',\n",
    "    placeholder='3 4 14..17',\n",
    "    description='Fixed atoms',\n",
    "    disabled=False\n",
    ")\n",
    "\n",
    "\n",
    "#Protocol\n",
    "protocol = ipw.Dropdown(\n",
    "    value='standard',\n",
    "    description='Protocol',\n",
    "    disabled=False,\n",
    "    options = [(\"Standard\", \"standard\"), (\"Low accuracy\", \"low_accuracy\"), (\"Debug\",\"debug\")]\n",
    "    )"
   ]
  },
  {
   "cell_type": "code",
   "execution_count": null,
   "metadata": {},
   "outputs": [],
   "source": [
    "# Structure fragments.\n",
    "fragment_list = FragmentList()\n",
    "ipw.dlink((uks, 'value'), (fragment_list, 'uks'))\n",
    "_ = ipw.dlink((structure_selector.viewer, 'selection'), (fragment_list, 'selection_string'), transform=lambda x: awb.utils.list_to_string_range(x))\n"
   ]
  },
  {
   "cell_type": "code",
   "execution_count": null,
   "metadata": {},
   "outputs": [],
   "source": [
    "# Coordinate structure selector with spin up/down and fragments.\n",
    "def update_selection(change):\n",
    "    if change['new']:\n",
    "        # Add default \"all\" fragment.\n",
    "        fragment_list.fragments = [Fragment(indices=f\"1..{len(change['new'])}\", name=\"all\")]\n",
    "\n",
    "    else:\n",
    "        fragment_list.fragments = []\n",
    "\n",
    "structure_selector.observe(update_selection, names='structure')"
   ]
  },
  {
   "cell_type": "code",
   "execution_count": null,
   "metadata": {},
   "outputs": [],
   "source": [
    "# Resources estimation.\n",
    "MAX_NODES=48\n",
    "\n",
    "def update_resources_for_fragments(_):\n",
    "\n",
    "\n",
    "    for fragment in fragment_list.fragments:\n",
    "        fragment.estimate_computational_resources(whole_structure=structure_selector.structure, selected_code=computational_resources.value)\n",
    "\n",
    "estimate_nodes_button = ipw.Button(description=\"Estimate resources\", button_style='warning')\n",
    "estimate_nodes_button.on_click(update_resources_for_fragments)\n",
    "node_estimate_message = awb.utils.StatusHTML()"
   ]
  },
  {
   "cell_type": "code",
   "execution_count": null,
   "metadata": {},
   "outputs": [],
   "source": [
    "# Code selector\n",
    "computational_resources = awb.ComputationalResourcesWidget(description=\"CP2K code:\", default_calc_job_plugin=\"cp2k\")"
   ]
  },
  {
   "cell_type": "code",
   "execution_count": null,
   "metadata": {},
   "outputs": [],
   "source": [
    "# Workchain submission.\n",
    "\n",
    "def get_builder():\n",
    "    \"\"\"Get the builder for the adsorption energy calculation.\"\"\"\n",
    "    builder = Cp2kFragmentSeparationWorkChain.get_builder()\n",
    "    builder.code = load_code(computational_resources.value)\n",
    "    builder.structure = structure_selector.structure_node\n",
    "\n",
    "    # Fragments' indices.\n",
    "    builder.fragments = {fragment.name.value: List(list=awb.utils.string_range_to_list(fragment.indices.value)[0]) for fragment in fragment_list.fragments}\n",
    "    \n",
    "    # Fragments' charges.\n",
    "    builder.charges = {fragment.name.value: Int(fragment.charge.value) for fragment in fragment_list.fragments}\n",
    "\n",
    "    # Resources.\n",
    "    builder.options = {\n",
    "        fragment.name.value: {\n",
    "            \"max_wallclock_seconds\": fragment.resources.walltime_seconds,\n",
    "            \"resources\": {\n",
    "                \"num_machines\": fragment.resources.nodes,\n",
    "                \"num_mpiprocs_per_machine\": fragment.resources.tasks_per_node,\n",
    "                \"num_cores_per_mpiproc\": fragment.resources.threads_per_task,\n",
    "            },\n",
    "        }\n",
    "        for fragment in fragment_list.fragments\n",
    "    }\n",
    "\n",
    "    # UKS.\n",
    "    builder.uks = Bool(uks.value)\n",
    "    if uks.value:\n",
    "        builder.multiplicities = {fragment.name.value: Int(fragment.multiplicity.value) for fragment in fragment_list.fragments}\n",
    "\n",
    "        # Spin guesses\n",
    "        mag_list = [ 0 for t in structure_selector.structure ]\n",
    "        for i in awb.utils.string_range_to_list(spins_up.value)[0]:\n",
    "            mag_list[i] = 1\n",
    "        for i in awb.utils.string_range_to_list(spins_down.value)[0]:\n",
    "            mag_list[i] = -1 \n",
    "\n",
    "        builder.magnetization_per_site = List(list=mag_list)\n",
    "\n",
    "\n",
    "    builder.fixed_atoms = List(list=awb.utils.string_range_to_list(fixed_atoms.value)[0])\n",
    "    builder.protocol = Str(protocol.value)    \n",
    "    return builder\n",
    "\n",
    "btn_submit_ads = awb.SubmitButtonWidget(Cp2kFragmentSeparationWorkChain, inputs_generator=get_builder)"
   ]
  },
  {
   "cell_type": "code",
   "execution_count": null,
   "metadata": {},
   "outputs": [],
   "source": [
    "# User's interface.\n",
    "\n",
    "spins = ipw.VBox(children=[])\n",
    "def update_view(_=None):\n",
    "    to_display = []\n",
    "    if uks.value:\n",
    "        spins.children = [ipw.HBox([spins_up, spins_down])]\n",
    "    else:\n",
    "        spins.children = []\n",
    "uks.observe(update_view, names='value')\n",
    "\n",
    "display(structure_selector, fragment_list, uks, spins, protocol, fixed_atoms, ipw.HBox([computational_resources, estimate_nodes_button]), node_estimate_message, btn_submit_ads)"
   ]
  }
 ],
 "metadata": {
  "kernelspec": {
   "display_name": "Python 3.8.13 ('base')",
   "language": "python",
   "name": "python3"
  },
  "language_info": {
   "codemirror_mode": {
    "name": "ipython",
    "version": 3
   },
   "file_extension": ".py",
   "mimetype": "text/x-python",
   "name": "python",
   "nbconvert_exporter": "python",
   "pygments_lexer": "ipython3",
   "version": "3.9.13"
  },
  "vscode": {
   "interpreter": {
    "hash": "d4d1e4263499bec80672ea0156c357c1ee493ec2b1c70f0acce89fc37c4a6abe"
   }
  }
 },
 "nbformat": 4,
 "nbformat_minor": 2
}
