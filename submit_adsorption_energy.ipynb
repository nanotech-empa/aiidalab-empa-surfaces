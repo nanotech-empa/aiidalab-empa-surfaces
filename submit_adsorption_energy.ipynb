{
 "cells": [
  {
   "cell_type": "code",
   "execution_count": null,
   "metadata": {},
   "outputs": [],
   "source": [
    "%%javascript\n",
    "IPython.OutputArea.prototype._should_scroll = function(lines) {\n",
    "    return false;\n",
    "}"
   ]
  },
  {
   "cell_type": "markdown",
   "metadata": {},
   "source": [
    "#  Submit adsorption energy"
   ]
  },
  {
   "cell_type": "code",
   "execution_count": null,
   "metadata": {},
   "outputs": [],
   "source": [
    "# General imports.\n",
    "import ipywidgets as ipw\n",
    "\n",
    "# AiiDA imports.\n",
    "%load_ext aiida\n",
    "%aiida\n",
    "from aiida import orm, plugins\n",
    "\n",
    "# AiiDAlab imports.\n",
    "import aiidalab_widgets_base as awb\n",
    "\n",
    "# Custom imports.\n",
    "from surfaces_tools.widgets import empa_viewer, fragments, inputs\n",
    "from surfaces_tools.utils import wfn\n",
    "\n",
    "StructureData = plugins.DataFactory(\"core.structure\")\n",
    "Cp2kFragmentSeparationWorkChain = plugins.WorkflowFactory('nanotech_empa.cp2k.fragment_separation')"
   ]
  },
  {
   "cell_type": "code",
   "execution_count": null,
   "metadata": {},
   "outputs": [],
   "source": [
    "# Structure selector.\n",
    "\n",
    "empa_viewer = empa_viewer.EmpaStructureViewer()\n",
    "structure_selector = awb.StructureManagerWidget(\n",
    "    viewer=empa_viewer,\n",
    "    importers=[\n",
    "        awb.StructureBrowserWidget(title=\"AiiDA database\"),\n",
    "    ],\n",
    "    editors = [\n",
    "        awb.BasicStructureEditor(title=\"Edit structure\"),\n",
    "    ],\n",
    "    storable=False, node_class='StructureData')\n"
   ]
  },
  {
   "cell_type": "code",
   "execution_count": null,
   "metadata": {},
   "outputs": [],
   "source": [
    "# Other simulation settings.\n",
    "fixed_atoms = ipw.Text(\n",
    "    value='',\n",
    "    placeholder='3 4 14..17',\n",
    "    description='Fixed atoms',\n",
    "    disabled=False\n",
    ")\n",
    "\n",
    "# Protocol\n",
    "protocol = ipw.Dropdown(\n",
    "    value='standard',\n",
    "    description='Protocol:',\n",
    "    disabled=False,\n",
    "    options = [(\"Standard\", \"standard\"), (\"Low accuracy\", \"low_accuracy\"), (\"Debug\",\"debug\")]\n",
    "    )\n",
    "\n",
    "uks_widget = inputs.UksSectionWidget(charge_visibility='hidden', multiplicity_visibility='hidden')\n",
    "_ = ipw.dlink((empa_viewer, 'details'), (uks_widget, 'details'))\n"
   ]
  },
  {
   "cell_type": "code",
   "execution_count": null,
   "metadata": {},
   "outputs": [],
   "source": [
    "# Structure fragments.\n",
    "fragment_list = fragments.FragmentList()\n",
    "ipw.dlink((uks_widget, 'uks'), (fragment_list, 'uks'))\n",
    "_ = ipw.dlink((structure_selector.viewer, 'selection'), (fragment_list, 'selection_string'), transform=lambda x: awb.utils.list_to_string_range(x))"
   ]
  },
  {
   "cell_type": "code",
   "execution_count": null,
   "metadata": {},
   "outputs": [],
   "source": [
    "# Coordinate structure selector with spin up/down and fragments.\n",
    "def update_selection(change):\n",
    "    if change['new']:\n",
    "        # Add default \"all\" fragment.\n",
    "        fragment_list.fragments = [fragments.Fragment(indices=f\"1..{len(change['new'])}\", name=\"all\")]\n",
    "\n",
    "    else:\n",
    "        fragment_list.fragments = []\n",
    "\n",
    "structure_selector.observe(update_selection, names='structure')"
   ]
  },
  {
   "cell_type": "code",
   "execution_count": null,
   "metadata": {},
   "outputs": [],
   "source": [
    "# Resources estimation.\n",
    "MAX_NODES=48\n",
    "\n",
    "def update_resources_for_fragments(_):\n",
    "\n",
    "\n",
    "    for fragment in fragment_list.fragments:\n",
    "        fragment.estimate_computational_resources(whole_structure=structure_selector.structure, selected_code=computational_resources.value)\n",
    "\n",
    "estimate_resources_button = ipw.Button(description=\"Estimate resources\", button_style='warning')\n",
    "estimate_resources_button.on_click(update_resources_for_fragments)"
   ]
  },
  {
   "cell_type": "code",
   "execution_count": null,
   "metadata": {},
   "outputs": [],
   "source": [
    "# Code selector\n",
    "computational_resources = awb.ComputationalResourcesWidget(description=\"CP2K code:\", default_calc_job_plugin=\"cp2k\")"
   ]
  },
  {
   "cell_type": "code",
   "execution_count": null,
   "metadata": {},
   "outputs": [],
   "source": [
    "# Workchain submission.\n",
    "\n",
    "def get_builder():\n",
    "    \"\"\"Get the builder for the adsorption energy calculation.\"\"\"\n",
    "    builder = Cp2kFragmentSeparationWorkChain.get_builder()\n",
    "    builder.code = orm.load_code(computational_resources.value)\n",
    "    builder.structure = structure_selector.structure_node\n",
    "    builder.metadata.label=\"CP2K_AdsorptionE\"\n",
    "\n",
    "    # Fragments' indices.\n",
    "    builder.fragments = {fragment.name.value: orm.List(list=awb.utils.string_range_to_list(fragment.indices.value)[0]) for fragment in fragment_list.fragments}\n",
    "    \n",
    "    # Fragments' charges.\n",
    "    charges = {fragment.name.value: fragment.charge.value for fragment in fragment_list.fragments}\n",
    "\n",
    "    # Resources.\n",
    "    builder.options = {\n",
    "        fragment.name.value: {\n",
    "            \"max_wallclock_seconds\": fragment.resources.walltime_seconds,\n",
    "            \"resources\": {\n",
    "                \"num_machines\": fragment.resources.nodes,\n",
    "                \"num_mpiprocs_per_machine\": fragment.resources.tasks_per_node,\n",
    "                \"num_cores_per_mpiproc\": fragment.resources.threads_per_task,\n",
    "            },\n",
    "        }\n",
    "        for fragment in fragment_list.fragments\n",
    "    }\n",
    "\n",
    "    dft_params = {}\n",
    "\n",
    "    # UKS\n",
    "    if uks_widget.uks:\n",
    "        multiplicities = {fragment.name.value: fragment.multiplicity.value for fragment in fragment_list.fragments}        \n",
    "        dft_params.update({\n",
    "            \"uks\": True,\n",
    "            \"magnetization_per_site\": uks_widget.return_dict()[\"dft_params\"][\"magnetization_per_site\"],\n",
    "            \"multiplicities\": multiplicities,\n",
    "        })\n",
    "\n",
    "    builder.fixed_atoms = orm.List(list=awb.utils.string_range_to_list(fixed_atoms.value)[0])\n",
    "    builder.protocol = orm.Str(protocol.value)  \n",
    "\n",
    "    # Check if a restart wfn is available.\n",
    "    dft_params.update({\n",
    "        \"charges\": charges,\n",
    "        \"vdw\": True,\n",
    "        \"periodic\": \"XYZ\"\n",
    "    })\n",
    "\n",
    "    builder.dft_params=orm.Dict(dft_params)\n",
    "    wave_function = None\n",
    "\n",
    "    if structure_selector.structure_node.is_stored:\n",
    "        wave_function = wfn.structure_available_wfn(\n",
    "        node=structure_selector.structure_node,\n",
    "        relative_replica_id=None,\n",
    "        current_hostname=builder.code.computer.hostname,\n",
    "        return_path=False,\n",
    "        dft_params=dft_params,\n",
    "        )\n",
    "    if wave_function is not None:\n",
    "        print(f\"Restarting from wfn in folder: {wave_function.pk}\")\n",
    "        builder.parent_calc_folder = wave_function    \n",
    "\n",
    "    return builder\n",
    "\n",
    "btn_submit_ads = awb.SubmitButtonWidget(Cp2kFragmentSeparationWorkChain, inputs_generator=get_builder)"
   ]
  },
  {
   "cell_type": "code",
   "execution_count": null,
   "metadata": {},
   "outputs": [],
   "source": [
    "display(structure_selector)"
   ]
  },
  {
   "cell_type": "markdown",
   "metadata": {},
   "source": [
    "# Fragments"
   ]
  },
  {
   "cell_type": "code",
   "execution_count": null,
   "metadata": {},
   "outputs": [],
   "source": [
    "display(fragment_list)"
   ]
  },
  {
   "cell_type": "markdown",
   "metadata": {},
   "source": [
    "# DFT settings"
   ]
  },
  {
   "cell_type": "code",
   "execution_count": null,
   "metadata": {},
   "outputs": [],
   "source": [
    "display(uks_widget, protocol, fixed_atoms)"
   ]
  },
  {
   "cell_type": "markdown",
   "metadata": {},
   "source": [
    "# Codes and resources"
   ]
  },
  {
   "cell_type": "code",
   "execution_count": null,
   "metadata": {},
   "outputs": [],
   "source": [
    "display(ipw.HBox([computational_resources, estimate_nodes_button]))"
   ]
  },
  {
   "cell_type": "markdown",
   "metadata": {},
   "source": [
    "# Submission"
   ]
  },
  {
   "cell_type": "code",
   "execution_count": null,
   "metadata": {},
   "outputs": [],
   "source": [
    "display(btn_submit_ads)"
   ]
  }
 ],
 "metadata": {
  "kernelspec": {
   "display_name": "Python 3 (ipykernel)",
   "language": "python",
   "name": "python3"
  },
  "language_info": {
   "codemirror_mode": {
    "name": "ipython",
    "version": 3
   },
   "file_extension": ".py",
   "mimetype": "text/x-python",
   "name": "python",
   "nbconvert_exporter": "python",
   "pygments_lexer": "ipython3",
   "version": "3.9.13"
  },
  "vscode": {
   "interpreter": {
    "hash": "d4d1e4263499bec80672ea0156c357c1ee493ec2b1c70f0acce89fc37c4a6abe"
   }
  }
 },
 "nbformat": 4,
 "nbformat_minor": 2
}
