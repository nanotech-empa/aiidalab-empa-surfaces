{
 "cells": [
  {
   "cell_type": "code",
   "execution_count": null,
   "metadata": {},
   "outputs": [],
   "source": [
    "%%javascript\n",
    "IPython.OutputArea.prototype._should_scroll = function(lines) {\n",
    "    return false;\n",
    "}"
   ]
  },
  {
   "cell_type": "code",
   "execution_count": null,
   "metadata": {},
   "outputs": [],
   "source": [
    "# General imports.\n",
    "import ipywidgets as ipw\n",
    "from IPython.display import clear_output\n",
    "import numpy as np\n",
    "\n",
    "# AiiDA imports.\n",
    "%aiida\n",
    "from aiida.engine import submit, run, run_get_node\n",
    "\n",
    "# AiiDA lab imports.\n",
    "from aiidalab_widgets_base import CodeDropdown, SubmitButtonWidget, StructureBrowserWidget\n",
    "\n",
    "# Local imports\n",
    "from apps.surfaces.reactions.dft_details_dev import DFTDetails\n",
    "from apps.surfaces.reactions.neb_details import NebDetails\n",
    "from apps.surfaces.reactions.viewer_details import ViewerDetails\n",
    "from apps.surfaces.reactions.slab_validity import slab_is_valid\n",
    "from apps.surfaces.reactions.suggested_param import suggested_parameters\n",
    "from apps.surfaces.reactions import analyze_structure\n",
    "from apps.surfaces.reactions.metadata import MetadataWidget\n",
    "from apps.surfaces.reactions.workchains import NEBWorkChain"
   ]
  },
  {
   "cell_type": "code",
   "execution_count": null,
   "metadata": {},
   "outputs": [],
   "source": [
    "# General parameters.\n",
    "job_details = {'workchain':'NEBWorkChain'}\n",
    "atoms = []\n",
    "details = []\n",
    "slab_analyzed=[]"
   ]
  },
  {
   "cell_type": "code",
   "execution_count": null,
   "metadata": {},
   "outputs": [],
   "source": [
    "# Widgets monitor functions.\n",
    "def on_struct_change(c):\n",
    "    global atoms, slab_analyzed\n",
    "    if not struct_browser.results.value:\n",
    "        return\n",
    "    job_details['structure']=struct_browser.results.value\n",
    "    node = struct_browser.results.value\n",
    "    atoms = node.get_ase()\n",
    "    atoms.pbc = [1, 1, 1]\n",
    "    slab_analyzed = analyze_structure.analyze(atoms)\n",
    "    job_details['slab_analyzed']=slab_analyzed\n",
    "    dft_details_widget.reset()  \n",
    "    neb_details_widget.reset()\n",
    "    guess_calc_params()\n",
    "    \n",
    "    viewer_widget.setup(atoms, slab_analyzed)\n",
    "    \n",
    "    with mol_ids_info_out:\n",
    "        clear_output()\n",
    "        print(slab_analyzed['summary'])\n",
    "\n",
    "def on_fixed_atoms_btn_click(c):\n",
    "    if dft_details_widget.btn_fixed_pressed:\n",
    "        viewer_widget.show_fixed(dft_details_widget.fixed_atoms.value)\n",
    "    else:\n",
    "        viewer_widget.show_fixed(\"\")\n",
    "        \n",
    "def guess_calc_params():\n",
    "    method=dft_details_widget.calc_type.value\n",
    "    valid_slab,msg = slab_is_valid(slab_analyzed,method)\n",
    "    if valid_slab:        \n",
    "        atoms_to_fix,num_nodes=suggested_parameters(slab_analyzed,method)\n",
    "        dft_details_widget.reset(fixed_atoms=atoms_to_fix,calc_type=method)\n",
    "        num_nodes_selector.value = num_nodes\n",
    "    else:\n",
    "        print(msg)"
   ]
  },
  {
   "cell_type": "markdown",
   "metadata": {},
   "source": [
    "# Submit a NEB calculation"
   ]
  },
  {
   "cell_type": "markdown",
   "metadata": {},
   "source": [
    "## Structure"
   ]
  },
  {
   "cell_type": "code",
   "execution_count": null,
   "metadata": {},
   "outputs": [],
   "source": [
    "# Display widgets and define job parameters.\n",
    "\n",
    "# Strciture selection.\n",
    "struct_browser = StructureBrowserWidget()\n",
    "struct_browser.results.observe(on_struct_change, names='value')\n",
    "\n",
    "# Displaying the structure viewer.\n",
    "viewer_widget = ViewerDetails()\n",
    "mol_ids_info_out = ipw.Output()\n",
    "display(ipw.VBox([struct_browser, viewer_widget, mol_ids_info_out]))\n",
    "\n",
    "# Code selection.\n",
    "computer_code_dropdown = CodeDropdown(input_plugin='cp2k', path_to_root=\"../../\")\n",
    "\n",
    "# Misc details.\n",
    "style = {'description_width': '120px'}\n",
    "layout = {'width': '70%'}\n",
    "num_nodes_selector = ipw.IntText(\n",
    "    value=1,\n",
    "    description='# Nodes',\n",
    "    style=style, layout=layout)\n",
    "calc_name_selector = ipw.Text(\n",
    "    description='Calculation Name: ',\n",
    "    placeholder='A great name.',\n",
    "    style=style, layout=layout)\n",
    "\n",
    "# DFT.\n",
    "dft_details_widget = DFTDetails(job_details=job_details)    \n",
    "dft_details_widget.btn_fixed_atoms.on_click(on_fixed_atoms_btn_click)\n",
    "dft_details_widget.calc_type.observe(lambda c: guess_calc_params(), names='value')\n",
    "\n",
    "# NEB.\n",
    "neb_details_widget = NebDetails(computer_code_dropdown, dft_details_widget) \n",
    "def enable_submit(c):\n",
    "    btn_submit.btn_submit.disabled=False\n",
    "neb_details_widget.setup_btn.on_click(enable_submit)\n",
    "\n",
    "display(\n",
    "    ipw.VBox(\n",
    "        [\n",
    "            computer_code_dropdown,\n",
    "            num_nodes_selector,\n",
    "            calc_name_selector,\n",
    "            dft_details_widget,\n",
    "            neb_details_widget\n",
    "        ]\n",
    "    )\n",
    ")"
   ]
  },
  {
   "cell_type": "code",
   "execution_count": null,
   "metadata": {},
   "outputs": [],
   "source": [
    "def get_plain_input():\n",
    "    error_msg, submit_dict = CP2K2DICT(input_lines=plain_input.value)\n",
    "    if error_msg != \"\":\n",
    "        print(error_msg)\n",
    "    else:\n",
    "        input_builder = Cp2kBaseWorkChain.get_builder()\n",
    "        \n",
    "        # Code.\n",
    "        input_builder.cp2k.code = computer_code_dropdown.selected_code\n",
    "        # Structure.\n",
    "        input_builder.cp2k.file.input_xyz = make_geom_file(structure_selector.structure_node, Str(\"mol_on_slab.xyz\")) \n",
    "        if details_dict['calc_type'] != 'Full DFT':\n",
    "            # slab potential\n",
    "            slab_element=list(slab_analyzed['slab_elements'])[0]\n",
    "            input_builder.cp2k.file.pot_f = SinglefileData(file='/home/aiida/apps/surfaces/slab/'+slab_element+'.pot')\n",
    "            mol_indexes = list(itertools.chain(*slab_analyzed['all_molecules']))\n",
    "            input_builder.cp2k.file.mol_xyz = make_geom_file(structure_selector.structure_node,\n",
    "                                                             Str(\"mol.xyz\"),\n",
    "                                                             selection=List(list=mol_indexes))\n",
    "        input_builder.handler_overrides = Dict(dict={'resubmit_unconverged_geometry':True})\n",
    "        input_builder.cp2k.metadata = metadata_widget.dict\n",
    "        input_builder.metadata.label = \"SlabGeoOptWorkChain\"\n",
    "        input_builder.metadata.description = process_description.value\n",
    "        input_builder.cp2k.metadata['label'] = \"slab_geo_opt\"\n",
    "        input_builder.cp2k.metadata['description'] = process_description.value\n",
    "        input_builder.cp2k.parameters = Dict(dict=submit_dict)\n",
    "    return input_builder"
   ]
  },
  {
   "cell_type": "code",
   "execution_count": null,
   "metadata": {},
   "outputs": [],
   "source": [
    "def build_inputs():\n",
    "    builder = NEBWorkChain.get_builder()\n",
    "    builder.cp2k_code = computer_code_dropdown.selected_code\n",
    "    builder.structure = struct_browser.results.value\n",
    "    builder.max_force = Float(dft_details_widget.max_force.value)\n",
    "    builder.calc_type = Str(dft_details_widget.calc_type.value)\n",
    "    builder.vdw_switch = Bool(dft_details_widget.vdw_switch.value)\n",
    "    builder.mgrid_cutoff = Int(dft_details_widget.mgrid_cutoff.value)\n",
    "    builder.fixed_atoms = Str(dft_details_widget.fixed_atoms.value)\n",
    "    builder.num_machines = Int(num_nodes_selector.value)\n",
    "    builder.struc_folder = neb_details_widget.struct_folder\n",
    "    builder.wfn_cp_commands = List(list=neb_details_widget.aiida_wfn_cp_list)\n",
    "    builder.calc_name = Str(calc_name_selector.value)\n",
    "    builder.nproc_rep = Int(neb_details_widget.proc_rep.value)\n",
    "    builder.nreplicas = Int(neb_details_widget.num_rep.value)\n",
    "    builder.replica_pks = Str(neb_details_widget.text_replica_pks.value)\n",
    "    builder.spring = Float(neb_details_widget.spring_constant.value)\n",
    "    builder.rotate = Bool(neb_details_widget.rotate_frames.value)\n",
    "    builder.align = Bool(neb_details_widget.align_frames.value)\n",
    "    builder.nstepsit = Int(neb_details_widget.nsteps_it.value)\n",
    "    builder.endpoints = Bool(neb_details_widget.optimize_endpoints.value)\n",
    "    builder.metadata = {\n",
    "        \"description\": calc_name_selector.value,\n",
    "        \"label\": \"NEBWorkChain\",\n",
    "    }\n",
    "    return builder"
   ]
  },
  {
   "cell_type": "markdown",
   "metadata": {},
   "source": [
    "## Submission"
   ]
  },
  {
   "cell_type": "code",
   "execution_count": null,
   "metadata": {},
   "outputs": [],
   "source": [
    "# Submit button.\n",
    "btn_submit = SubmitButtonWidget(NEBWorkChain, input_dictionary_function=build_inputs)\n",
    "btn_submit.btn_submit.disabled=True\n",
    "display(btn_submit)"
   ]
  }
 ],
 "metadata": {
  "kernelspec": {
   "display_name": "Python 3",
   "language": "python",
   "name": "python3"
  },
  "language_info": {
   "codemirror_mode": {
    "name": "ipython",
    "version": 3
   },
   "file_extension": ".py",
   "mimetype": "text/x-python",
   "name": "python",
   "nbconvert_exporter": "python",
   "pygments_lexer": "ipython3",
   "version": "3.7.4"
  }
 },
 "nbformat": 4,
 "nbformat_minor": 2
}
