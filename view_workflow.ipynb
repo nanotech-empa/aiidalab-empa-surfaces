{
 "cells": [
  {
   "cell_type": "code",
   "execution_count": null,
   "metadata": {},
   "outputs": [],
   "source": [
    "%load_ext aiida\n",
    "%aiida\n",
    "import urllib.parse as urlparse\n",
    "import ipywidgets as ipw\n",
    "from surfaces_tools.widgets.empa_viewer import EmpaStructureViewer\n",
    "from surfaces_tools.widgets.comments import CommentsWidget \n",
    "from surfaces_tools.widgets.obsolete import ObsoleteWidget\n",
    "from surfaces_tools.helpers import HART_2_EV"
   ]
  },
  {
   "cell_type": "code",
   "execution_count": null,
   "metadata": {},
   "outputs": [],
   "source": [
    "pk = urlparse.parse_qs(urlparse.urlsplit(jupyter_notebook_url).query)['pk'][0]\n",
    "workcalc = load_node(pk)\n",
    "#opt_structure = workcalc.outputs.output_structure"
   ]
  },
  {
   "cell_type": "code",
   "execution_count": null,
   "metadata": {},
   "outputs": [],
   "source": [
    "#display(EmpaStructureViewer(structure=opt_structure))"
   ]
  },
  {
   "cell_type": "markdown",
   "metadata": {},
   "source": [
    "# Output parameters"
   ]
  },
  {
   "cell_type": "code",
   "execution_count": null,
   "metadata": {},
   "outputs": [],
   "source": [
    "info = ipw.HTML()\n",
    "display(info)\n",
    "html = f'<b>Workchain label: {workcalc.label}</b> <br>'\n",
    "try:\n",
    "    output_keys = print(workcalc.outputs.output_parameters.get_dict().keys())\n",
    "\n",
    "    html += f'<b>Output dictionary keys: {output_keys}</b> <br>'\n",
    "except:\n",
    "    html += f'<b>No output dictionary</b> <br>'\n",
    "    pass\n",
    "info.value=html\n"
   ]
  },
  {
   "cell_type": "markdown",
   "metadata": {},
   "source": [
    "# Comments"
   ]
  },
  {
   "cell_type": "code",
   "execution_count": null,
   "metadata": {},
   "outputs": [],
   "source": [
    "comments_widget=CommentsWidget(workchain=pk)\n",
    "display(comments_widget)"
   ]
  },
  {
   "cell_type": "markdown",
   "metadata": {},
   "source": [
    "# Mark calculation as obsolete "
   ]
  },
  {
   "cell_type": "code",
   "execution_count": null,
   "metadata": {},
   "outputs": [],
   "source": [
    "obsolete = ObsoleteWidget(workchain=pk)\n",
    "display(obsolete)"
   ]
  }
 ],
 "metadata": {
  "kernelspec": {
   "display_name": "Python 3 (ipykernel)",
   "language": "python",
   "name": "python3"
  },
  "language_info": {
   "codemirror_mode": {
    "name": "ipython",
    "version": 3
   },
   "file_extension": ".py",
   "mimetype": "text/x-python",
   "name": "python",
   "nbconvert_exporter": "python",
   "pygments_lexer": "ipython3",
   "version": "3.9.13"
  }
 },
 "nbformat": 4,
 "nbformat_minor": 2
}
