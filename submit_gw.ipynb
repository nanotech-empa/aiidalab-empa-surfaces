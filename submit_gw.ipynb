{
 "cells": [
  {
   "cell_type": "markdown",
   "source": [
    "#  Submit geo opt for molecules, slabs and bulks. GW for molecules"
   ],
   "metadata": {}
  },
  {
   "cell_type": "code",
   "execution_count": null,
   "source": [
    "# General imports.\n",
    "import nglview\n",
    "import numpy as np\n",
    "import ipywidgets as ipw\n",
    "from IPython.display import clear_output\n",
    "import itertools\n",
    "\n",
    "from traitlets import dlink\n",
    "\n",
    "# AiiDA imports.\n",
    "%aiida\n",
    "from aiida.orm import Dict as Dict\n",
    "from aiida.orm import SinglefileData, Node\n",
    "\n",
    "# Workchains.\n",
    "from aiida_cp2k.workchains.base import Cp2kBaseWorkChain\n",
    "from apps.surfaces.molecules.gw_workchain import GwWorkChain\n",
    "\n",
    "# AiiDA lab imports.\n",
    "from aiidalab_widgets_base.utils import string_range_to_list, list_to_string_range\n",
    "from aiidalab_widgets_base import CodeDropdown, StructureManagerWidget, BasicStructureEditor\n",
    "from aiidalab_widgets_base import StructureBrowserWidget, StructureUploadWidget, SubmitButtonWidget, SmilesWidget\n",
    "\n",
    "# Custom imports.\n",
    "from apps.surfaces.widgets.create_xyz_input_files import make_geom_file\n",
    "from apps.surfaces.widgets.ANALYZE_structure import StructureAnalyzer\n",
    "from apps.surfaces.widgets.build_slab import BuildSlab\n",
    "from apps.surfaces.widgets.cp2k2dict import CP2K2DICT\n",
    "from apps.surfaces.widgets.inputs import InputDetails\n",
    "from apps.surfaces.widgets.empa_viewer import EmpaStructureViewer\n",
    "from apps.surfaces.widgets.import_cdxml import CdxmlUpload2GnrWidget"
   ],
   "outputs": [],
   "metadata": {}
  },
  {
   "cell_type": "code",
   "execution_count": null,
   "source": [
    "%%javascript\n",
    "IPython.OutputArea.prototype._should_scroll = function(lines) {\n",
    "    return false;\n",
    "}"
   ],
   "outputs": [],
   "metadata": {}
  },
  {
   "cell_type": "code",
   "execution_count": null,
   "source": [
    "# Structure selector.\n",
    "empa_viewer = EmpaStructureViewer()\n",
    "\n",
    "structure_selector = StructureManagerWidget(\n",
    "    viewer=empa_viewer,\n",
    "    importers=[\n",
    "        StructureBrowserWidget(title=\"AiiDA database\"),\n",
    "        StructureUploadWidget(title=\"Import from computer\"),\n",
    "        SmilesWidget(title=\"From SMILES\"),\n",
    "        CdxmlUpload2GnrWidget(title=\"CDXML\"),\n",
    "    ],\n",
    "    editors = [\n",
    "        BasicStructureEditor(title=\"Edit structure\")\n",
    "    ],\n",
    "    storable=False, node_class='StructureData')\n",
    "display(structure_selector)\n",
    "\n",
    "# Code.\n",
    "computer_code_dropdown = CodeDropdown(input_plugin='cp2k')\n",
    "#input_details = InputDetails()\n",
    "create_input = ipw.Button(description=\"Create Input\")"
   ],
   "outputs": [],
   "metadata": {
    "scrolled": true
   }
  },
  {
   "cell_type": "code",
   "execution_count": null,
   "source": [
    "#dlink((empa_viewer, 'details'), (input_details, 'details'))\n",
    "#dlink((computer_code_dropdown, 'selected_code'),(input_details, 'selected_code'))\n",
    "\n",
    "def get_plain_input_gw():\n",
    "    error_msg,submit_dict = CP2K2DICT(input_lines = input_details.plain_input.value)\n",
    "    if error_msg != \"\":\n",
    "        print(error_msg)\n",
    "        return\n",
    "    \n",
    "    builder = GwWorkChain.get_builder()\n",
    "    final_dict = input_details.final_dictionary.copy()\n",
    "    builder.metadata.description = final_dict['description']\n",
    "    builder.metadata.label = final_dict['workchain']    \n",
    "    builder['final_dict'] = Dict(dict=final_dict)\n",
    "\n",
    "    ## GW CASE USE GW workchian\n",
    "\n",
    "    \n",
    "    builder['submit_dict'] = Dict(dict=submit_dict)\n",
    "\n",
    "    ## create simple SCF input from the GW input\n",
    "    structure = structure_selector.structure_node\n",
    "    if final_dict['ic_plane_z']:\n",
    "        builder['xyz_gw'] = make_geom_file(structure,\n",
    "                                 Str(\"mol.xyz\"),\n",
    "                                 spin_u=Str(final_dict['spin_u']),\n",
    "                                 spin_d=Str(final_dict['spin_d']),\n",
    "                                 ic_plane_z=Float(final_dict['ic_plane_z'])\n",
    "                                )\n",
    "    else:\n",
    "        builder['xyz_gw'] = make_geom_file(structure,\n",
    "                                 Str(\"mol.xyz\"),\n",
    "                                 spin_u=Str(final_dict['spin_u']),\n",
    "                                 spin_d=Str(final_dict['spin_d'])\n",
    "                                )        \n",
    "\n",
    "    builder['code'] = computer_code_dropdown.selected_code\n",
    "\n",
    "    return builder\n",
    "\n"
   ],
   "outputs": [],
   "metadata": {}
  },
  {
   "cell_type": "code",
   "execution_count": null,
   "source": [
    "def after_submission(_=None):   \n",
    "    structure_selector.value = None\n",
    "\n",
    "\n",
    "btn_submit_gw = SubmitButtonWidget(GwWorkChain, \n",
    "                                input_dictionary_function=get_plain_input_gw\n",
    "                               )\n",
    "\n",
    "btn_submit_gw.on_submitted(after_submission)"
   ],
   "outputs": [],
   "metadata": {}
  },
  {
   "cell_type": "code",
   "execution_count": null,
   "source": [
    "output = ipw.Output()\n",
    "def update_all(_=None):\n",
    "    btn_submit.btn_submit.disabled=True    \n",
    "\n",
    "def create(_=None):\n",
    "    if computer_code_dropdown.selected_code is None:\n",
    "        msg = 'please select a computer'\n",
    "        can_submit = False\n",
    "    else:            \n",
    "        can_submit, msg, details_dict = input_details.return_final_dictionary()\n",
    "       # if len(details_dict['description']) < 4 :\n",
    "       #     msg = 'Please provide a better description'\n",
    "       #     can_submit = False\n",
    "            \n",
    "        btn_submit.btn_submit.disabled = not can_submit\n",
    "    with output:\n",
    "        clear_output()\n",
    "        if can_submit:\n",
    "            print(\"Ready to submit a \",details_dict['workchain'],\" type of calculation\" )\n",
    "            if details_dict['workchain'] == 'GWWorkChain':\n",
    "                display(btn_submit_gw)\n",
    "            else:\n",
    "                display(btn_submit)\n",
    "        else:\n",
    "            print(msg)\n",
    "\n",
    "create_input.on_click(create)\n",
    "input_details.observe(update_all, names='details')"
   ],
   "outputs": [],
   "metadata": {}
  },
  {
   "cell_type": "code",
   "execution_count": null,
   "source": [
    "display(ipw.VBox([computer_code_dropdown]), output)"
   ],
   "outputs": [],
   "metadata": {}
  }
 ],
 "metadata": {
  "kernelspec": {
   "display_name": "Python 3",
   "language": "python",
   "name": "python3"
  },
  "language_info": {
   "codemirror_mode": {
    "name": "ipython",
    "version": 3
   },
   "file_extension": ".py",
   "mimetype": "text/x-python",
   "name": "python",
   "nbconvert_exporter": "python",
   "pygments_lexer": "ipython3",
   "version": "3.7.4"
  }
 },
 "nbformat": 4,
 "nbformat_minor": 2
}