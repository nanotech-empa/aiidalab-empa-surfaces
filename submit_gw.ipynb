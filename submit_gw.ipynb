{
 "cells": [
  {
   "cell_type": "markdown",
   "metadata": {},
   "source": [
    "#  Submit GW for molecules"
   ]
  },
  {
   "cell_type": "code",
   "execution_count": 1,
   "metadata": {},
   "outputs": [
    {
     "data": {
      "application/vnd.jupyter.widget-view+json": {
       "model_id": "2abfe82605f54d4f9f02eb759bbe4325",
       "version_major": 2,
       "version_minor": 0
      },
      "text/plain": []
     },
     "metadata": {},
     "output_type": "display_data"
    }
   ],
   "source": [
    "# General imports.\n",
    "import nglview\n",
    "import numpy as np\n",
    "import ipywidgets as ipw\n",
    "from IPython.display import clear_output\n",
    "import itertools\n",
    "\n",
    "from traitlets import dlink\n",
    "\n",
    "# AiiDA imports.\n",
    "%aiida\n",
    "from aiida.orm import Dict as Dict\n",
    "from aiida.orm import SinglefileData, Node\n",
    "\n",
    "# Workchains.\n",
    "from aiida.plugins import WorkflowFactory\n",
    "\n",
    "\n",
    "\n",
    "# AiiDA lab imports.\n",
    "from aiidalab_widgets_base.utils import string_range_to_list, list_to_string_range\n",
    "from aiidalab_widgets_base import CodeDropdown, StructureManagerWidget, BasicStructureEditor\n",
    "from aiidalab_widgets_base import StructureBrowserWidget, StructureUploadWidget, SubmitButtonWidget, SmilesWidget\n",
    "\n",
    "# Custom imports.\n",
    "from apps.surfaces.widgets.create_xyz_input_files import make_geom_file\n",
    "from apps.surfaces.widgets.ANALYZE_structure import StructureAnalyzer\n",
    "from apps.surfaces.widgets.build_slab import BuildSlab\n",
    "from apps.surfaces.widgets.cp2k2dict import CP2K2DICT\n",
    "from apps.surfaces.widgets.inputs import InputDetails\n",
    "from apps.surfaces.widgets.empa_viewer import EmpaStructureViewer\n",
    "from apps.surfaces.widgets.import_cdxml import CdxmlUpload2GnrWidget"
   ]
  },
  {
   "cell_type": "code",
   "execution_count": 2,
   "metadata": {},
   "outputs": [
    {
     "data": {
      "application/javascript": [
       "IPython.OutputArea.prototype._should_scroll = function(lines) {\n",
       "    return false;\n",
       "}\n"
      ],
      "text/plain": [
       "<IPython.core.display.Javascript object>"
      ]
     },
     "metadata": {},
     "output_type": "display_data"
    }
   ],
   "source": [
    "%%javascript\n",
    "IPython.OutputArea.prototype._should_scroll = function(lines) {\n",
    "    return false;\n",
    "}"
   ]
  },
  {
   "cell_type": "code",
   "execution_count": 3,
   "metadata": {},
   "outputs": [],
   "source": [
    "Cp2kAdsorbedGwIcWorkChain = WorkflowFactory('nanotech_empa.cp2k.ads_gw_ic')"
   ]
  },
  {
   "cell_type": "code",
   "execution_count": 4,
   "metadata": {
    "scrolled": true
   },
   "outputs": [
    {
     "data": {
      "application/vnd.jupyter.widget-view+json": {
       "model_id": "a88bd271499747cfa2153b70be658a30",
       "version_major": 2,
       "version_minor": 0
      },
      "text/plain": [
       "StructureManagerWidget(children=(Tab(children=(StructureBrowserWidget(children=(VBox(children=(VBox(children=(…"
      ]
     },
     "metadata": {},
     "output_type": "display_data"
    },
    {
     "name": "stderr",
     "output_type": "stream",
     "text": [
      "/opt/conda/lib/python3.7/site-packages/aiida/orm/computers.py:757: AiidaDeprecationWarning: this property is deprecated, use the `label` property instead\n",
      "  warnings.warn('this property is deprecated, use the `label` property instead', AiidaDeprecationWarning)  # pylint: disable=no-member\n"
     ]
    }
   ],
   "source": [
    "# Structure selector.\n",
    "empa_viewer = EmpaStructureViewer()\n",
    "\n",
    "structure_selector = StructureManagerWidget(\n",
    "    viewer=empa_viewer,\n",
    "    importers=[\n",
    "        StructureBrowserWidget(title=\"AiiDA database\"),\n",
    "        StructureUploadWidget(title=\"Import from computer\"),\n",
    "        SmilesWidget(title=\"From SMILES\"),\n",
    "        CdxmlUpload2GnrWidget(title=\"CDXML\"),\n",
    "    ],\n",
    "    editors = [\n",
    "        BasicStructureEditor(title=\"Edit structure\")\n",
    "    ],\n",
    "    storable=False, node_class='StructureData')\n",
    "display(structure_selector)\n",
    "\n",
    "# Code.\n",
    "computer_code_dropdown = CodeDropdown(input_plugin='cp2k')\n",
    "#input_details = InputDetails()\n",
    "create_input = ipw.Button(description=\"Create Input\")"
   ]
  },
  {
   "cell_type": "code",
   "execution_count": null,
   "metadata": {},
   "outputs": [],
   "source": [
    "#dlink((empa_viewer, 'details'), (input_details, 'details'))\n",
    "#dlink((computer_code_dropdown, 'selected_code'),(input_details, 'selected_code'))\n",
    "\n",
    "def get_builder_gw():\n",
    "    \n",
    "    builder = Cp2kAdsorbedGwIcWorkChain.get_builder()\n",
    "\n",
    "    builder.metadata.description = 'a description'\n",
    "    builder.code = computer_code_dropdown.selected_code\n",
    "\n",
    "    slab_included = True\n",
    "\n",
    "#   builder.ads_height = Float(3.0) no slab\n",
    "\n",
    "    ase_geom =  structure_selector.structure        \n",
    "\n",
    "    # Convert ase tags to magnetization list\n",
    "    mag_list = [\n",
    "        -1 if t == 1 else 1 if t == 2 else 0 for t in ase_geom.get_tags()\n",
    "    ]  \n",
    "    builder.structure = structure_selector.structure_node # StructureData(ase=ase_geom)\n",
    "    builder.magnetization_per_site = List(list=mag_list)\n",
    "\n",
    "    builder.protocol = Str('gpw_std')\n",
    "    builder.multiplicity = Int(1)\n",
    "\n",
    "    builder.geometry_mode = Str('ads_geo')\n",
    "\n",
    "    builder.debug = Bool(True)\n",
    "    builder.walltime_seconds = Int(5 * 60)\n",
    "    builder.max_nodes = Int(1)    \n",
    "    \n",
    "\n",
    "    return builder\n",
    "\n"
   ]
  },
  {
   "cell_type": "code",
   "execution_count": null,
   "metadata": {},
   "outputs": [],
   "source": [
    "def after_submission(_=None):   \n",
    "    structure_selector.value = None\n",
    "\n",
    "\n",
    "btn_submit_gw = SubmitButtonWidget(Cp2kAdsorbedGwIcWorkChain, \n",
    "                                input_dictionary_function=get_builder_gw\n",
    "                               )\n",
    "\n",
    "btn_submit_gw.on_submitted(after_submission)"
   ]
  },
  {
   "cell_type": "code",
   "execution_count": null,
   "metadata": {},
   "outputs": [],
   "source": [
    "output = ipw.Output()\n",
    "def update_all(_=None):\n",
    "    btn_submit.btn_submit.disabled=True    \n",
    "\n",
    "def create(_=None):\n",
    "    if computer_code_dropdown.selected_code is None:\n",
    "        msg = 'please select a computer'\n",
    "        can_submit = False\n",
    "    else:            \n",
    "        can_submit, msg, details_dict = input_details.return_final_dictionary()\n",
    "       # if len(details_dict['description']) < 4 :\n",
    "       #     msg = 'Please provide a better description'\n",
    "       #     can_submit = False\n",
    "            \n",
    "        btn_submit.btn_submit.disabled = not can_submit\n",
    "    with output:\n",
    "        clear_output()\n",
    "        if can_submit:\n",
    "            print(\"Ready to submit a \",details_dict['workchain'],\" type of calculation\" )\n",
    "            if details_dict['workchain'] == 'GWWorkChain':\n",
    "                display(btn_submit_gw)\n",
    "            else:\n",
    "                display(btn_submit)\n",
    "        else:\n",
    "            print(msg)\n"
   ]
  },
  {
   "cell_type": "code",
   "execution_count": null,
   "metadata": {},
   "outputs": [],
   "source": [
    "display(ipw.VBox([computer_code_dropdown,btn_submit_gw]), output)"
   ]
  }
 ],
 "metadata": {
  "kernelspec": {
   "display_name": "Python 3",
   "language": "python",
   "name": "python3"
  },
  "language_info": {
   "codemirror_mode": {
    "name": "ipython",
    "version": 3
   },
   "file_extension": ".py",
   "mimetype": "text/x-python",
   "name": "python",
   "nbconvert_exporter": "python",
   "pygments_lexer": "ipython3",
   "version": "3.7.9"
  }
 },
 "nbformat": 4,
 "nbformat_minor": 2
}
