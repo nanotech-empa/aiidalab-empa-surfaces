{
 "cells": [
  {
   "cell_type": "markdown",
   "metadata": {},
   "source": [
    "# Search AiiDA Database Slab optimizations"
   ]
  },
  {
   "cell_type": "code",
   "execution_count": null,
   "metadata": {},
   "outputs": [],
   "source": [
    "%aiida\n",
    "import copy\n",
    "import ipywidgets as ipw\n",
    "from IPython.display import clear_output\n",
    "from widgets.search_completed_widget import SearchCompletedWidget\n",
    "from widgets import search_old_completed_widget"
   ]
  },
  {
   "cell_type": "code",
   "execution_count": null,
   "metadata": {},
   "outputs": [],
   "source": [
    "workchain_dict={\n",
    "    'Slab':{'label':['SlabGeoOptWorkChain','Cp2kSlabOptWorkChain'],'clabel':'slab_geo_opt',\n",
    "            'active':{'cell': True, 'volume':True,'cell_opt':True}},\n",
    "    'Molecule':{'label':['MoleculeOptWorkChain','Cp2kMoleculeOptWorkChain'],'clabel':'molecule_opt',\n",
    "                'active':{'cell': True, 'volume':True,'cell_opt':True}},\n",
    "    'Bulk' :{'label':['Cp2kBulkOptWorkChain','Cp2kBulkOptWorkChain'],'clabel':'',\n",
    "             'active':{'cell': False, 'volume':False,'cell_opt':False}}\n",
    "}\n",
    "old = ipw.Checkbox(\n",
    "    value=False,\n",
    "    description='OLD workchains',\n",
    "    disabled=False,\n",
    "    indent=False\n",
    ")\n",
    "system_type = ipw.Dropdown(\n",
    "    options=['Slab', 'Bulk', 'Molecule'],\n",
    "    value='Slab',\n",
    "    description='System type',\n",
    "    disabled=False,\n",
    ")\n",
    "output = ipw.Output()\n",
    "def select_version(_=None):\n",
    "    fields_disable = {}\n",
    "    if old.value:\n",
    "        PREPROC_VERSION = 2.00\n",
    "        fields_disable=copy.deepcopy(workchain_dict[system_type.value]['active'])\n",
    "        s=search_old_completed_widget.SearchCompletedWidget(\n",
    "            version=PREPROC_VERSION,\n",
    "            wlabel=workchain_dict[system_type.value]['label'][0],\n",
    "            clabel=workchain_dict[system_type.value]['clabel'],\n",
    "            fields_disable=fields_disable\n",
    "        )     \n",
    "    else:\n",
    "        fields_disable=copy.deepcopy(workchain_dict[system_type.value]['active'])\n",
    "        s = SearchCompletedWidget(\n",
    "            wlabel=workchain_dict[system_type.value]['label'][1],\n",
    "            fields_disable=fields_disable\n",
    "        )\n",
    "    with output:\n",
    "        clear_output()\n",
    "        display(ipw.VBox([old,system_type,s]))\n",
    "        \n",
    "old.observe(select_version, names='value')\n",
    "system_type.observe(select_version, names='value')\n",
    "display(output)\n",
    "select_version()"
   ]
  }
 ],
 "metadata": {
  "kernelspec": {
   "display_name": "Python 3 (ipykernel)",
   "language": "python",
   "name": "python3"
  },
  "language_info": {
   "codemirror_mode": {
    "name": "ipython",
    "version": 3
   },
   "file_extension": ".py",
   "mimetype": "text/x-python",
   "name": "python",
   "nbconvert_exporter": "python",
   "pygments_lexer": "ipython3",
   "version": "3.9.13"
  }
 },
 "nbformat": 4,
 "nbformat_minor": 2
}
