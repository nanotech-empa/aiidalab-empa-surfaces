{
 "cells": [
  {
   "cell_type": "markdown",
   "metadata": {},
   "source": [
    "# Search AiiDA Database Slab optimizations"
   ]
  },
  {
   "cell_type": "code",
   "execution_count": 1,
   "metadata": {},
   "outputs": [
    {
     "data": {
      "application/vnd.jupyter.widget-view+json": {
       "model_id": "ebfcfdf9187047959fdd8f15687047fb",
       "version_major": 2,
       "version_minor": 0
      },
      "text/plain": []
     },
     "metadata": {},
     "output_type": "display_data"
    }
   ],
   "source": [
    "%aiida\n",
    "import ipywidgets as ipw\n",
    "from IPython.display import clear_output\n",
    "from apps.surfaces.widgets.search_completed_widget import SearchCompletedWidget\n",
    "from apps.surfaces.widgets import search_old_completed_widget"
   ]
  },
  {
   "cell_type": "code",
   "execution_count": 2,
   "metadata": {},
   "outputs": [
    {
     "data": {
      "application/vnd.jupyter.widget-view+json": {
       "model_id": "7c5b17e2fc9c480e9e6d38eea357b11a",
       "version_major": 2,
       "version_minor": 0
      },
      "text/plain": [
       "Output()"
      ]
     },
     "metadata": {},
     "output_type": "display_data"
    }
   ],
   "source": [
    "workchain_dict={\n",
    "    'Slab':{'label':['SlabGeoOptWorkChain','Cp2kSlabOptWorkChain'],'clabel':'slab_geo_opt','active':{}},\n",
    "    'Molecule':{'label':['MoleculeOptWorkChain','Cp2kMoleculeOptWorkChain'],'clabel':'molecule_opt','active':{}},\n",
    "    'Bulk' :{'label':['Cp2kBulkOptWorkChain','Cp2kBulkOptWorkChain'],'clabel':'','active':{'cell': False, 'volume':False,'cell_opt':False}}\n",
    "}\n",
    "old = ipw.Checkbox(\n",
    "    value=False,\n",
    "    description='OLD workchains',\n",
    "    disabled=False,\n",
    "    indent=False\n",
    ")\n",
    "system_type = ipw.Dropdown(\n",
    "    options=['Slab', 'Bulk', 'Molecule'],\n",
    "    value='Slab',\n",
    "    description='System type',\n",
    "    disabled=False,\n",
    ")\n",
    "output = ipw.Output()\n",
    "def select_version(_=None):\n",
    "    if old.value:\n",
    "        PREPROC_VERSION = 2.00\n",
    "        s=search_old_completed_widget.SearchCompletedWidget(\n",
    "            version=PREPROC_VERSION,\n",
    "            wlabel=workchain_dict[system_type.value]['label'][0],\n",
    "            clabel=workchain_dict[system_type.value]['clabel'],\n",
    "            fields_disable=workchain_dict[system_type.value]['active']\n",
    "        )     \n",
    "    else:\n",
    "        s = SearchCompletedWidget(\n",
    "            wlabel=workchain_dict[system_type.value]['label'][1],\n",
    "            fields_disable=workchain_dict[system_type.value]['active']\n",
    "        )\n",
    "    with output:\n",
    "        clear_output()\n",
    "        display(ipw.VBox([old,system_type,s]))\n",
    "        \n",
    "old.observe(select_version, names='value')\n",
    "system_type.observe(select_version, names='value')\n",
    "display(output)\n",
    "select_version()"
   ]
  },
  {
   "cell_type": "code",
   "execution_count": null,
   "metadata": {},
   "outputs": [],
   "source": []
  }
 ],
 "metadata": {
  "kernelspec": {
   "display_name": "Python 3",
   "language": "python",
   "name": "python3"
  },
  "language_info": {
   "codemirror_mode": {
    "name": "ipython",
    "version": 3
   },
   "file_extension": ".py",
   "mimetype": "text/x-python",
   "name": "python",
   "nbconvert_exporter": "python",
   "pygments_lexer": "ipython3",
   "version": "3.7.9"
  }
 },
 "nbformat": 4,
 "nbformat_minor": 2
}
