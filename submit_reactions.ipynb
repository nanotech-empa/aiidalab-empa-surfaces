{
 "cells": [
  {
   "cell_type": "markdown",
   "metadata": {},
   "source": [
    "#  Submit  NEB or Replica chain"
   ]
  },
  {
   "cell_type": "code",
   "execution_count": null,
   "metadata": {},
   "outputs": [],
   "source": [
    "%%javascript\n",
    "IPython.OutputArea.prototype._should_scroll = function(lines) {\n",
    "    return false;\n",
    "}"
   ]
  },
  {
   "cell_type": "code",
   "execution_count": null,
   "metadata": {},
   "outputs": [],
   "source": [
    "# General imports.\n",
    "import ipywidgets as ipw\n",
    "from IPython.display import clear_output\n",
    "\n",
    "# AiiDA imports.\n",
    "%load_ext aiida\n",
    "%aiida\n",
    "from aiida.plugins import  WorkflowFactory , DataFactory\n",
    "from aiida.orm import  load_code\n",
    "\n",
    "# AiiDAlab imports.\n",
    "import aiidalab_widgets_base as awb\n",
    "\n",
    "# Custom imports.\n",
    "from widgets.build_slab import BuildSlab\n",
    "from widgets.computational_resources import ProcessResourcesWidget, ResourcesEstimatorWidget\n",
    "from widgets.inputs import InputDetails\n",
    "from widgets.empa_viewer import EmpaStructureViewer\n",
    "from widgets import utils\n",
    "from widgets.ANALYZE_structure import StructureAnalyzer\n",
    "#from widgets.import_cdxml import CdxmlUpload2GnrWidget\n",
    "\n"
   ]
  },
  {
   "cell_type": "code",
   "execution_count": null,
   "metadata": {},
   "outputs": [],
   "source": [
    "Cp2kNebWorkChain = WorkflowFactory('nanotech_empa.cp2k.neb')\n",
    "Cp2kReplicaWorkChain = WorkflowFactory('nanotech_empa.cp2k.replica')"
   ]
  },
  {
   "cell_type": "code",
   "execution_count": null,
   "metadata": {},
   "outputs": [],
   "source": [
    "# Structure selector.\n",
    "empa_viewer = EmpaStructureViewer()\n",
    "build_slab = BuildSlab(title='Build slab')\n",
    "ipw.dlink((empa_viewer, 'details'), (build_slab, 'details'))\n",
    "ipw.dlink((empa_viewer, 'structure'), (build_slab, 'molecule'))\n",
    "\n",
    "structure_selector = awb.StructureManagerWidget(\n",
    "    viewer=empa_viewer,\n",
    "    importers=[\n",
    "        awb.StructureUploadWidget(title=\"Import from computer\"),\n",
    "        awb.StructureBrowserWidget(title=\"AiiDA database\"),\n",
    "        awb.OptimadeQueryWidget(embedded=True),\n",
    "        awb.SmilesWidget(title=\"From SMILES\"),\n",
    "        #CdxmlUpload2GnrWidget(title=\"CDXML\"),\n",
    "    ],\n",
    "    editors = [\n",
    "        awb.BasicStructureEditor(title=\"Edit structure\"),\n",
    "        build_slab\n",
    "    ],\n",
    "    storable=False, node_class='StructureData')\n",
    "display(structure_selector)\n",
    "\n",
    "# Code.\n",
    "computational_resources = awb.ComputationalResourcesWidget(\n",
    "            description=\"CP2K code:\", default_calc_job_plugin=\"cp2k\"\n",
    "        )\n",
    "resources = ProcessResourcesWidget()\n",
    "\n",
    "input_details = InputDetails()\n",
    "replica_or_neb = ipw.ToggleButtons(options=['Replica', 'NEB'], \n",
    "                                   description='Type:', \n",
    "                                   disabled=False, \n",
    "                                   button_style='', \n",
    "                                   tooltips=['Replica', 'NEB'], \n",
    "                                   icons=['check', 'check'], \n",
    "                                   style={'description_width': 'initial'},\n",
    "                                   value=\"NEB\")\n",
    "def on_replica_or_neb_change(change):\n",
    "    global label, the_workchain\n",
    "    if change['new'] == 'Replica':\n",
    "        label = \"CP2K_Replica\"\n",
    "        the_workchain = Cp2kReplicaWorkChain\n",
    "        input_details.replica = True\n",
    "        input_details.neb = False\n",
    "    else:\n",
    "        label = \"CP2K_NEB\"\n",
    "        the_workchain = Cp2kNebWorkChain\n",
    "        input_details.replica = False\n",
    "        input_details.neb = True\n",
    "\n",
    "replica_or_neb.observe(on_replica_or_neb_change, names='value')\n",
    "label = \"Cp2kNebWorkChain\"\n",
    "the_workchain = Cp2kNebWorkChain\n",
    "input_details.replica= False\n",
    "input_details.neb = True\n",
    "create_input = ipw.Button(description=\"Create Input\")"
   ]
  },
  {
   "cell_type": "markdown",
   "metadata": {},
   "source": [
    "# Resources"
   ]
  },
  {
   "cell_type": "code",
   "execution_count": null,
   "metadata": {},
   "outputs": [],
   "source": [
    "ipw.dlink((empa_viewer, 'details'), (input_details, 'details'))\n",
    "ipw.dlink((computational_resources, 'value'),(input_details, 'selected_code'))\n",
    "\n",
    "def prepare_inputs():\n",
    "    parameters = input_details.final_dictionary.copy()\n",
    "\n",
    "        self.ctx.wfn_cp_commands = mk_wfn_cp_commands(\n",
    "            self.ctx.neb_params[\"number_of_replica\"],\n",
    "            uuids_to_check,\n",
    "            self.inputs.code.computer,\n",
    "        )    \n",
    "\n",
    "    builder = the_workchain.get_builder()\n",
    "    builder.metadata.label = label\n",
    "    builder.metadata.description = parameters['description']    \n",
    "    builder.code = load_code(computational_resources.value)\n",
    "    builder.options = {\n",
    "            \"max_wallclock_seconds\": resources.walltime_seconds,\n",
    "            \"resources\": {\n",
    "                'num_machines': resources.nodes,\n",
    "                'num_mpiprocs_per_machine': resources.tasks_per_node,\n",
    "                'num_cores_per_mpiproc': resources.threads_per_task,\n",
    "            },\n",
    "        }\n",
    "    \n",
    "    builder.structure = structure_selector.structure_node\n",
    "    builder.dft_params = Dict(parameters['dft_params'])\n",
    "    builder.sys_params = Dict(parameters['sys_params'])\n",
    "    if 'neb_params' in parameters:\n",
    "        builder.neb_params = Dict(parameters['neb_params'])\n",
    "    \n",
    "    if 'replica_uuids' in parameters:\n",
    "        builder.replica_uuids = List(parameters['replica_uuids'])\n",
    "    if 'restart_from' in parameters:\n",
    "        builder.restart_from = Str(parameters['restart_from'])\n",
    "   \n",
    "    return builder"
   ]
  },
  {
   "cell_type": "code",
   "execution_count": null,
   "metadata": {},
   "outputs": [],
   "source": [
    "def after_submission(_=None):   \n",
    "    structure_selector.value = None\n",
    "    \n",
    "btn_submit_neb = awb.SubmitButtonWidget(Cp2kNebWorkChain, \n",
    "                                inputs_generator=prepare_inputs\n",
    "                               )\n",
    "btn_submit_replica = awb.SubmitButtonWidget(Cp2kReplicaWorkChain,\n",
    "                                inputs_generator=prepare_inputs\n",
    "                                 )\n",
    "\n",
    "btn_submit_neb.on_submitted(after_submission)\n",
    "btn_submit_replica.on_submitted(after_submission)"
   ]
  },
  {
   "cell_type": "code",
   "execution_count": null,
   "metadata": {},
   "outputs": [],
   "source": [
    "output = ipw.Output()\n",
    "def update_all(_=None):\n",
    "    btn_submit_neb.btn_submit.disabled=True\n",
    "    btn_submit_replica.btn_submit.disabled=True\n",
    " \n",
    "\n",
    "def create(_=None):\n",
    "    if computational_resources.value is None:\n",
    "        msg = 'Please selecte a code first.'\n",
    "        can_submit = False\n",
    "    else:            \n",
    "        can_submit, msg, details_dict = input_details.return_final_dictionary()\n",
    " \n",
    "    with output:\n",
    "        clear_output()\n",
    "        if can_submit:\n",
    "            print(\"Ready to submit a \",details_dict['system_type'], label, \" calculation.\" )\n",
    "            btn_submit_neb.btn_submit.disabled = not can_submit\n",
    "            btn_submit_replica.btn_submit.disabled = not can_submit\n",
    "            if replica_or_neb.value == 'Replica':\n",
    "                display(btn_submit_replica)\n",
    "            else:\n",
    "                display(btn_submit_neb)\n",
    "        else:\n",
    "            print(msg)\n",
    "\n",
    "create_input.on_click(create)\n",
    "input_details.observe(update_all, names='details')"
   ]
  },
  {
   "cell_type": "code",
   "execution_count": null,
   "metadata": {},
   "outputs": [],
   "source": [
    "# Resources estimation.\n",
    "resources_estimation = ResourcesEstimatorWidget()\n",
    "resources_estimation.link_to_resources_widget(resources)\n",
    "ipw.dlink((structure_selector, 'structure'), (input_details, 'ase_atoms'))\n",
    "ipw.dlink((empa_viewer, 'details'), (resources_estimation, 'details'))\n",
    "ipw.dlink((input_details, 'uks'), (resources_estimation, 'uks'))\n",
    "ipw.dlink((input_details, 'neb'),(resources, 'neb'))\n",
    "ipw.dlink((input_details, 'n_replica_trait'),(resources, 'n_replica_trait'))\n",
    "ipw.dlink((input_details, 'n_replica_per_group_trait'),(resources, 'n_replica_per_group_trait'))\n",
    "ipw.dlink((resources, 'nproc_replica_trait'),(input_details, 'nproc_replica_trait'))\n",
    "_ = ipw.dlink((computational_resources, 'value'), (resources_estimation, 'selected_code'))"
   ]
  },
  {
   "cell_type": "code",
   "execution_count": null,
   "metadata": {},
   "outputs": [],
   "source": [
    "display(ipw.VBox([replica_or_neb,\n",
    "                  input_details, \n",
    "                  resources, \n",
    "                  computational_resources,\n",
    "                  resources_estimation,  \n",
    "                  create_input]), \n",
    "        output)"
   ]
  }
 ],
 "metadata": {
  "kernelspec": {
   "display_name": "Python 3 (ipykernel)",
   "language": "python",
   "name": "python3"
  },
  "language_info": {
   "codemirror_mode": {
    "name": "ipython",
    "version": 3
   },
   "file_extension": ".py",
   "mimetype": "text/x-python",
   "name": "python",
   "nbconvert_exporter": "python",
   "pygments_lexer": "ipython3",
   "version": "3.9.13"
  },
  "vscode": {
   "interpreter": {
    "hash": "d4d1e4263499bec80672ea0156c357c1ee493ec2b1c70f0acce89fc37c4a6abe"
   }
  }
 },
 "nbformat": 4,
 "nbformat_minor": 2
}
