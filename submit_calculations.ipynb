{
 "cells": [
  {
   "cell_type": "markdown",
   "metadata": {},
   "source": [
    "#  Submit geo opt for molecules, slabs and bulks"
   ]
  },
  {
   "cell_type": "code",
   "execution_count": null,
   "metadata": {},
   "outputs": [],
   "source": [
    "%%javascript\n",
    "IPython.OutputArea.prototype._should_scroll = function(lines) {\n",
    "    return false;\n",
    "}"
   ]
  },
  {
   "cell_type": "code",
   "execution_count": null,
   "metadata": {},
   "outputs": [],
   "source": [
    "# General imports.\n",
    "import ipywidgets as ipw\n",
    "from IPython.display import clear_output\n",
    "\n",
    "# AiiDA imports.\n",
    "%load_ext aiida\n",
    "%aiida\n",
    "from aiida.plugins import  WorkflowFactory , DataFactory\n",
    "from aiida.orm import  load_code\n",
    "\n",
    "# AiiDAlab imports.\n",
    "import aiidalab_widgets_base as awb\n",
    "\n",
    "# Custom imports.\n",
    "from widgets.build_slab import BuildSlab\n",
    "from widgets.computational_resources import ProcessResourcesWidget, ResourcesEstimatorWidget\n",
    "from widgets.inputs import InputDetails\n",
    "from widgets.empa_viewer import EmpaStructureViewer\n",
    "from widgets.ANALYZE_structure import StructureAnalyzer\n",
    "#from widgets.import_cdxml import CdxmlUpload2GnrWidget\n",
    "\n"
   ]
  },
  {
   "cell_type": "code",
   "execution_count": null,
   "metadata": {},
   "outputs": [],
   "source": [
    "Cp2kGeoOptWorkChain = WorkflowFactory('nanotech_empa.cp2k.geo_opt')"
   ]
  },
  {
   "cell_type": "code",
   "execution_count": null,
   "metadata": {},
   "outputs": [],
   "source": [
    "# Structure selector.\n",
    "empa_viewer = EmpaStructureViewer()\n",
    "build_slab = BuildSlab(title='Build slab')\n",
    "ipw.dlink((empa_viewer, 'details'), (build_slab, 'details'))\n",
    "ipw.dlink((empa_viewer, 'structure'), (build_slab, 'molecule'))\n",
    "\n",
    "structure_selector = awb.StructureManagerWidget(\n",
    "    viewer=empa_viewer,\n",
    "    importers=[\n",
    "        awb.StructureUploadWidget(title=\"Import from computer\"),\n",
    "        awb.StructureBrowserWidget(title=\"AiiDA database\"),\n",
    "        awb.OptimadeQueryWidget(embedded=True),\n",
    "        awb.SmilesWidget(title=\"From SMILES\"),\n",
    "        #CdxmlUpload2GnrWidget(title=\"CDXML\"),\n",
    "    ],\n",
    "    editors = [\n",
    "        awb.BasicStructureEditor(title=\"Edit structure\"),\n",
    "        build_slab\n",
    "    ],\n",
    "    storable=False, node_class='StructureData')\n",
    "display(structure_selector)\n",
    "\n",
    "# Code.\n",
    "computational_resources = awb.ComputationalResourcesWidget(\n",
    "            description=\"CP2K code:\", default_calc_job_plugin=\"cp2k\"\n",
    "        )\n",
    "resources = ProcessResourcesWidget()\n",
    "\n",
    "input_details = InputDetails()\n",
    "create_input = ipw.Button(description=\"Create Input\")"
   ]
  },
  {
   "cell_type": "markdown",
   "metadata": {},
   "source": [
    "# Resources"
   ]
  },
  {
   "cell_type": "code",
   "execution_count": null,
   "metadata": {},
   "outputs": [],
   "source": [
    "ipw.dlink((empa_viewer, 'details'), (input_details, 'details'))\n",
    "ipw.dlink((computational_resources, 'value'),(input_details, 'selected_code'))\n",
    "\n",
    "def prepare_geo_opt():\n",
    "\n",
    "    dft_params = {}\n",
    "    sys_params = {}\n",
    "\n",
    "    builder = Cp2kGeoOptWorkChain.get_builder()\n",
    "    parameters = input_details.final_dictionary.copy()\n",
    "    builder.code = load_code(computational_resources.value)\n",
    "    builder.structure = structure_selector.structure_node\n",
    "    builder.charge = Int(parameters['charge'])\n",
    "    \n",
    "    ase_geom =  structure_selector.structure        \n",
    "\n",
    "    # spin guess\n",
    "    mag_list = [ 0 for t in ase_geom ]\n",
    "    if parameters['multiplicity']>0:\n",
    "        for i in awb.utils.string_range_to_list(parameters['spin_u'])[0]:\n",
    "            mag_list[i] = 1\n",
    "        for i in awb.utils.string_range_to_list(parameters['spin_d'])[0]:\n",
    "            mag_list[i] = -1 \n",
    "        builder.multiplicity = Int(parameters['multiplicity'])\n",
    "        \n",
    "    builder.magnetization_per_site = List(mag_list)    \n",
    "    builder.vdw = Bool(parameters['vdw_switch'])\n",
    "    builder.fixed_atoms = Str(parameters['fixed_atoms'])\n",
    "    builder.protocol = Str(parameters['protocol'])\n",
    "    builder.options = {\n",
    "            \"max_wallclock_seconds\": resources.walltime_seconds,\n",
    "            \"resources\": {\n",
    "                'num_machines': resources.nodes,\n",
    "                'num_mpiprocs_per_machine': resources.tasks_per_node,\n",
    "                'num_cores_per_mpiproc': resources.threads_per_task,\n",
    "            },\n",
    "        }\n",
    "    \n",
    "    builder.metadata.label = 'Cp2kGeoOptWorkChain'\n",
    "    builder.metadata.description = parameters['description'] \n",
    "\n",
    "    return builder"
   ]
  },
  {
   "cell_type": "code",
   "execution_count": null,
   "metadata": {},
   "outputs": [],
   "source": [
    "def after_submission(_=None):   \n",
    "    structure_selector.value = None\n",
    "    \n",
    "btn_submit = awb.SubmitButtonWidget(Cp2kGeoOptWorkChain, \n",
    "                                inputs_generator=prepare_geo_opt\n",
    "                               )\n",
    "\n",
    "btn_submit.on_submitted(after_submission)"
   ]
  },
  {
   "cell_type": "code",
   "execution_count": null,
   "metadata": {},
   "outputs": [],
   "source": [
    "output = ipw.Output()\n",
    "def update_all(_=None):\n",
    "    btn_submit.btn_submit.disabled=True \n",
    "\n",
    "def create(_=None):\n",
    "    if computational_resources.value is None:\n",
    "        msg = 'Please selecte a code first.'\n",
    "        can_submit = False\n",
    "    else:            \n",
    "        can_submit, msg, details_dict = input_details.return_final_dictionary()\n",
    " \n",
    "    with output:\n",
    "        clear_output()\n",
    "        if can_submit:\n",
    "            print(\"Ready to submit a \",details_dict['workchain'],\" type of calculation\" )\n",
    "            if details_dict['workchain'] == 'Cp2kGeoOptWorkChain':\n",
    "                btn_submit.btn_submit.disabled = not can_submit\n",
    "                display(btn_submit)\n",
    "        else:\n",
    "            print(msg)\n",
    "\n",
    "create_input.on_click(create)\n",
    "input_details.observe(update_all, names='details')"
   ]
  },
  {
   "cell_type": "code",
   "execution_count": null,
   "metadata": {},
   "outputs": [],
   "source": [
    "# Resources estimation.\n",
    "resources_estimation = ResourcesEstimatorWidget()\n",
    "resources_estimation.link_to_resources_widget(resources)\n",
    "ipw.dlink((empa_viewer, 'details'), (resources_estimation, 'details'))\n",
    "ipw.dlink((input_details, 'uks'), (resources_estimation, 'uks'))\n",
    "_ = ipw.dlink((computational_resources, 'value'), (resources_estimation, 'selected_code'))"
   ]
  },
  {
   "cell_type": "code",
   "execution_count": null,
   "metadata": {},
   "outputs": [],
   "source": [
    "display(ipw.VBox([input_details, resources, resources_estimation, computational_resources, create_input]), output)"
   ]
  }
 ],
 "metadata": {
  "kernelspec": {
   "display_name": "Python 3 (ipykernel)",
   "language": "python",
   "name": "python3"
  },
  "language_info": {
   "codemirror_mode": {
    "name": "ipython",
    "version": 3
   },
   "file_extension": ".py",
   "mimetype": "text/x-python",
   "name": "python",
   "nbconvert_exporter": "python",
   "pygments_lexer": "ipython3",
   "version": "3.9.13"
  },
  "vscode": {
   "interpreter": {
    "hash": "d4d1e4263499bec80672ea0156c357c1ee493ec2b1c70f0acce89fc37c4a6abe"
   }
  }
 },
 "nbformat": 4,
 "nbformat_minor": 2
}
