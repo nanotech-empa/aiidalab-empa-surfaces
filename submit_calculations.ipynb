{
 "cells": [
  {
   "cell_type": "markdown",
   "metadata": {},
   "source": [
    "#  Submit geo opt for molecules, slabs and bulks"
   ]
  },
  {
   "cell_type": "code",
   "execution_count": null,
   "metadata": {},
   "outputs": [],
   "source": [
    "%%javascript\n",
    "IPython.OutputArea.prototype._should_scroll = function(lines) {\n",
    "    return false;\n",
    "}"
   ]
  },
  {
   "cell_type": "code",
   "execution_count": null,
   "metadata": {},
   "outputs": [],
   "source": [
    "# General imports.\n",
    "import ipywidgets as ipw\n",
    "from IPython.display import clear_output\n",
    "\n",
    "# AiiDA imports.\n",
    "%load_ext aiida\n",
    "%aiida\n",
    "from aiida import orm, plugins\n",
    "\n",
    "# AiiDAlab imports.\n",
    "import aiidalab_widgets_base as awb\n",
    "\n",
    "# Custom imports.\n",
    "from surfaces_tools.widgets.build_slab import BuildSlab\n",
    "from surfaces_tools.widgets.computational_resources import ProcessResourcesWidget, ResourcesEstimatorWidget\n",
    "from surfaces_tools.widgets.inputs import InputDetails\n",
    "from surfaces_tools.widgets.empa_viewer import EmpaStructureViewer\n",
    "from surfaces_tools.utils import wfn\n",
    "from surfaces_tools.widgets.analyze_structure import StructureAnalyzer\n",
    "from surfaces_tools.widgets.cdxml import CdxmlUpload2GnrWidget"
   ]
  },
  {
   "cell_type": "code",
   "execution_count": null,
   "metadata": {},
   "outputs": [],
   "source": [
    "Cp2kGeoOptWorkChain = plugins.WorkflowFactory('nanotech_empa.cp2k.geo_opt')"
   ]
  },
  {
   "cell_type": "code",
   "execution_count": null,
   "metadata": {},
   "outputs": [],
   "source": [
    "# Structure selector.\n",
    "empa_viewer = EmpaStructureViewer()\n",
    "build_slab = BuildSlab(title='Build slab')\n",
    "ipw.dlink((empa_viewer, 'details'), (build_slab, 'details'))\n",
    "ipw.dlink((empa_viewer, 'structure'), (build_slab, 'molecule'))\n",
    "\n",
    "structure_selector = awb.StructureManagerWidget(\n",
    "    viewer=empa_viewer,\n",
    "    importers=[\n",
    "        awb.StructureUploadWidget(title=\"Import from computer\"),\n",
    "        awb.StructureBrowserWidget(title=\"AiiDA database\"),\n",
    "        awb.OptimadeQueryWidget(embedded=True),\n",
    "        awb.SmilesWidget(title=\"From SMILES\"),\n",
    "        CdxmlUpload2GnrWidget(title=\"CDXML\"),\n",
    "    ],\n",
    "    editors = [\n",
    "        awb.BasicStructureEditor(title=\"Edit structure\"),\n",
    "        build_slab\n",
    "    ],\n",
    "    storable=False, node_class='StructureData')\n",
    "display(structure_selector)\n",
    "\n",
    "# Code.\n",
    "computational_resources = awb.ComputationalResourcesWidget(\n",
    "            description=\"CP2K code:\", default_calc_job_plugin=\"cp2k\"\n",
    "        )\n",
    "resources = ProcessResourcesWidget()\n",
    "\n",
    "input_details = InputDetails()\n",
    "create_input = ipw.Button(description=\"Create Input\")"
   ]
  },
  {
   "cell_type": "markdown",
   "metadata": {},
   "source": [
    "# Resources"
   ]
  },
  {
   "cell_type": "code",
   "execution_count": null,
   "metadata": {},
   "outputs": [],
   "source": [
    "ipw.dlink((empa_viewer, 'details'), (input_details, 'details'))\n",
    "ipw.dlink((computational_resources, 'value'),(input_details, 'selected_code'))\n",
    "\n",
    "def prepare_geo_opt():\n",
    "    parameters = input_details.final_dictionary.copy()\n",
    "\n",
    "    builder = Cp2kGeoOptWorkChain.get_builder()\n",
    "    if 'cell_opt' in parameters['dft_params']:\n",
    "        builder.metadata.label += \"CP2K_CellOpt\"\n",
    "    else:\n",
    "        builder.metadata.label = \"CP2K_GeoOpt\"\n",
    "    builder.metadata.description = parameters['description']\n",
    "    code = orm.load_code(computational_resources.value)\n",
    "    builder.code = code\n",
    "    builder.options = {\n",
    "            \"max_wallclock_seconds\": resources.walltime_seconds,\n",
    "            \"resources\": {\n",
    "                'num_machines': resources.nodes,\n",
    "                'num_mpiprocs_per_machine': resources.tasks_per_node,\n",
    "                'num_cores_per_mpiproc': resources.threads_per_task,\n",
    "            },\n",
    "        }\n",
    "    \n",
    "    builder.structure = structure_selector.structure_node\n",
    "    \n",
    "    # Check if a restart wfn is available.\n",
    "    wave_function = None\n",
    "    if structure_selector.structure_node.is_stored:\n",
    "        wave_function = wfn.structure_available_wfn(\n",
    "        node=structure_selector.structure_node,\n",
    "        relative_replica_id=None,\n",
    "        current_hostname=code.computer.hostname,\n",
    "        return_path=False,\n",
    "        dft_params=parameters['dft_params'],\n",
    "        )\n",
    "    if wave_function is not None:\n",
    "        print(f\"Restarting from wfn in folder: {wave_function.pk}\")\n",
    "        builder.parent_calc_folder = wave_function\n",
    "    \n",
    "\n",
    "    builder.dft_params = Dict(parameters['dft_params'])\n",
    "    builder.sys_params = Dict(parameters['sys_params'])\n",
    "   \n",
    "    return builder"
   ]
  },
  {
   "cell_type": "code",
   "execution_count": null,
   "metadata": {},
   "outputs": [],
   "source": [
    "def after_submission(_=None):   \n",
    "    structure_selector.value = None\n",
    "\n",
    "btn_submit = awb.SubmitButtonWidget(Cp2kGeoOptWorkChain, inputs_generator=prepare_geo_opt)\n",
    "btn_submit.on_submitted(after_submission)"
   ]
  },
  {
   "cell_type": "code",
   "execution_count": null,
   "metadata": {},
   "outputs": [],
   "source": [
    "output = ipw.Output()\n",
    "def update_all(_=None):\n",
    "    btn_submit.btn_submit.disabled=True \n",
    "\n",
    "def create(_=None):\n",
    "    if computational_resources.value is None:\n",
    "        msg = 'Please select a code first.'\n",
    "        can_submit = False\n",
    "    else:            \n",
    "        can_submit, msg, details_dict = input_details.return_final_dictionary()\n",
    " \n",
    "    with output:\n",
    "        clear_output()\n",
    "        if can_submit:\n",
    "            print(\"Ready to submit a \",details_dict['system_type'],\" optimization\" )\n",
    "            btn_submit.btn_submit.disabled = not can_submit\n",
    "            display(btn_submit)\n",
    "        else:\n",
    "            print(msg)\n",
    "\n",
    "create_input.on_click(create)\n",
    "input_details.observe(update_all, names='details')"
   ]
  },
  {
   "cell_type": "code",
   "execution_count": null,
   "metadata": {},
   "outputs": [],
   "source": [
    "# Resources estimation.\n",
    "resources_estimation = ResourcesEstimatorWidget()\n",
    "resources_estimation.link_to_resources_widget(resources)\n",
    "ipw.dlink((structure_selector, 'structure'), (input_details, 'ase_atoms'))\n",
    "ipw.dlink((empa_viewer, 'details'), (resources_estimation, 'details'))\n",
    "ipw.dlink((input_details, 'uks'), (resources_estimation, 'uks'))\n",
    "_ = ipw.dlink((computational_resources, 'value'), (resources_estimation, 'selected_code'))"
   ]
  },
  {
   "cell_type": "code",
   "execution_count": null,
   "metadata": {},
   "outputs": [],
   "source": [
    "display(ipw.VBox([input_details, resources, computational_resources,resources_estimation,  create_input]), output)"
   ]
  }
 ],
 "metadata": {
  "kernelspec": {
   "display_name": "Python 3 (ipykernel)",
   "language": "python",
   "name": "python3"
  },
  "language_info": {
   "codemirror_mode": {
    "name": "ipython",
    "version": 3
   },
   "file_extension": ".py",
   "mimetype": "text/x-python",
   "name": "python",
   "nbconvert_exporter": "python",
   "pygments_lexer": "ipython3",
   "version": "3.9.13"
  },
  "vscode": {
   "interpreter": {
    "hash": "d4d1e4263499bec80672ea0156c357c1ee493ec2b1c70f0acce89fc37c4a6abe"
   }
  }
 },
 "nbformat": 4,
 "nbformat_minor": 2
}
