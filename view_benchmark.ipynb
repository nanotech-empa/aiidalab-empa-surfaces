{
 "cells": [
  {
   "cell_type": "code",
   "execution_count": null,
   "metadata": {},
   "outputs": [],
   "source": [
    "%load_ext aiida\n",
    "%aiida\n",
    "import pandas as pd\n",
    "import urllib.parse as urlparse\n",
    "import matplotlib.pyplot as plt\n",
    "\n",
    "import ipywidgets as ipw\n",
    "from aiida import orm\n",
    "#from aiidalab_widgets_base import viewer\n",
    "\n",
    "from surfaces_tools import helpers\n",
    "from surfaces_tools.widgets import comments, obsolete"
   ]
  },
  {
   "cell_type": "code",
   "execution_count": null,
   "metadata": {},
   "outputs": [],
   "source": [
    "pk = urlparse.parse_qs(urlparse.urlsplit(jupyter_notebook_url).query)[\"pk\"][0]\n",
    "workcalc = orm.load_node(pk)\n",
    "closest_50 =  workcalc.outputs.report.get_dict()['closest_to_50']\n",
    "closest_60 =  workcalc.outputs.report.get_dict()['closest_to_60']\n",
    "summary= workcalc.outputs.report.get_dict()['summary']\n",
    "timings= workcalc.outputs.report.get_dict()['min_times_per_nnodes']"
   ]
  },
  {
   "cell_type": "markdown",
   "metadata": {},
   "source": [
    "# Summary"
   ]
  },
  {
   "cell_type": "code",
   "execution_count": null,
   "metadata": {},
   "outputs": [],
   "source": [
    "print(summary)"
   ]
  },
  {
   "cell_type": "code",
   "execution_count": null,
   "metadata": {},
   "outputs": [],
   "source": [
    "label=ipw.Text(description='Label:', value='GEO_step')\n",
    "multiplier=ipw.IntText(description='Multiplier:', value=20)\n",
    "# button to crate report\n",
    "button = ipw.Button(description=\"Report\")\n",
    "output = ipw.Output()\n",
    "display(label, multiplier,button,output)"
   ]
  },
  {
   "cell_type": "code",
   "execution_count": null,
   "metadata": {},
   "outputs": [],
   "source": [
    "nodes=[]\n",
    "times=[]\n",
    "speedup=[]\n",
    "speedup_ideal=[]\n",
    "speedup_50=[]\n",
    "for nnodes, time_and_id in timings.items():\n",
    "    nodes.append(int(nnodes))\n",
    "    times.append(time_and_id[0])\n",
    "speedup = [times[0]/i for i in times]\n",
    "speedup_ideal = [i/nodes[0] for i in nodes]\n",
    "efficiency = [i/(nodes[0]*times[0]) for i in times]\n",
    "speedup_50 = [i/(2*nodes[0]) for i in nodes]\n",
    "# on button click\n",
    "def on_button_clicked(b):\n",
    "    with output:\n",
    "        output.clear_output()\n",
    "        # Creating a dictionary with the data\n",
    "        data = {\n",
    "            \"#nodes\": [int(k) for k in timings.keys()],\n",
    "            \"time (s)\": [time_and_id[0] for time_and_id in timings.values()],\n",
    "            f'{label.value} (s)': [time_and_id[0]*multiplier.value for time_and_id in timings.values()],\n",
    "            \"speed-up\": speedup,\n",
    "            \"efficiency\": efficiency,\n",
    "            \"job_id\": [time_and_id[1] for time_and_id in timings.values()],\n",
    "        }\n",
    "        # Creating a DataFrame\n",
    "        df = pd.DataFrame(data)\n",
    "        # Adding new rows for speedup targets directly to the DataFrame\n",
    "        df.loc[len(df.index)] = [f'#nodes ~60% speedup: {closest_60}', \"\", \"\",\"\",\"\",\"\"]\n",
    "        df.loc[len(df.index)] = [f'#nodes ~50% speedup: {closest_50}', \"\", \"\",\"\",\"\",\"\"]\n",
    "\n",
    "        # Display the DataFrame\n",
    "        display(df.style.hide(axis='index'))\n",
    "        #display(df)"
   ]
  },
  {
   "cell_type": "code",
   "execution_count": null,
   "metadata": {},
   "outputs": [],
   "source": [
    "# observe button click\n",
    "button.on_click(on_button_clicked)"
   ]
  },
  {
   "cell_type": "markdown",
   "metadata": {},
   "source": [
    "# Plot"
   ]
  },
  {
   "cell_type": "code",
   "execution_count": null,
   "metadata": {},
   "outputs": [],
   "source": [
    "# Create plots with pre-defined labels.\n",
    "fig, ax = plt.subplots()\n",
    "ax.plot(nodes, speedup, 'ro-', label='benchmark speedup')\n",
    "ax.plot(nodes, speedup_ideal, 'go-', label='ideal speedup')\n",
    "ax.plot(nodes, speedup_50, 'yo-', label='50% ideal speedup')\n",
    "ax.set_xlabel('# nodes')\n",
    "ax.set_ylabel('speedup')\n",
    "legend = ax.legend(loc='upper center', shadow=True, fontsize='x-large')\n",
    "\n",
    "# Put a nicer background color on the legend.\n",
    "legend.get_frame().set_facecolor('C7')\n",
    "\n",
    "plt.show()\n",
    "#plt.savefig('speedup.png',dpi=300)"
   ]
  },
  {
   "cell_type": "markdown",
   "metadata": {},
   "source": [
    "# Comments"
   ]
  },
  {
   "cell_type": "code",
   "execution_count": null,
   "metadata": {},
   "outputs": [],
   "source": [
    "comments_widget = comments.CommentsWidget(workchain=pk)\n",
    "display(comments_widget)"
   ]
  },
  {
   "cell_type": "markdown",
   "metadata": {},
   "source": [
    "# Mark calculation as obsolete "
   ]
  },
  {
   "cell_type": "code",
   "execution_count": null,
   "metadata": {},
   "outputs": [],
   "source": [
    "obsolete = obsolete.ObsoleteWidget(workchain=pk)\n",
    "display(obsolete)"
   ]
  }
 ],
 "metadata": {
  "kernelspec": {
   "display_name": "Python 3 (ipykernel)",
   "language": "python",
   "name": "python3"
  },
  "language_info": {
   "codemirror_mode": {
    "name": "ipython",
    "version": 3
   },
   "file_extension": ".py",
   "mimetype": "text/x-python",
   "name": "python",
   "nbconvert_exporter": "python",
   "pygments_lexer": "ipython3",
   "version": "3.9.13"
  }
 },
 "nbformat": 4,
 "nbformat_minor": 2
}
