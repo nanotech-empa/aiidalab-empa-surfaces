{
 "cells": [
  {
   "cell_type": "code",
   "execution_count": null,
   "metadata": {},
   "outputs": [],
   "source": [
    "%load_ext aiida\n",
    "%aiida\n",
    "import urllib.parse as urlparse\n",
    "import matplotlib.pyplot as plt\n",
    "\n",
    "import ipywidgets as ipw\n",
    "from aiida import orm\n",
    "from aiidalab_widgets_base import viewer\n",
    "\n",
    "from surfaces_tools import helpers\n",
    "from surfaces_tools.widgets import comments, obsolete"
   ]
  },
  {
   "cell_type": "code",
   "execution_count": null,
   "metadata": {},
   "outputs": [],
   "source": [
    "pk = urlparse.parse_qs(urlparse.urlsplit(jupyter_notebook_url).query)[\"pk\"][0]\n",
    "workcalc = orm.load_node(pk)\n",
    "summary= workcalc.outputs.report.get_dict()['summary']\n",
    "timings= workcalc.outputs.report.get_dict()['min_times_per_nnodes']"
   ]
  },
  {
   "cell_type": "markdown",
   "metadata": {},
   "source": [
    "# Summary"
   ]
  },
  {
   "cell_type": "code",
   "execution_count": null,
   "metadata": {},
   "outputs": [],
   "source": [
    "print(summary)"
   ]
  },
  {
   "cell_type": "markdown",
   "metadata": {},
   "source": [
    "# Plot"
   ]
  },
  {
   "cell_type": "code",
   "execution_count": null,
   "metadata": {},
   "outputs": [],
   "source": [
    "# Create plots with pre-defined labels.\n",
    "nodes=[]\n",
    "times=[]\n",
    "speedup=[]\n",
    "speedup_ideal=[]\n",
    "speedup_50=[]\n",
    "for nnodes, time in timings.items():\n",
    "    nodes.append(int(nnodes))\n",
    "    times.append(time)\n",
    "speedup = [times[0]/i for i in times]\n",
    "speedup_ideal = [i/nodes[0] for i in nodes]\n",
    "speedup_50 = [i/(2*nodes[0]) for i in nodes]\n",
    "fig, ax = plt.subplots()\n",
    "ax.plot(nodes, speedup, 'ro-', label='benchmark speedup')\n",
    "ax.plot(nodes, speedup_ideal, 'go-', label='ideal speedup')\n",
    "ax.plot(nodes, speedup_50, 'yo-', label='50% ideal speedup')\n",
    "ax.set_xlabel('# nodes')\n",
    "ax.set_ylabel('speedup')\n",
    "legend = ax.legend(loc='upper center', shadow=True, fontsize='x-large')\n",
    "\n",
    "# Put a nicer background color on the legend.\n",
    "legend.get_frame().set_facecolor('C7')\n",
    "\n",
    "plt.show()\n",
    "#plt.savefig('speedup.png',dpi=300)"
   ]
  },
  {
   "cell_type": "markdown",
   "metadata": {},
   "source": [
    "# Comments"
   ]
  },
  {
   "cell_type": "code",
   "execution_count": null,
   "metadata": {},
   "outputs": [],
   "source": [
    "comments_widget = comments.CommentsWidget(workchain=pk)\n",
    "display(comments_widget)"
   ]
  },
  {
   "cell_type": "markdown",
   "metadata": {},
   "source": [
    "# Mark calculation as obsolete "
   ]
  },
  {
   "cell_type": "code",
   "execution_count": null,
   "metadata": {},
   "outputs": [],
   "source": [
    "obsolete = obsolete.ObsoleteWidget(workchain=pk)\n",
    "display(obsolete)"
   ]
  }
 ],
 "metadata": {
  "kernelspec": {
   "display_name": "Python 3 (ipykernel)",
   "language": "python",
   "name": "python3"
  },
  "language_info": {
   "codemirror_mode": {
    "name": "ipython",
    "version": 3
   },
   "file_extension": ".py",
   "mimetype": "text/x-python",
   "name": "python",
   "nbconvert_exporter": "python",
   "pygments_lexer": "ipython3",
   "version": "3.9.13"
  }
 },
 "nbformat": 4,
 "nbformat_minor": 2
}
