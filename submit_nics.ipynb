{
 "cells": [
  {
   "cell_type": "markdown",
   "metadata": {},
   "source": [
    "# Submit NICS calculation"
   ]
  },
  {
   "cell_type": "code",
   "execution_count": null,
   "metadata": {},
   "outputs": [],
   "source": [
    "%%javascript\n",
    "IPython.OutputArea.prototype._should_scroll = function(lines) {\n",
    "    return false;\n",
    "}"
   ]
  },
  {
   "cell_type": "code",
   "execution_count": null,
   "metadata": {},
   "outputs": [],
   "source": [
    "# General imports.\n",
    "import ipywidgets as ipw\n",
    "from IPython.display import clear_output\n",
    "\n",
    "# AiiDA imports.\n",
    "%load_ext aiida\n",
    "%aiida\n",
    "# AiiDAlab imports.\n",
    "import aiidalab_widgets_base as awb\n",
    "from aiida import orm, plugins\n",
    "\n",
    "from surfaces_tools.utils import wfn\n",
    "\n",
    "# Custom imports.\n",
    "from surfaces_tools.widgets import cdxml, computational_resources, editors, inputs"
   ]
  },
  {
   "cell_type": "code",
   "execution_count": null,
   "metadata": {},
   "outputs": [],
   "source": [
    "GaussianNicsWorkChain = plugins.WorkflowFactory(\"nanotech_empa.gaussian.nics\")"
   ]
  },
  {
   "cell_type": "code",
   "execution_count": null,
   "metadata": {},
   "outputs": [],
   "source": [
    "# Structure selector.\n",
    "structure_selector = awb.StructureManagerWidget(\n",
    "    importers=[\n",
    "        awb.StructureUploadWidget(title=\"Import from computer\"),\n",
    "        awb.StructureBrowserWidget(title=\"AiiDA database\"),\n",
    "        awb.SmilesWidget(title=\"From SMILES\"),\n",
    "        cdxml.CdxmlUpload2GnrWidget(title=\"CDXML\"),\n",
    "    ],\n",
    "    editors=[\n",
    "        awb.BasicStructureEditor(title=\"Edit structure\"),\n",
    "    ],\n",
    "    storable=True,\n",
    "    node_class=\"StructureData\",\n",
    ")\n",
    "\n",
    "display(structure_selector)\n",
    "\n",
    "# Code.\n",
    "code_input_widget = awb.ComputationalResourcesWidget(\n",
    "    description=\"Gaussian code:\", default_calc_job_plugin=\"gaussian\"\n",
    ")\n",
    "resources = computational_resources.ProcessResourcesWidget()\n",
    "\n",
    "output = ipw.Output()"
   ]
  },
  {
   "cell_type": "code",
   "execution_count": null,
   "metadata": {},
   "outputs": [],
   "source": [
    "# Functional.\n",
    "functional = ipw.Dropdown(\n",
    "    value=\"B3LYP\",\n",
    "    options=[\n",
    "        \"B3LYP\",\n",
    "        \"PBE\",\n",
    "    ],\n",
    "    description=\"Functional:\",\n",
    "    style={\"description_width\": \"initial\"},\n",
    ")\n",
    "# Basis set.\n",
    "basis = ipw.Dropdown(\n",
    "    value=\"6-311G(d,p)\",\n",
    "    options=[\n",
    "        \"6-311G(d,p)\",\n",
    "    ],\n",
    "    description=\"Basis set:\",\n",
    "    style={\"description_width\": \"initial\"},\n",
    ")\n",
    "# Multiplicity.\n",
    "multiplicity = ipw.IntText(\n",
    "    value=0,\n",
    "    description=\"Multiplicity:\",\n",
    "    style={\"description_width\": \"initial\"},\n",
    ")\n",
    "# Charge.\n",
    "charge = ipw.IntText(\n",
    "    value=0,\n",
    "    description=\"Charge:\",\n",
    "    style={\"description_width\": \"initial\"},\n",
    ")\n",
    "# VdW.\n",
    "vdw = ipw.Dropdown(\n",
    "    value=\"None\",\n",
    "    options=[\n",
    "        \"None\",\n",
    "        \"GD3\",\n",
    "        \"GD3BJ\",\n",
    "    ],\n",
    "    description=\"VdW correction:\",\n",
    "    style={\"description_width\": \"initial\"},\n",
    ")\n",
    "# Height of NICS centers.\n",
    "height = ipw.FloatText(\n",
    "    value=1.0,\n",
    "    description=\"Height of NICS centers (Angstrom):\",\n",
    "    style={\"description_width\": \"initial\"},\n",
    ")\n",
    "# Optimization.\n",
    "opt = ipw.Checkbox(\n",
    "    value=True,\n",
    "    description=\"Optimize\",\n",
    "    style={\"description_width\": \"initial\"},\n",
    ")"
   ]
  },
  {
   "cell_type": "code",
   "execution_count": null,
   "metadata": {},
   "outputs": [],
   "source": [
    "workflow_description = ipw.Text(\n",
    "    description=\"Workflow description:\",\n",
    "    placeholder=\"Provide the description here.\",\n",
    "    style={\"description_width\": \"initial\"},\n",
    "    layout={\"width\": \"70%\"},\n",
    ")"
   ]
  },
  {
   "cell_type": "code",
   "execution_count": null,
   "metadata": {},
   "outputs": [],
   "source": [
    "def prepare_geometry_optimization():\n",
    "    with output:\n",
    "        clear_output()\n",
    "    if not structure_selector.structure_node:\n",
    "        can_submit, msg = False, \"Select a structure first.\"\n",
    "    elif not code_input_widget.value:\n",
    "        can_submit, msg = False, \"Select Gaussian code.\"\n",
    "    else:\n",
    "        can_submit, msg = True, \"Submitted NICS workchain\"\n",
    "\n",
    "    if not can_submit:\n",
    "        with output:\n",
    "            print(msg)\n",
    "            return\n",
    "\n",
    "    builder = GaussianNicsWorkChain.get_builder()\n",
    "    builder.metadata.label = \"Gaussian_NICS\"\n",
    "    builder.metadata.description = workflow_description.value\n",
    "    builder.gaussian_code = orm.load_code(code_input_widget.value)\n",
    "    builder.structure = structure_selector.structure_node\n",
    "    builder.multiplicity = orm.Int(multiplicity.value)\n",
    "    builder.charge = orm.Int(charge.value)\n",
    "    builder.functional = orm.Str(functional.value)\n",
    "    builder.basis_set = orm.Str(basis.value)\n",
    "    builder.empirical_dispersion = orm.Str(vdw.value)\n",
    "    builder.opt = orm.Bool(opt.value)\n",
    "\n",
    "    builder.options = orm.Dict(\n",
    "        {\n",
    "            \"max_wallclock_seconds\": resources.walltime_seconds,\n",
    "            \"max_memory_kb\": resources.total_memory_gb * 1024 * 1024,\n",
    "            \"resources\": {\n",
    "                \"num_machines\": resources.nodes,\n",
    "                \"tot_num_mpiprocs\": resources.tasks_per_node,\n",
    "            },\n",
    "        }\n",
    "    )\n",
    "\n",
    "    return builder"
   ]
  },
  {
   "cell_type": "code",
   "execution_count": null,
   "metadata": {},
   "outputs": [],
   "source": [
    "btn_submit = awb.SubmitButtonWidget(\n",
    "    GaussianNicsWorkChain,\n",
    "    inputs_generator=prepare_geometry_optimization,\n",
    "    disable_after_submit=False,\n",
    "    append_output=True,\n",
    ")"
   ]
  },
  {
   "cell_type": "markdown",
   "metadata": {},
   "source": [
    "## Parameters"
   ]
  },
  {
   "cell_type": "code",
   "execution_count": null,
   "metadata": {},
   "outputs": [],
   "source": [
    "display(ipw.VBox([functional, basis, multiplicity, charge, vdw, height, opt]))"
   ]
  },
  {
   "cell_type": "markdown",
   "metadata": {},
   "source": [
    "# Code and resources"
   ]
  },
  {
   "cell_type": "code",
   "execution_count": null,
   "metadata": {},
   "outputs": [],
   "source": [
    "display(\n",
    "    code_input_widget,\n",
    "    resources,\n",
    ")"
   ]
  },
  {
   "cell_type": "markdown",
   "metadata": {},
   "source": [
    "# Submit"
   ]
  },
  {
   "cell_type": "code",
   "execution_count": null,
   "metadata": {},
   "outputs": [],
   "source": [
    "display(workflow_description, btn_submit, output)"
   ]
  }
 ],
 "metadata": {
  "kernelspec": {
   "display_name": "Python 3 (ipykernel)",
   "language": "python",
   "name": "python3"
  },
  "language_info": {
   "codemirror_mode": {
    "name": "ipython",
    "version": 3
   },
   "file_extension": ".py",
   "mimetype": "text/x-python",
   "name": "python",
   "nbconvert_exporter": "python",
   "pygments_lexer": "ipython3",
   "version": "3.9.13"
  },
  "vscode": {
   "interpreter": {
    "hash": "d4d1e4263499bec80672ea0156c357c1ee493ec2b1c70f0acce89fc37c4a6abe"
   }
  }
 },
 "nbformat": 4,
 "nbformat_minor": 2
}
