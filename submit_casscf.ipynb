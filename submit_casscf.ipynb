{
 "cells": [
  {
   "cell_type": "markdown",
   "metadata": {},
   "source": [
    "# Submit CASSCF calculations"
   ]
  },
  {
   "cell_type": "code",
   "execution_count": null,
   "metadata": {},
   "outputs": [],
   "source": [
    "%%javascript\n",
    "IPython.OutputArea.prototype._should_scroll = function(lines) {\n",
    "    return false;\n",
    "}"
   ]
  },
  {
   "cell_type": "code",
   "execution_count": null,
   "metadata": {},
   "outputs": [],
   "source": [
    "# General imports.\n",
    "import re\n",
    "import ipywidgets as ipw\n",
    "from IPython.display import clear_output\n",
    "\n",
    "# AiiDA imports.\n",
    "%load_ext aiida\n",
    "%aiida\n",
    "# AiiDAlab imports.\n",
    "import aiidalab_widgets_base as awb\n",
    "from aiida import orm, plugins\n",
    "\n",
    "from surfaces_tools.utils import wfn\n",
    "\n",
    "# Custom imports.\n",
    "from surfaces_tools.widgets import cdxml, computational_resources, editors, inputs"
   ]
  },
  {
   "cell_type": "code",
   "execution_count": null,
   "metadata": {},
   "outputs": [],
   "source": [
    "GaussianCasscfSeriesWorkChain = WorkflowFactory(\"nanotech_empa.gaussian.casscf_series\")"
   ]
  },
  {
   "cell_type": "code",
   "execution_count": null,
   "metadata": {},
   "outputs": [],
   "source": [
    "# Structure selector.\n",
    "structure_selector = awb.StructureManagerWidget(\n",
    "    importers=[\n",
    "        awb.StructureUploadWidget(title=\"Import from computer\"),\n",
    "        awb.StructureBrowserWidget(title=\"AiiDA database\"),\n",
    "        awb.SmilesWidget(title=\"From SMILES\"),\n",
    "        cdxml.CdxmlUpload2GnrWidget(title=\"CDXML\"),\n",
    "    ],\n",
    "    editors=[\n",
    "        awb.BasicStructureEditor(title=\"Edit structure\"),\n",
    "    ],\n",
    "    storable=True,\n",
    "    node_class=\"StructureData\",\n",
    ")\n",
    "\n",
    "display(structure_selector)\n",
    "\n",
    "# Gaussian code.\n",
    "code_input_widget = awb.ComputationalResourcesWidget(\n",
    "    description=\"Gaussian code:\", default_calc_job_plugin=\"gaussian\"\n",
    ")\n",
    "# formchk code.\n",
    "formchk_code_input_widget = awb.ComputationalResourcesWidget(\n",
    "    description=\"Formchk code:\", default_calc_job_plugin=\"gaussian.formchk\"\n",
    ")\n",
    "# cubegen code.\n",
    "cubegen_code_input_widget = awb.ComputationalResourcesWidget(\n",
    "    description=\"Cubegen code:\", default_calc_job_plugin=\"gaussian.cubegen\"\n",
    ")\n",
    "\n",
    "resources = computational_resources.ProcessResourcesWidget()\n",
    "\n",
    "output = ipw.Output()"
   ]
  },
  {
   "cell_type": "code",
   "execution_count": null,
   "metadata": {},
   "outputs": [],
   "source": [
    "# Functional.\n",
    "functional = ipw.Dropdown(\n",
    "    value=\"UHF\",\n",
    "    options=[\n",
    "        \"UHF\",\"UB3LYP\",\n",
    "    ],\n",
    "    description=\"Functional:\",\n",
    "    style={\"description_width\": \"initial\"},\n",
    ")\n",
    "# Basis set.\n",
    "basis = ipw.Dropdown(\n",
    "    value=\"6-311G(d,p)\",\n",
    "    options=[\n",
    "        \"6-311G(d,p)\",\"STO-3G\",\n",
    "    ],\n",
    "    description=\"Basis set:\",\n",
    "    style={\"description_width\": \"initial\"},\n",
    ")\n",
    "# (n,m) lists.\n",
    "nm_list = ipw.Text(\n",
    "    value=\"\",\n",
    "    description=\"(n,m) lists:\",\n",
    "    placeholder=\"(2,2) (4,4)\",\n",
    "    style={\"description_width\": \"initial\"},\n",
    ")\n",
    "# start calc folder.\n",
    "start_calc_folder = ipw.Text(\n",
    "    value=\"\",\n",
    "    description=\"Start calc folder:\",\n",
    "    placeholder=\"/project/s1267/cpi/\",\n",
    "    style={\"description_width\": \"initial\"},\n",
    ")\n",
    "\n",
    "# Multiplicities list.\n",
    "multiplicities = ipw.Text(\n",
    "    value=\"\",\n",
    "    description=\"Multiplicities:\",\n",
    "    placeholder=\"1 3\",\n",
    "    style={\"description_width\": \"initial\"},\n",
    ")\n",
    "# start uno use natural orbitals of the start calculation.\n",
    "start_uno = ipw.Checkbox(\n",
    "    value=True,\n",
    "    description=\"Start UNO\",\n",
    "    style={\"description_width\": \"initial\"},\n",
    ")\n",
    "# perform CASMP2 calculation.\n",
    "casmp2 = ipw.Checkbox(\n",
    "    value=False,\n",
    "    description=\"MP2 correction\",\n",
    "    style={\"description_width\": \"initial\"},\n",
    ")\n",
    "# number of orbitals to plot.\n",
    "n_orbitals = ipw.IntText(\n",
    "    value=0,\n",
    "    description=\"Plot N*occ & N*virt orbitals. N=\",\n",
    "    style={\"description_width\": \"initial\"},\n",
    ")\n",
    "\n",
    "\n",
    "\n"
   ]
  },
  {
   "cell_type": "code",
   "execution_count": null,
   "metadata": {},
   "outputs": [],
   "source": [
    "workflow_description = ipw.Text(\n",
    "    description=\"Workflow description:\",\n",
    "    placeholder=\"Provide the description here.\",\n",
    "    style={\"description_width\": \"initial\"},\n",
    "    layout={\"width\": \"70%\"},\n",
    ")"
   ]
  },
  {
   "cell_type": "code",
   "execution_count": null,
   "metadata": {},
   "outputs": [],
   "source": [
    "def string_to_tuple_list(s):\n",
    "    # Use regex to find all tuples in the string, handling spaces\n",
    "    tuples = re.findall(r'\\(\\s*(\\d+)\\s*,\\s*(\\d+)\\s*\\)', s)\n",
    "    # Convert the list of string tuples into a list of integer tuples\n",
    "    return [(int(x), int(y)) for x, y in tuples]\n",
    "\n",
    "\n",
    "def prepare_calculation():\n",
    "    with output:\n",
    "        clear_output()\n",
    "    if not structure_selector.structure_node:\n",
    "        can_submit, msg = False, \"Select a structure first.\"\n",
    "    elif not code_input_widget.value:\n",
    "        can_submit, msg = False, \"Select Gaussian code.\"\n",
    "    elif not formchk_code_input_widget.value:\n",
    "        can_submit, msg = False, \"Select Formchk code.\"\n",
    "    elif not cubegen_code_input_widget.value:\n",
    "        can_submit, msg = False, \"Select Cubegen code.\"\n",
    "    else:\n",
    "        can_submit, msg = True, \"Submitted CASSCF workchain\"\n",
    "\n",
    "    if not can_submit:\n",
    "        with output:\n",
    "            print(msg)\n",
    "            return\n",
    "        \n",
    "    builder = GaussianCasscfSeriesWorkChain.get_builder()\n",
    "    builder.metadata.label = \"Gaussian_CASSCF_series\" \n",
    "    builder.metadata.description = workflow_description.value\n",
    "    builder.gaussian_code = orm.load_code(code_input_widget.value)\n",
    "    builder.formchk_code = orm.load_code(formchk_code_input_widget.value)\n",
    "    builder.cubegen_code = orm.load_code(cubegen_code_input_widget.value)\n",
    "    builder.nm_list = orm.List(list=string_to_tuple_list(nm_list.value))\n",
    "    builder.structure = structure_selector.structure_node\n",
    "    builder.init_functional = orm.Str(functional.value)\n",
    "    #builder.start_calc_folder = orm.Str(start_calc_folder.value)\n",
    "    builder.basis_set = orm.Str(basis.value)\n",
    "    builder.multiplicity_list = orm.List(list=[int(x) for x in multiplicities.value.split(\" \")])\n",
    "    builder.start_uno = orm.Bool(start_uno.value)\n",
    "    builder.mp2 = orm.Bool(casmp2.value)\n",
    "    builder.num_orbital_cubes = orm.Int(n_orbitals.value)\n",
    "    \n",
    "    builder.options = orm.Dict({\n",
    "        \"max_wallclock_seconds\": resources.walltime_seconds,\n",
    "        \"max_memory_kb\": resources.total_memory_gb  * 1024 * 1024,\n",
    "        \"resources\": {\n",
    "            \"num_machines\": resources.nodes,\n",
    "            \"tot_num_mpiprocs\": resources.tasks_per_node,\n",
    "        },\n",
    "    }\n",
    "    )\n",
    "\n",
    "    return builder"
   ]
  },
  {
   "cell_type": "code",
   "execution_count": null,
   "metadata": {},
   "outputs": [],
   "source": [
    "btn_submit = awb.SubmitButtonWidget(\n",
    "    GaussianCasscfSeriesWorkChain,\n",
    "    inputs_generator=prepare_calculation,\n",
    "    disable_after_submit=False,\n",
    "    append_output=True,\n",
    ")"
   ]
  },
  {
   "cell_type": "markdown",
   "metadata": {},
   "source": [
    "## Parameters"
   ]
  },
  {
   "cell_type": "code",
   "execution_count": null,
   "metadata": {},
   "outputs": [],
   "source": [
    "display(ipw.VBox([nm_list, functional, basis, start_calc_folder, multiplicities, start_uno, casmp2, n_orbitals]))"
   ]
  },
  {
   "cell_type": "markdown",
   "metadata": {},
   "source": [
    "# Code and resources"
   ]
  },
  {
   "cell_type": "code",
   "execution_count": null,
   "metadata": {},
   "outputs": [],
   "source": [
    "display(code_input_widget,\n",
    "        formchk_code_input_widget,\n",
    "        cubegen_code_input_widget,\n",
    "        resources,)"
   ]
  },
  {
   "cell_type": "markdown",
   "metadata": {},
   "source": [
    "# Submit"
   ]
  },
  {
   "cell_type": "code",
   "execution_count": null,
   "metadata": {},
   "outputs": [],
   "source": [
    "display(workflow_description, btn_submit, output)"
   ]
  }
 ],
 "metadata": {
  "kernelspec": {
   "display_name": "Python 3 (ipykernel)",
   "language": "python",
   "name": "python3"
  },
  "language_info": {
   "codemirror_mode": {
    "name": "ipython",
    "version": 3
   },
   "file_extension": ".py",
   "mimetype": "text/x-python",
   "name": "python",
   "nbconvert_exporter": "python",
   "pygments_lexer": "ipython3",
   "version": "3.9.13"
  },
  "vscode": {
   "interpreter": {
    "hash": "d4d1e4263499bec80672ea0156c357c1ee493ec2b1c70f0acce89fc37c4a6abe"
   }
  }
 },
 "nbformat": 4,
 "nbformat_minor": 2
}
