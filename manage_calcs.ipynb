{
 "cells": [
  {
   "cell_type": "code",
   "execution_count": null,
   "metadata": {},
   "outputs": [],
   "source": [
    "%load_ext aiida\n",
    "%aiida"
   ]
  },
  {
   "cell_type": "code",
   "execution_count": null,
   "metadata": {},
   "outputs": [],
   "source": [
    "\n",
    "from aiida.orm import StructureData\n",
    "from aiida.engine import CalcJob\n",
    "\n",
    "\n",
    "import ipywidgets as ipw\n",
    "from IPython.display import display, clear_output\n",
    "import common"
   ]
  },
  {
   "cell_type": "code",
   "execution_count": null,
   "metadata": {},
   "outputs": [],
   "source": [
    "%%javascript\n",
    "IPython.OutputArea.prototype._should_scroll = function(lines) {\n",
    "    return false;\n",
    "}"
   ]
  },
  {
   "cell_type": "code",
   "execution_count": null,
   "metadata": {},
   "outputs": [],
   "source": [
    "# Delete all SPM extras:\n",
    "\n",
    "#qb = QueryBuilder()\n",
    "#qb.append(StructureData)\n",
    "#\n",
    "#for struct_data in qb.all():\n",
    "#    extras = struct_data[0].extras\n",
    "#    for key in extras.keys():\n",
    "#        if key.endswith('_pk') and key.split('_')[1].isdigit():\n",
    "#            struct_data[0].delete_extra(key)"
   ]
  },
  {
   "cell_type": "code",
   "execution_count": null,
   "metadata": {},
   "outputs": [],
   "source": [
    "# Include:\n",
    "# * list all spm\n",
    "# * disable\n",
    "# * view\n",
    "# * invoke preprocess"
   ]
  },
  {
   "cell_type": "code",
   "execution_count": null,
   "metadata": {},
   "outputs": [],
   "source": [
    "# 1st preprocess everything\n",
    "common.preprocess_spm_calcs()"
   ]
  },
  {
   "cell_type": "code",
   "execution_count": null,
   "metadata": {},
   "outputs": [],
   "source": [
    "button_node_map = {}\n",
    "\n",
    "def toggle_obsolete(b):\n",
    "    node, status, structure = button_node_map[b.model_id]\n",
    "    is_obs = node.extras['obsolete'] if 'obsolete' in node.extras else False\n",
    "    node.set_extra('obsolete', not is_obs)\n",
    "    if is_obs:\n",
    "        status.value = 'Success'\n",
    "        b.description = 'Disable'\n",
    "    else:\n",
    "        status.value = 'OBSOLETE'\n",
    "        b.description = 'Enable'\n",
    "        # remove from input structure extras\n",
    "        for key, val in structure.extras.items():\n",
    "            if val == node.pk:\n",
    "                structure.delete_extra(key)\n",
    "        # remove preprocess extras\n",
    "        if 'preprocess_error' in node.extras:\n",
    "            node.delete_extra('preprocess_error')\n",
    "        if 'preprocess_successful' in node.extras:\n",
    "            node.delete_extra('preprocess_successful')\n",
    "        if 'preprocess_version' in node.extras:\n",
    "            node.delete_extra('preprocess_version')\n",
    "        \n",
    "\n",
    "table_vbox = ipw.VBox()\n",
    "\n",
    "def populate_table():\n",
    "\n",
    "    headers_and_colwidths = [\n",
    "        ('PK', '50px'),\n",
    "        ('Type', '60px'),\n",
    "        ('Creation Time', '120px'),\n",
    "        ('Structure', '200px'),\n",
    "        ('Codes', '180px'),\n",
    "        ('Status', '200px'),\n",
    "        ('Manage', '80px')\n",
    "    ]\n",
    "\n",
    "    html_h_and_cw = [(ipw.HTML('<b>%s</b>' % h_cw[0]), h_cw[1]) for h_cw in headers_and_colwidths]\n",
    "    boxed_headers = [ipw.HBox([h_cw[0]], layout=ipw.Layout(border='0.1px solid', width=h_cw[1])) for h_cw in html_h_and_cw]\n",
    "    hboxes = [ipw.HBox(boxed_headers)]\n",
    "\n",
    "    qb = QueryBuilder()\n",
    "    qb.append(WorkChainNode, filters={\n",
    "        'attributes.process_label': {'in': list(common.workchain_preproc_and_viewer_info.keys())}\n",
    "    })\n",
    "    qb.order_by({WorkChainNode:{'ctime':'desc'}})\n",
    "\n",
    "    for i, node_tuple in enumerate(qb.iterall()):\n",
    "        node = node_tuple[0]\n",
    "        if not node.is_sealed:\n",
    "            print(\"Skipping underway workchain PK %d\"%node.pk)\n",
    "            continue\n",
    "        try:\n",
    "            node_inp_dict = {e: node.inputs[e] for e in node.inputs}\n",
    "            if \"structure\" in node.inputs:\n",
    "                structure = node.inputs.structure\n",
    "            if \"slabsys_structure\" in node.inputs:\n",
    "                structure = node.inputs.slabsys_structure\n",
    "\n",
    "            struct_pk = structure.pk\n",
    "            formula = structure.extras['formula']\n",
    "            wc_name = node.attributes['process_label'] \n",
    "            calc_type = wc_name[:-9] # cut off WorkChain\n",
    "            \n",
    "            ver = 0\n",
    "            if 'version' in node.extras:\n",
    "                ver = node.extras['version']\n",
    "            \n",
    "            code_labels = sorted([val.label for key, val in node_inp_dict.items() if \"code\" in key])\n",
    "            code_str = \" \".join(code_labels)\n",
    "\n",
    "            status = \"Success\"\n",
    "            disable_toggle = ipw.Button(description='Disable', layout=ipw.Layout(width='75px'))\n",
    "            disable_toggle.on_click(lambda b: toggle_obsolete(b))\n",
    "            \n",
    "            ### ---------------------------------------------------------------\n",
    "            ### View link\n",
    "            view_link = ipw.HTML('')\n",
    "            \n",
    "            viewer_path = \"../\"+common.workchain_preproc_and_viewer_info[wc_name][ver][\"viewer_path\"]\n",
    "            view_link.value = \"<a target='_blank' href='%s?pk=%s'>View</a><br />\" % (viewer_path, node.pk)\n",
    "            ### ---------------------------------------------------------------\n",
    "\n",
    "            if 'preprocess_error' in node.extras:\n",
    "                status = \"Preproc. error: %s\" % node.extras['preprocess_error']\n",
    "                disable_toggle = ipw.HTML('')\n",
    "                view_link.value = ''\n",
    "            \n",
    "            is_obs = node.extras['obsolete'] if 'obsolete' in node.extras else False\n",
    "            if is_obs:\n",
    "                status = \"OBSOLETE\"\n",
    "                disable_toggle.description = 'Enable'\n",
    "\n",
    "            status_html = ipw.HTML(\"<p style='line-height:1.5'>%s</p>\" % status)\n",
    "            \n",
    "            button_node_map[disable_toggle.model_id] = (node, status_html, structure)\n",
    "            \n",
    "            manage_section = ipw.VBox([disable_toggle, view_link])\n",
    "\n",
    "            row_content = [\n",
    "                ipw.HTML(\"<p style='line-height:1.5'>%s</p>\" % node.pk),\n",
    "                ipw.HTML(\"<p style='line-height:1.5'>%s</p>\" % calc_type),\n",
    "                ipw.HTML(\"<p style='line-height:1.5'>%s</p>\" % node.ctime.strftime(\"%Y-%m-%d %H:%M\")),\n",
    "                ipw.HTML(\"<p style='line-height:1.5'>PK%d: %s</p>\" % (struct_pk, formula)),\n",
    "                ipw.HTML(\"<p style='line-height:1.5'>%s</p>\" % code_str),\n",
    "                status_html,\n",
    "                manage_section\n",
    "            ]\n",
    "\n",
    "            boxed_row = [ipw.HBox([row_el], layout=ipw.Layout(border='0.1px solid', width=h_cw[1]))\n",
    "                         for row_el, h_cw in zip(row_content, headers_and_colwidths)]\n",
    "\n",
    "            hboxes.append(ipw.HBox(boxed_row))\n",
    "        except Exception as e:\n",
    "            raise(e)\n",
    "            print(repr(e))\n",
    "            print(\"Data retrieval failed for pk%d\" % (node.pk))\n",
    "\n",
    "    table_vbox.children += tuple(hboxes)"
   ]
  },
  {
   "cell_type": "code",
   "execution_count": null,
   "metadata": {},
   "outputs": [],
   "source": [
    "populate_table()"
   ]
  },
  {
   "cell_type": "code",
   "execution_count": null,
   "metadata": {
    "scrolled": true
   },
   "outputs": [],
   "source": [
    "display(table_vbox)"
   ]
  },
  {
   "cell_type": "code",
   "execution_count": null,
   "metadata": {},
   "outputs": [],
   "source": []
  }
 ],
 "metadata": {
  "kernelspec": {
   "display_name": "Python 3 (ipykernel)",
   "language": "python",
   "name": "python3"
  },
  "language_info": {
   "codemirror_mode": {
    "name": "ipython",
    "version": 3
   },
   "file_extension": ".py",
   "mimetype": "text/x-python",
   "name": "python",
   "nbconvert_exporter": "python",
   "pygments_lexer": "ipython3",
   "version": "3.9.13"
  }
 },
 "nbformat": 4,
 "nbformat_minor": 2
}
