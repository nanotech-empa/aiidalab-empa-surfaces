{
 "cells": [
  {
   "cell_type": "code",
   "execution_count": null,
   "id": "7e1204d1",
   "metadata": {},
   "outputs": [],
   "source": [
    "%aiida"
   ]
  },
  {
   "cell_type": "code",
   "execution_count": null,
   "id": "091cd035",
   "metadata": {},
   "outputs": [],
   "source": [
    "import ipywidgets as ipw\n",
    "from IPython.display import clear_output\n",
    "import urllib.parse"
   ]
  },
  {
   "cell_type": "code",
   "execution_count": null,
   "id": "86577dae",
   "metadata": {},
   "outputs": [],
   "source": [
    "output = ipw.Output()\n",
    "style = {'description_width': '50px'}\n",
    "layout = {'width': '70%'}\n",
    "pk_select = ipw.IntText(value=0, description='pk', style=style, layout=layout)"
   ]
  },
  {
   "cell_type": "code",
   "execution_count": null,
   "id": "a6a8394d",
   "metadata": {},
   "outputs": [],
   "source": [
    "display(ipw.VBox([pk_select,output]))"
   ]
  },
  {
   "cell_type": "code",
   "execution_count": null,
   "id": "512568e2",
   "metadata": {},
   "outputs": [],
   "source": [
    "def load_pk(b):\n",
    "    try:\n",
    "        workcalc = load_node(pk=pk_select.value)\n",
    "        with output:\n",
    "            clear_output()\n",
    "            print('GW calc: ',pk_select.value)\n",
    "            print('Description: ',workcalc.description)\n",
    "    except:\n",
    "        print(\"Incorrect pk.\")\n",
    "        return"
   ]
  },
  {
   "cell_type": "code",
   "execution_count": null,
   "id": "4fa7c4bf",
   "metadata": {},
   "outputs": [],
   "source": [
    "### Load the URL after everything is set up ###\n",
    "try:\n",
    "    url = urllib.parse.urlsplit(jupyter_notebook_url)\n",
    "    pk_select.value = urllib.parse.parse_qs(url.query)['pk'][0]\n",
    "    load_pk(0)\n",
    "except:\n",
    "    pass"
   ]
  }
 ],
 "metadata": {
  "kernelspec": {
   "display_name": "Python 3 (ipykernel)",
   "language": "python",
   "name": "python3"
  },
  "language_info": {
   "codemirror_mode": {
    "name": "ipython",
    "version": 3
   },
   "file_extension": ".py",
   "mimetype": "text/x-python",
   "name": "python",
   "nbconvert_exporter": "python",
   "pygments_lexer": "ipython3",
   "version": "3.7.9"
  }
 },
 "nbformat": 4,
 "nbformat_minor": 5
}
