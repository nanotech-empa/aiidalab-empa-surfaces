{
 "cells": [
  {
   "cell_type": "code",
   "execution_count": null,
   "metadata": {},
   "outputs": [],
   "source": [
    "%load_ext aiida\n",
    "%aiida\n",
    "\n",
    "import numpy as np\n",
    "import ase\n",
    "import urllib.parse as urlparse\n",
    "\n",
    "import ipywidgets as ipw\n",
    "from aiida import orm\n",
    "from aiidalab_widgets_base import viewer\n",
    "\n",
    "from surfaces_tools import helpers\n",
    "from surfaces_tools.widgets import comments, obsolete\n",
    "\n",
    "from aiida_nanotech_empa.utils import cycle_tools as cyc\n",
    "\n",
    "#import pymol_render.render as pr\n",
    "import matplotlib\n",
    "import matplotlib.pyplot as plt\n",
    "import matplotlib.patheffects as path_effects\n",
    "import matplotlib.font_manager as font_manager\n",
    "from matplotlib.patches import Polygon, Rectangle"
   ]
  },
  {
   "cell_type": "code",
   "execution_count": null,
   "metadata": {},
   "outputs": [],
   "source": [
    "pk = urlparse.parse_qs(urlparse.urlsplit(jupyter_notebook_url).query)[\"pk\"][0]\n",
    "workcalc = orm.load_node(pk)"
   ]
  },
  {
   "cell_type": "code",
   "execution_count": null,
   "metadata": {},
   "outputs": [],
   "source": [
    "def get_output_dictionaries(workchain, nm_list, multiplicity_list):\n",
    "    \"\"\"\n",
    "    Retrieve output dictionaries from the workchain based on nm_list and multiplicity_list.\n",
    "\n",
    "    :param workchain: The workchain node\n",
    "    :param nm_list: List of (n, m) tuples\n",
    "    :param multiplicity_list: List of multiplicities\n",
    "    :return: Dictionary of output dictionaries\n",
    "    \"\"\"\n",
    "    output_dicts = {}\n",
    "    \n",
    "    for nm in nm_list:\n",
    "        for multiplicity in multiplicity_list:\n",
    "            key = f\"cas_{nm[0]}_{nm[1]}_m{multiplicity}_out_params\"\n",
    "            if key in workchain.outputs:\n",
    "                output_dicts[key] = workchain.outputs[key].get_dict()\n",
    "    \n",
    "    return output_dicts\n",
    "\n",
    "output_dicts = get_output_dictionaries(workcalc, workcalc.inputs.nm_list, workcalc.inputs.multiplicity_list)\n",
    "# pywidget dropdown  populated with possible combinations from the input multiplicity_list and input nm_list.\n",
    "cases_widget = ipw.Dropdown(options=list(output_dicts.keys()), description=\"Outputs:\")\n",
    "output_widget = ipw.HTML()\n",
    "\n",
    "# function to print on screen the outputs data for the selected dictionary.\n",
    "def print_dictionary():\n",
    "    key = cases_widget.value\n",
    "    output_dict = output_dicts[key]\n",
    "    output_str=\"\"\n",
    "    \n",
    "    if \"casscf_energy_ev\" in output_dict:\n",
    "        output_str += f\"<pre>CASSCF energy: {output_dict['casscf_energy_ev']} eV</pre>\"\n",
    "    if \"casmp2_energy_ev\" in output_dict:\n",
    "        output_str +=  f\"<pre>CASMP2 energy: {output_dict['casmp2_energy_ev']} eV</pre>\"\n",
    "    output_widget.value = output_str\n",
    "\n",
    "cases_widget.observe(lambda c: print_dictionary(), names='value')\n",
    "display(ipw.VBox([cases_widget,output_widget]))"
   ]
  },
  {
   "cell_type": "markdown",
   "metadata": {},
   "source": [
    "# Comments"
   ]
  },
  {
   "cell_type": "code",
   "execution_count": null,
   "metadata": {},
   "outputs": [],
   "source": [
    "comments_widget = comments.CommentsWidget(workchain=pk)\n",
    "display(comments_widget)"
   ]
  },
  {
   "cell_type": "markdown",
   "metadata": {},
   "source": [
    "# Mark calculation as obsolete "
   ]
  },
  {
   "cell_type": "code",
   "execution_count": null,
   "metadata": {},
   "outputs": [],
   "source": [
    "obsolete = obsolete.ObsoleteWidget(workchain=pk)\n",
    "display(obsolete)"
   ]
  }
 ],
 "metadata": {
  "kernelspec": {
   "display_name": "Python 3 (ipykernel)",
   "language": "python",
   "name": "python3"
  },
  "language_info": {
   "codemirror_mode": {
    "name": "ipython",
    "version": 3
   },
   "file_extension": ".py",
   "mimetype": "text/x-python",
   "name": "python",
   "nbconvert_exporter": "python",
   "pygments_lexer": "ipython3",
   "version": "3.9.13"
  }
 },
 "nbformat": 4,
 "nbformat_minor": 2
}
