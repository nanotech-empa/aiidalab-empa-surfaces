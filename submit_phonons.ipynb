{
 "cells": [
  {
   "attachments": {},
   "cell_type": "markdown",
   "metadata": {},
   "source": [
    "# Submit phonons calculation"
   ]
  },
  {
   "cell_type": "code",
   "execution_count": null,
   "metadata": {},
   "outputs": [],
   "source": [
    "%%javascript\n",
    "IPython.OutputArea.prototype._should_scroll = function(lines) {\n",
    "    return false;\n",
    "}"
   ]
  },
  {
   "cell_type": "code",
   "execution_count": null,
   "metadata": {},
   "outputs": [],
   "source": [
    "# General imports.\n",
    "import ipywidgets as ipw\n",
    "from IPython.display import clear_output\n",
    "\n",
    "# AiiDA imports.\n",
    "%load_ext aiida\n",
    "%aiida\n",
    "from aiida import orm, plugins\n",
    "\n",
    "# AiiDAlab imports.\n",
    "import aiidalab_widgets_base as awb\n",
    "\n",
    "# Custom imports.\n",
    "from surfaces_tools.widgets import build_slab, computational_resources, inputs, empa_viewer, cdxml\n",
    "from surfaces_tools.utils import wfn\n",
    "\n",
    "Cp2kPhononsWorkChain = plugins.WorkflowFactory('nanotech_empa.cp2k.phonons')"
   ]
  },
  {
   "cell_type": "code",
   "execution_count": null,
   "metadata": {},
   "outputs": [],
   "source": [
    "# Structure selector.\n",
    "empa_viewer = empa_viewer.EmpaStructureViewer()\n",
    "build_slab = build_slab.BuildSlab(title='Build slab')\n",
    "ipw.dlink((empa_viewer, 'details'), (build_slab, 'details'))\n",
    "ipw.dlink((empa_viewer, 'structure'), (build_slab, 'molecule'))\n",
    "\n",
    "structure_selector = awb.StructureManagerWidget(\n",
    "    viewer=empa_viewer,\n",
    "    importers=[\n",
    "        awb.StructureUploadWidget(title=\"Import from computer\"),\n",
    "        awb.StructureBrowserWidget(title=\"AiiDA database\"),\n",
    "        awb.OptimadeQueryWidget(embedded=True),\n",
    "        awb.SmilesWidget(title=\"From SMILES\"),\n",
    "        cdxml.CdxmlUpload2GnrWidget(title=\"CDXML\"),\n",
    "    ],\n",
    "    editors = [\n",
    "        awb.BasicStructureEditor(title=\"Edit structure\"),\n",
    "        build_slab\n",
    "    ],\n",
    "    storable=False, node_class='StructureData')\n",
    "display(structure_selector)\n",
    "\n",
    "# Code.\n",
    "code_input_widget = awb.ComputationalResourcesWidget(\n",
    "            description=\"CP2K code:\", default_calc_job_plugin=\"cp2k\"\n",
    "        )\n",
    "resources = computational_resources.ProcessResourcesWidget()\n",
    "\n",
    "protocol = ipw.Dropdown( \n",
    "            value=\"standard\",\n",
    "            options= [\n",
    "                (\"Phonons\", \"phonons\"),\n",
    "                (\"Standard\", \"standard\"),\n",
    "                (\"Low accuracy\", \"low_accuracy\"),\n",
    "                (\"Debug\", \"debug\"),\n",
    "                ],\n",
    "            description=\"Protocol:\",\n",
    "            style={\"description_width\": \"initial\"},\n",
    "        )\n",
    "\n",
    "input_details = inputs.InputDetails()\n",
    "input_details.phonons = True\n",
    "output = ipw.Output()"
   ]
  },
  {
   "cell_type": "code",
   "execution_count": null,
   "metadata": {},
   "outputs": [],
   "source": [
    "ipw.dlink((empa_viewer, 'details'), (input_details, 'details'))\n",
    "ipw.dlink((code_input_widget, 'value'),(input_details, 'selected_code'))\n",
    "\n",
    "def prepare_inputs():\n",
    "    with output:\n",
    "        clear_output()\n",
    "    if not structure_selector.structure_node:\n",
    "        can_submit, msg = False, 'Select a structure first.'\n",
    "    elif not code_input_widget.value:\n",
    "        can_submit, msg = False, 'Select CP2K code.'\n",
    "    else:  \n",
    "        can_submit, msg, parameters = input_details.return_final_dictionary()\n",
    "    \n",
    "    if not can_submit:\n",
    "        with output:\n",
    "            print(msg)\n",
    "            return\n",
    "\n",
    "    builder = Cp2kPhononsWorkChain.get_builder()\n",
    "    builder.metadata.label = \"CP2K_Phonons\"\n",
    "    builder.protocol = orm.Str(protocol.value)\n",
    "    builder.metadata.description = parameters['description']    \n",
    "    builder.code = orm.load_code(code_input_widget.value)\n",
    "    builder.options = {\n",
    "            \"max_wallclock_seconds\": resources.walltime_seconds,\n",
    "            \"withmpi\": True,\n",
    "            \"resources\": {\n",
    "                'num_machines': resources.nodes,\n",
    "                'num_mpiprocs_per_machine': resources.tasks_per_node,\n",
    "                'num_cores_per_mpiproc': resources.threads_per_task,\n",
    "            },\n",
    "        }\n",
    "    \n",
    "    builder.structure = structure_selector.structure_node\n",
    "    builder.dft_params = orm.Dict(parameters['dft_params'])\n",
    "    builder.sys_params = orm.Dict(parameters['sys_params'])\n",
    "    builder.phonons_params = orm.Dict(parameters['phonons_params'])\n",
    "\n",
    "    # Check if a restart wfn is available.\n",
    "    wave_function = None\n",
    "    if structure_selector.structure_node.is_stored:\n",
    "        wave_function = wfn.structure_available_wfn(\n",
    "        node=structure_selector.structure_node,\n",
    "        relative_replica_id=None,\n",
    "        current_hostname=builder.code.computer.hostname,\n",
    "        return_path=False,\n",
    "        dft_params=parameters['dft_params'],\n",
    "        )\n",
    "    if wave_function is not None:\n",
    "        print(f\"Restarting from wfn in folder: {wave_function.pk}\")\n",
    "        builder.parent_calc_folder = wave_function    \n",
    "   \n",
    "    return builder"
   ]
  },
  {
   "cell_type": "code",
   "execution_count": null,
   "metadata": {},
   "outputs": [],
   "source": [
    "btn_submit = awb.SubmitButtonWidget(\n",
    "    Cp2kPhononsWorkChain,\n",
    "    inputs_generator=prepare_inputs,\n",
    "    disable_after_submit=False,\n",
    "    append_output=True,\n",
    "    )"
   ]
  },
  {
   "cell_type": "code",
   "execution_count": null,
   "metadata": {},
   "outputs": [],
   "source": [
    "# Resources estimation.\n",
    "resources_estimation_button = computational_resources.ResourcesEstimatorWidget()\n",
    "resources_estimation_button.link_to_resources_widget(resources)\n",
    "ipw.dlink((structure_selector, 'structure'), (input_details, 'ase_atoms'))\n",
    "ipw.dlink((empa_viewer, 'details'), (resources_estimation_button, 'details'))\n",
    "ipw.dlink((input_details, 'uks'), (resources_estimation_button, 'uks'))\n",
    "ipw.dlink((input_details, 'phonons'),(resources, 'phonons'))\n",
    "ipw.dlink((input_details, 'n_replica_trait'),(resources, 'n_replica_trait'))\n",
    "ipw.dlink((resources, 'nproc_replica_trait'),(input_details, 'nproc_replica_trait'))\n",
    "_ = ipw.dlink((code_input_widget, 'value'), (resources_estimation_button, 'selected_code'))"
   ]
  },
  {
   "attachments": {},
   "cell_type": "markdown",
   "metadata": {},
   "source": [
    "# Inputs"
   ]
  },
  {
   "cell_type": "code",
   "execution_count": null,
   "metadata": {},
   "outputs": [],
   "source": [
    "display(input_details, protocol)"
   ]
  },
  {
   "attachments": {},
   "cell_type": "markdown",
   "metadata": {},
   "source": [
    "# Code and resources"
   ]
  },
  {
   "cell_type": "code",
   "execution_count": null,
   "metadata": {},
   "outputs": [],
   "source": [
    "display(code_input_widget, resources, resources_estimation_button)"
   ]
  },
  {
   "attachments": {},
   "cell_type": "markdown",
   "metadata": {},
   "source": [
    "# Submit"
   ]
  },
  {
   "cell_type": "code",
   "execution_count": null,
   "metadata": {},
   "outputs": [],
   "source": [
    "display(btn_submit, output)"
   ]
  }
 ],
 "metadata": {
  "kernelspec": {
   "display_name": "Python 3 (ipykernel)",
   "language": "python",
   "name": "python3"
  },
  "language_info": {
   "codemirror_mode": {
    "name": "ipython",
    "version": 3
   },
   "file_extension": ".py",
   "mimetype": "text/x-python",
   "name": "python",
   "nbconvert_exporter": "python",
   "pygments_lexer": "ipython3",
   "version": "3.9.13"
  },
  "vscode": {
   "interpreter": {
    "hash": "d4d1e4263499bec80672ea0156c357c1ee493ec2b1c70f0acce89fc37c4a6abe"
   }
  }
 },
 "nbformat": 4,
 "nbformat_minor": 2
}
