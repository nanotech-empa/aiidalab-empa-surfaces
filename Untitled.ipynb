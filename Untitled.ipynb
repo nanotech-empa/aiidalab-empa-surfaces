{
 "cells": [
  {
   "cell_type": "code",
   "execution_count": 1,
   "id": "2daab9fb",
   "metadata": {},
   "outputs": [
    {
     "data": {
      "application/json": {
       "current_state": "Loaded AiiDA DB environment - profile name: default."
      },
      "text/html": [
       "<p>Loaded AiiDA DB environment - profile name: default.</p>"
      ],
      "text/latex": [
       "Loaded AiiDA DB environment - profile name: default.\n"
      ],
      "text/plain": [
       "Loaded AiiDA DB environment - profile name: default.\n"
      ]
     },
     "execution_count": 1,
     "metadata": {},
     "output_type": "execute_result"
    }
   ],
   "source": [
    "%load_ext aiida\n",
    "%aiida"
   ]
  },
  {
   "cell_type": "code",
   "execution_count": 7,
   "id": "0f2f666b",
   "metadata": {},
   "outputs": [],
   "source": [
    "from ase import Atoms\n",
    "import collections\n",
    "import numpy as np"
   ]
  },
  {
   "cell_type": "code",
   "execution_count": 3,
   "id": "635801b5",
   "metadata": {},
   "outputs": [],
   "source": [
    "struc = Atoms('HCCCCNNH')"
   ]
  },
  {
   "cell_type": "code",
   "execution_count": 4,
   "id": "5f9cfc9c",
   "metadata": {},
   "outputs": [],
   "source": [
    "mag=[0,1,-1,0,-1,0,1,-3]\n",
    "ghost=[0,0,0,0,0,0,0,1]"
   ]
  },
  {
   "cell_type": "code",
   "execution_count": 5,
   "id": "d69912dc",
   "metadata": {},
   "outputs": [],
   "source": [
    "def determine_kinds(structure, magnetization_per_site=None, ghost_per_site=None):\n",
    "    \"\"\"Gather the same atoms with the same magnetization into one atomic kind.\"\"\"\n",
    "    ase_structure = structure#structure.get_ase()\n",
    "\n",
    "    if magnetization_per_site is None or len(magnetization_per_site) == 0:\n",
    "        magnetization_per_site = [0 for i in range(len(ase_structure))]\n",
    "    if ghost_per_site is None:\n",
    "        ghost_per_site = [0 for i in range(len(ase_structure))]\n",
    "\n",
    "    if len(magnetization_per_site) != len(ase_structure.numbers):\n",
    "        raise ValueError(\n",
    "            \"The size of `magnetization_per_site` is different from the number of atoms.\"\n",
    "        )\n",
    "    if len(ghost_per_site) != len(ase_structure.numbers):\n",
    "        raise ValueError(\n",
    "            \"The size of `ghost_per_site` is different from the number of atoms.\"\n",
    "        )\n",
    "\n",
    "    # Combine atom type with magnetizations and ghost_type\n",
    "    \n",
    "    #new\n",
    "    counters={}\n",
    "    for symbol, magn,  ghost in zip(\n",
    "            ase_structure.get_chemical_symbols(), magnetization_per_site, ghost_per_site\n",
    "        ):\n",
    "        if symbol not in counters:\n",
    "            counters[symbol]=[(magn,ghost)]\n",
    "        elif (magn,ghost) not in counters[symbol]:\n",
    "            counters[symbol].append((magn,ghost))    \n",
    "    \n",
    "    complex_symbols = [\n",
    "        f\"{symbol}_{magn}_{ghost}\"\n",
    "        for symbol, magn, ghost in zip(\n",
    "            ase_structure.get_chemical_symbols(), magnetization_per_site, ghost_per_site\n",
    "        )\n",
    "    ]\n",
    "\n",
    "    # Assign a unique tag for every atom kind. Use OrderedDict for order\n",
    "    combined={}\n",
    "    for symbol in counters:\n",
    "        tag=0\n",
    "        for mag_ghost in counters[symbol]:\n",
    "            if mag_ghost == (0,0):\n",
    "                combined[symbol+'_0_0']=0\n",
    "            else:\n",
    "                tag+=1\n",
    "                combined[symbol+'_'+str(mag_ghost[0])+'_'+str(mag_ghost[1])]=tag    \n",
    "    \n",
    "    # Assigning correct tags to every atom.\n",
    "    tags1 = [combined[key] for key in complex_symbols]\n",
    "    ase_structure.set_tags(tags1)\n",
    "\n",
    "    kinds_dict = {}\n",
    "\n",
    "    for c_symbol in combined:\n",
    "        element = c_symbol.split(\"_\")[0]\n",
    "        mag = float(c_symbol.split(\"_\")[1])\n",
    "        ghost = int(c_symbol.split(\"_\")[2])\n",
    "        tag = combined[c_symbol]\n",
    "        if tag !=0:\n",
    "            kind_name = element + str(combined[c_symbol])\n",
    "        else:\n",
    "            kind_name = element\n",
    "        info_dict = {\"mag\": mag, \"ghost\": ghost}\n",
    "        kinds_dict[kind_name] = info_dict\n",
    "    return kinds_dict,combined"
   ]
  },
  {
   "cell_type": "code",
   "execution_count": 6,
   "id": "886a7721",
   "metadata": {},
   "outputs": [
    {
     "data": {
      "text/plain": [
       "({'H': {'mag': 0.0, 'ghost': 0},\n",
       "  'H1': {'mag': -3.0, 'ghost': 1},\n",
       "  'C1': {'mag': 1.0, 'ghost': 0},\n",
       "  'C2': {'mag': -1.0, 'ghost': 0},\n",
       "  'C': {'mag': 0.0, 'ghost': 0},\n",
       "  'N': {'mag': 0.0, 'ghost': 0},\n",
       "  'N1': {'mag': 1.0, 'ghost': 0}},\n",
       " {'H_0_0': 0,\n",
       "  'H_-3_1': 1,\n",
       "  'C_1_0': 1,\n",
       "  'C_-1_0': 2,\n",
       "  'C_0_0': 0,\n",
       "  'N_0_0': 0,\n",
       "  'N_1_0': 1})"
      ]
     },
     "execution_count": 6,
     "metadata": {},
     "output_type": "execute_result"
    }
   ],
   "source": [
    "determine_kinds(struc, magnetization_per_site=mag, ghost_per_site=ghost)"
   ]
  },
  {
   "cell_type": "code",
   "execution_count": 14,
   "id": "6b12b9fe",
   "metadata": {},
   "outputs": [],
   "source": [
    "a={'a':1.0,'b':2.0}"
   ]
  },
  {
   "cell_type": "code",
   "execution_count": 15,
   "id": "334853b5",
   "metadata": {},
   "outputs": [
    {
     "data": {
      "text/plain": [
       "3.0"
      ]
     },
     "execution_count": 15,
     "metadata": {},
     "output_type": "execute_result"
    }
   ],
   "source": [
    "np.sum(np.fromiter([a[key] for key in a],dtype=Int))"
   ]
  },
  {
   "cell_type": "code",
   "execution_count": null,
   "id": "4ebea233",
   "metadata": {},
   "outputs": [],
   "source": []
  }
 ],
 "metadata": {
  "kernelspec": {
   "display_name": "Python 3 (ipykernel)",
   "language": "python",
   "name": "python3"
  },
  "language_info": {
   "codemirror_mode": {
    "name": "ipython",
    "version": 3
   },
   "file_extension": ".py",
   "mimetype": "text/x-python",
   "name": "python",
   "nbconvert_exporter": "python",
   "pygments_lexer": "ipython3",
   "version": "3.9.13"
  }
 },
 "nbformat": 4,
 "nbformat_minor": 5
}
