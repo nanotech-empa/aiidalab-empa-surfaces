{
 "cells": [
  {
   "cell_type": "code",
   "execution_count": 1,
   "id": "2daab9fb",
   "metadata": {},
   "outputs": [
    {
     "data": {
      "application/json": {
       "current_state": "Loaded AiiDA DB environment - profile name: default."
      },
      "text/html": [
       "<p>Loaded AiiDA DB environment - profile name: default.</p>"
      ],
      "text/latex": [
       "Loaded AiiDA DB environment - profile name: default.\n"
      ],
      "text/plain": [
       "Loaded AiiDA DB environment - profile name: default.\n"
      ]
     },
     "execution_count": 1,
     "metadata": {},
     "output_type": "execute_result"
    }
   ],
   "source": [
    "%load_ext aiida\n",
    "%aiida"
   ]
  },
  {
   "cell_type": "code",
   "execution_count": 34,
   "id": "0f2f666b",
   "metadata": {},
   "outputs": [],
   "source": [
    "from ase import Atoms\n",
    "import collections"
   ]
  },
  {
   "cell_type": "code",
   "execution_count": 35,
   "id": "ba9c27d0",
   "metadata": {},
   "outputs": [],
   "source": [
    "def tags_and_magnetization(structure, magnetization_per_site):\n",
    "    \"\"\"Gather the same atoms with the same magnetization into one atomic kind.\"\"\"\n",
    "    ase_structure = structure#.get_ase()\n",
    "    if magnetization_per_site:\n",
    "        if len(magnetization_per_site) != len(ase_structure.numbers):\n",
    "            raise ValueError(\n",
    "                \"The size of `magnetization_per_site` is different from the number of atoms.\"\n",
    "            )\n",
    "\n",
    "            \n",
    "        counters={}\n",
    "        for symbol, magn in zip(\n",
    "            ase_structure.get_chemical_symbols(), magnetization_per_site\n",
    "        ):\n",
    "            if symbol not in counters:\n",
    "                counters[symbol]=[magn]\n",
    "            elif magn not in counters[symbol]:\n",
    "                counters[symbol].append(magn)            \n",
    "        combined1={}\n",
    "        for symbol in counters:\n",
    "            tag=0\n",
    "            for mag in counters[symbol]:\n",
    "                if mag==0:\n",
    "                    combined1[symbol+'_0']=0\n",
    "                else:\n",
    "                    tag+=1\n",
    "                    combined1[symbol+'_'+str(mag)]=tag            \n",
    "            \n",
    "        # Combine atom type with magnetizations.\n",
    "        complex_symbols = [\n",
    "            f\"{symbol}_{magn}\"\n",
    "            for symbol, magn in zip(\n",
    "                ase_structure.get_chemical_symbols(), magnetization_per_site\n",
    "            )\n",
    "        ]\n",
    "        print(complex_symbols)\n",
    "        # Assign a unique tag for every atom kind. do not use set in enumerate to avoid random order...!\n",
    "        possible_kinds = list(dict.fromkeys(complex_symbols).keys())\n",
    "        combined = {\n",
    "            symbol: tag + 1\n",
    "            for tag, symbol in enumerate(possible_kinds)\n",
    "        }\n",
    "         \n",
    "        print( list(dict.fromkeys(complex_symbols).keys()) )\n",
    "        print('combined: ',combined)\n",
    "        # Assigning correct tags to every atom.\n",
    "        tags = [combined[key] for key in complex_symbols]\n",
    "        ase_structure.set_tags(tags)\n",
    "        # Tag-magnetization correspondance.\n",
    "        tags_correspondance = {\n",
    "            str(value): float(key.split(\"_\")[1]) for key, value in combined.items()\n",
    "        }\n",
    "        return tags,combined,combined1\n",
    "\n",
    "    # we force tags to be 0 if magnetization vector is not provided, this ensures we do not get a structure with unnecessary labels\n",
    "\n",
    "    tags = [0 for i in range(len(ase_structure))]\n",
    "    return tags"
   ]
  },
  {
   "cell_type": "code",
   "execution_count": 45,
   "id": "635801b5",
   "metadata": {},
   "outputs": [],
   "source": [
    "struc = Atoms('HCCCCNNH')"
   ]
  },
  {
   "cell_type": "code",
   "execution_count": 46,
   "id": "5f9cfc9c",
   "metadata": {},
   "outputs": [],
   "source": [
    "mag=[0,1,-1,0,-1,0,1,-3]\n",
    "ghost=[0,0,0,0,0,0,0,1]"
   ]
  },
  {
   "cell_type": "code",
   "execution_count": 38,
   "id": "e4e284ff",
   "metadata": {},
   "outputs": [
    {
     "name": "stdout",
     "output_type": "stream",
     "text": [
      "['H_0', 'C_1', 'C_-1', 'C_0', 'C_-1', 'N_0', 'N_1', 'H_-3']\n",
      "['H_0', 'C_1', 'C_-1', 'C_0', 'N_0', 'N_1', 'H_-3']\n",
      "combined:  {'H_0': 1, 'C_1': 2, 'C_-1': 3, 'C_0': 4, 'N_0': 5, 'N_1': 6, 'H_-3': 7}\n"
     ]
    },
    {
     "data": {
      "text/plain": [
       "([1, 2, 3, 4, 3, 5, 6, 7],\n",
       " {'H_0': 1, 'C_1': 2, 'C_-1': 3, 'C_0': 4, 'N_0': 5, 'N_1': 6, 'H_-3': 7},\n",
       " {'H_0': 0, 'H_-3': 1, 'C_1': 1, 'C_-1': 2, 'C_0': 0, 'N_0': 0, 'N_1': 1})"
      ]
     },
     "execution_count": 38,
     "metadata": {},
     "output_type": "execute_result"
    }
   ],
   "source": [
    "tags_and_magnetization(struc, mag)"
   ]
  },
  {
   "cell_type": "code",
   "execution_count": 39,
   "id": "d3074526",
   "metadata": {},
   "outputs": [],
   "source": [
    "ase_structure = struc\n",
    "counters={}\n",
    "for symbol, magn in zip(\n",
    "    ase_structure.get_chemical_symbols(), mag\n",
    "):\n",
    "    if symbol not in counters:\n",
    "        counters[symbol]=[magn]\n",
    "    elif magn not in counters[symbol]:\n",
    "        counters[symbol].append(magn)\n",
    "        "
   ]
  },
  {
   "cell_type": "code",
   "execution_count": 40,
   "id": "247e3a98",
   "metadata": {},
   "outputs": [
    {
     "data": {
      "text/plain": [
       "{'H': [0, -3], 'C': [1, -1, 0], 'N': [0, 1]}"
      ]
     },
     "execution_count": 40,
     "metadata": {},
     "output_type": "execute_result"
    }
   ],
   "source": [
    "counters"
   ]
  },
  {
   "cell_type": "code",
   "execution_count": 41,
   "id": "1c4e05fd",
   "metadata": {},
   "outputs": [],
   "source": [
    "combined={}\n",
    "for symbol in counters:\n",
    "    tag=0\n",
    "    for mag in counters[symbol]:\n",
    "        if mag==0:\n",
    "            combined[symbol+'_0']=0\n",
    "        else:\n",
    "            tag+=1\n",
    "            combined[symbol+'_'+str(mag)]=tag"
   ]
  },
  {
   "cell_type": "code",
   "execution_count": 42,
   "id": "df418ca2",
   "metadata": {},
   "outputs": [
    {
     "data": {
      "text/plain": [
       "{'H_0': 0, 'H_-3': 1, 'C_1': 1, 'C_-1': 2, 'C_0': 0, 'N_0': 0, 'N_1': 1}"
      ]
     },
     "execution_count": 42,
     "metadata": {},
     "output_type": "execute_result"
    }
   ],
   "source": [
    "combined"
   ]
  },
  {
   "cell_type": "code",
   "execution_count": 66,
   "id": "d69912dc",
   "metadata": {},
   "outputs": [],
   "source": [
    "def determine_kinds(structure, magnetization_per_site=None, ghost_per_site=None):\n",
    "    \"\"\"Gather the same atoms with the same magnetization into one atomic kind.\"\"\"\n",
    "    ase_structure = structure#structure.get_ase()\n",
    "\n",
    "    if magnetization_per_site is None or len(magnetization_per_site) == 0:\n",
    "        magnetization_per_site = [0 for i in range(len(ase_structure))]\n",
    "    if ghost_per_site is None:\n",
    "        ghost_per_site = [0 for i in range(len(ase_structure))]\n",
    "\n",
    "    if len(magnetization_per_site) != len(ase_structure.numbers):\n",
    "        raise ValueError(\n",
    "            \"The size of `magnetization_per_site` is different from the number of atoms.\"\n",
    "        )\n",
    "    if len(ghost_per_site) != len(ase_structure.numbers):\n",
    "        raise ValueError(\n",
    "            \"The size of `ghost_per_site` is different from the number of atoms.\"\n",
    "        )\n",
    "\n",
    "    # Combine atom type with magnetizations and ghost_type\n",
    "    \n",
    "    #new\n",
    "    counters={}\n",
    "    for symbol, magn,  ghost in zip(\n",
    "            ase_structure.get_chemical_symbols(), magnetization_per_site, ghost_per_site\n",
    "        ):\n",
    "        if symbol not in counters:\n",
    "            counters[symbol]=[(magn,ghost)]\n",
    "        elif (magn,ghost) not in counters[symbol]:\n",
    "            counters[symbol].append((magn,ghost))    \n",
    "    \n",
    "    print(counters)\n",
    "    complex_symbols = [\n",
    "        f\"{symbol}_{magn}_{ghost}\"\n",
    "        for symbol, magn, ghost in zip(\n",
    "            ase_structure.get_chemical_symbols(), magnetization_per_site, ghost_per_site\n",
    "        )\n",
    "    ]\n",
    "\n",
    "    # Assign a unique tag for every atom kind. Use OrderedDict for order\n",
    "    \n",
    "    combined1={}\n",
    "    for symbol in counters:\n",
    "        tag=0\n",
    "        for mag_ghost in counters[symbol]:\n",
    "            if mag_ghost == (0,0):\n",
    "                combined1[symbol+'_0_0']=0\n",
    "            else:\n",
    "                tag+=1\n",
    "                combined1[symbol+'_'+str(mag_ghost[0])+'_'+str(mag_ghost[1])]=tag    \n",
    "    \n",
    "    print('c1 ',combined1)\n",
    "    unique_complex_symbols = list(\n",
    "        collections.OrderedDict().fromkeys(complex_symbols).keys()\n",
    "    )\n",
    "    combined = collections.OrderedDict()\n",
    "    \n",
    "\n",
    "    element_tag_counter = {}\n",
    "    for c_symbol in unique_complex_symbols:\n",
    "        element = c_symbol.split(\"_\")[0]\n",
    "        if element not in element_tag_counter:\n",
    "            element_tag_counter[element] = 1\n",
    "        else:\n",
    "            element_tag_counter[element] += 1\n",
    "        combined[c_symbol] = element_tag_counter[element]\n",
    "\n",
    "    # Assigning correct tags to every atom.\n",
    "    tags = [combined[key] for key in complex_symbols]\n",
    "    tags1 = [combined1[key] for key in complex_symbols]\n",
    "    print(complex_symbols)\n",
    "    print('t ',tags)\n",
    "    print('t1 ',tags1)\n",
    "    ase_structure.set_tags(tags)\n",
    "\n",
    "    kinds_dict = collections.OrderedDict()\n",
    "\n",
    "    for c_symbol, tag in combined.items():\n",
    "        element = c_symbol.split(\"_\")[0]\n",
    "        mag = float(c_symbol.split(\"_\")[1])\n",
    "        ghost = int(c_symbol.split(\"_\")[2])\n",
    "\n",
    "        kind_name = element + str(tag)\n",
    "        info_dict = {\"mag\": mag, \"ghost\": ghost}\n",
    "        kinds_dict[kind_name] = info_dict\n",
    "    print('c ',combined)\n",
    "    return kinds_dict,combined"
   ]
  },
  {
   "cell_type": "code",
   "execution_count": 67,
   "id": "886a7721",
   "metadata": {},
   "outputs": [
    {
     "name": "stdout",
     "output_type": "stream",
     "text": [
      "{'H': [(0, 0), (-3, 1)], 'C': [(1, 0), (-1, 0), (0, 0)], 'N': [(0, 0), (1, 0)]}\n",
      "c1  {'H_0_0': 0, 'H_-3_1': 1, 'C_1_0': 1, 'C_-1_0': 2, 'C_0_0': 0, 'N_0_0': 0, 'N_1_0': 1}\n",
      "['H_0_0', 'C_1_0', 'C_-1_0', 'C_0_0', 'C_-1_0', 'N_0_0', 'N_1_0', 'H_-3_1']\n",
      "t  [1, 1, 2, 3, 2, 1, 2, 2]\n",
      "t1  [0, 1, 2, 0, 2, 0, 1, 1]\n",
      "c  OrderedDict([('H_0_0', 1), ('C_1_0', 1), ('C_-1_0', 2), ('C_0_0', 3), ('N_0_0', 1), ('N_1_0', 2), ('H_-3_1', 2)])\n"
     ]
    },
    {
     "data": {
      "text/plain": [
       "(OrderedDict([('H1', {'mag': 0.0, 'ghost': 0}),\n",
       "              ('C1', {'mag': 1.0, 'ghost': 0}),\n",
       "              ('C2', {'mag': -1.0, 'ghost': 0}),\n",
       "              ('C3', {'mag': 0.0, 'ghost': 0}),\n",
       "              ('N1', {'mag': 0.0, 'ghost': 0}),\n",
       "              ('N2', {'mag': 1.0, 'ghost': 0}),\n",
       "              ('H2', {'mag': -3.0, 'ghost': 1})]),\n",
       " OrderedDict([('H_0_0', 1),\n",
       "              ('C_1_0', 1),\n",
       "              ('C_-1_0', 2),\n",
       "              ('C_0_0', 3),\n",
       "              ('N_0_0', 1),\n",
       "              ('N_1_0', 2),\n",
       "              ('H_-3_1', 2)]))"
      ]
     },
     "execution_count": 67,
     "metadata": {},
     "output_type": "execute_result"
    }
   ],
   "source": [
    "determine_kinds(struc, magnetization_per_site=mag, ghost_per_site=ghost)"
   ]
  },
  {
   "cell_type": "code",
   "execution_count": null,
   "id": "6b12b9fe",
   "metadata": {},
   "outputs": [],
   "source": []
  }
 ],
 "metadata": {
  "kernelspec": {
   "display_name": "Python 3 (ipykernel)",
   "language": "python",
   "name": "python3"
  },
  "language_info": {
   "codemirror_mode": {
    "name": "ipython",
    "version": 3
   },
   "file_extension": ".py",
   "mimetype": "text/x-python",
   "name": "python",
   "nbconvert_exporter": "python",
   "pygments_lexer": "ipython3",
   "version": "3.9.13"
  }
 },
 "nbformat": 4,
 "nbformat_minor": 5
}
